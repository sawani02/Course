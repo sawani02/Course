{
 "cells": [
  {
   "cell_type": "code",
   "execution_count": 33,
   "metadata": {
    "collapsed": true
   },
   "outputs": [],
   "source": [
    "from __future__ import division\n",
    "import tarfile\n",
    "import tensorflow as tf\n",
    "import os\n",
    "import numpy as np\n",
    "import matplotlib.pyplot as plt\n",
    "import random\n",
    "# Display plots inline \n",
    "%matplotlib inline"
   ]
  },
  {
   "cell_type": "code",
   "execution_count": 34,
   "metadata": {
    "collapsed": false
   },
   "outputs": [
    {
     "name": "stdout",
     "output_type": "stream",
     "text": [
      "Training Data Loading\n",
      "Testing Data Loading\n"
     ]
    }
   ],
   "source": [
    "def gentxt(filepath,delimiter):\n",
    "    return np.genfromtxt(filepath,delimiter=delimiter,dtype=None)\n",
    "def extract():\n",
    "    print (\"Training Data Loading\")\n",
    "    \n",
    "    trainX=gentxt(\"data/trainX.csv\",delimiter='\\t')\n",
    "    trainY=gentxt(\"data/trainY.csv\",delimiter='\\t')\n",
    "    print(\"Testing Data Loading\")\n",
    "    testX=gentxt(\"data/testX.csv\",delimiter='\\t')\n",
    "    testY=gentxt(\"data/testY.csv\",delimiter='\\t')\n",
    "    return trainX,trainY,testX,testY\n",
    "trainX,trainY,testX,testY=extract()\n"
   ]
  },
  {
   "cell_type": "code",
   "execution_count": 35,
   "metadata": {
    "collapsed": false
   },
   "outputs": [
    {
     "name": "stdout",
     "output_type": "stream",
     "text": [
      "(953, 2955)\n",
      "(953, 2)\n"
     ]
    }
   ],
   "source": [
    "#Shape for X and Y\n",
    "#X has 953 rows and 2955 features\n",
    "#Y has 2 labels whether it is a spam or not\n",
    "print(trainX.shape)\n",
    "print(trainY.shape)"
   ]
  },
  {
   "cell_type": "markdown",
   "metadata": {},
   "source": [
    "# TRYING OUT DIFFERENT ITERATIONS TO FIND THE BEST ONE "
   ]
  },
  {
   "cell_type": "code",
   "execution_count": 36,
   "metadata": {
    "collapsed": true
   },
   "outputs": [],
   "source": [
    "#find out for different iterations to find out the optimal iterations\n",
    "iter1=10000\n",
    "iter2=15000\n",
    "iter3=26000\n",
    "learningRate = tf.train.exponential_decay(learning_rate=0.0008,\n",
    "                                          global_step= 1,\n",
    "                                          decay_steps=trainX.shape[0],\n",
    "                                          decay_rate= 0.95,\n",
    "                                          staircase=True)\n"
   ]
  },
  {
   "cell_type": "code",
   "execution_count": null,
   "metadata": {
    "collapsed": true
   },
   "outputs": [],
   "source": []
  },
  {
   "cell_type": "code",
   "execution_count": 37,
   "metadata": {
    "collapsed": false
   },
   "outputs": [],
   "source": [
    "#Define the placeholder variables\n",
    "numfeatures=trainX.shape[1]\n",
    "numlabels=trainY.shape[1]\n",
    "X=tf.placeholder(tf.float32,shape=[None,numfeatures])\n",
    "Y=tf.placeholder(tf.float32,shape=[None,numlabels])\n",
    "#Define the weights and biases\n",
    "#Define weights and biases as variables since it changes over the iterations\n",
    "w=tf.Variable(tf.random_normal([numfeatures,numlabels],mean=0,\n",
    "                                       stddev=(np.sqrt(6/numfeatures+\n",
    "                                                         numlabels+1))))\n",
    "b=tf.Variable(tf.random_normal([1,numlabels],mean=0,\n",
    "                                       stddev=(np.sqrt(6/numfeatures+\n",
    "                                                         numlabels+1))))\n"
   ]
  },
  {
   "cell_type": "code",
   "execution_count": 38,
   "metadata": {
    "collapsed": false
   },
   "outputs": [],
   "source": [
    "#Find out the predicted Y value\n",
    "init=tf.initialize_all_variables()\n",
    "Y_predicted=tf.nn.sigmoid(tf.add(tf.matmul(X,w),b))\n"
   ]
  },
  {
   "cell_type": "code",
   "execution_count": 39,
   "metadata": {
    "collapsed": true
   },
   "outputs": [],
   "source": [
    "#Define the loss function and optimizer\n",
    "#We use a mean squared loss function\n",
    "#There is a function in tensorflow tf.nn.l2_loss which finds the mean squared loss without square root\n",
    "loss=tf.nn.l2_loss(Y_predicted-Y)\n",
    "optimizer=tf.train.GradientDescentOptimizer(learningRate).minimize(loss)"
   ]
  },
  {
   "cell_type": "code",
   "execution_count": 40,
   "metadata": {
    "collapsed": false
   },
   "outputs": [
    {
     "name": "stdout",
     "output_type": "stream",
     "text": [
      "The error has been reduced to 0.0944386124611\n",
      "0.905561\n"
     ]
    }
   ],
   "source": [
    "#Define the session to compute the graph\n",
    "errors=[]\n",
    "with tf.Session() as sess:\n",
    "    sess.run(init)\n",
    "    prediction=tf.equal(tf.argmax(Y,1),tf.argmax(Y_predicted,1))\n",
    "    accuracy=tf.reduce_mean(tf.cast(prediction,\"float\"))\n",
    "    for i in range (iter1):\n",
    "        sess.run(optimizer,feed_dict={X:trainX,Y:trainY})\n",
    "        accuracy_value=accuracy.eval(feed_dict={X:trainX,Y:trainY})\n",
    "        errors.append(1-accuracy_value)\n",
    "    print(\"The error has been reduced to\",errors[-1])\n",
    "    print(sess.run(accuracy,feed_dict={X:trainX,Y:trainY}))\n",
    "    \n",
    "    \n",
    "    "
   ]
  },
  {
   "cell_type": "code",
   "execution_count": 32,
   "metadata": {
    "collapsed": false
   },
   "outputs": [
    {
     "name": "stderr",
     "output_type": "stream",
     "text": [
      "/usr/local/lib/python3.4/dist-packages/numpy/core/_methods.py:59: RuntimeWarning: Mean of empty slice.\n",
      "  warnings.warn(\"Mean of empty slice.\", RuntimeWarning)\n"
     ]
    },
    {
     "data": {
      "image/png": "[encoded data removed]",
      "text/plain": [
       "<matplotlib.figure.Figure at 0x7f3473c00b70>"
      ]
     },
     "metadata": {},
     "output_type": "display_data"
    }
   ],
   "source": [
    "plt.plot([np.mean(errors[i-50:i]) for i in range(len(errors))])\n",
    "plt.show()"
   ]
  },
  {
   "cell_type": "code",
   "execution_count": 72,
   "metadata": {
    "collapsed": false
   },
   "outputs": [
    {
     "name": "stdout",
     "output_type": "stream",
     "text": [
      "The error has been reduced to 0.0545645356178\n",
      "0.945435\n"
     ]
    }
   ],
   "source": [
    "errors=[]\n",
    "with tf.Session() as sess:\n",
    "    sess.run(init)\n",
    "    prediction=tf.equal(tf.argmax(Y,1),tf.argmax(Y_predicted,1))\n",
    "    accuracy=tf.reduce_mean(tf.cast(prediction,\"float\"))\n",
    "    for i in range (iter2):\n",
    "        sess.run(optimizer,feed_dict={X:trainX,Y:trainY})\n",
    "        accuracy_value=sess.run(accuracy,feed_dict={X:trainX,Y:trainY})\n",
    "        errors.append(1-accuracy_value)\n",
    "    print(\"The error has been reduced to\",errors[-1])\n",
    "    print(sess.run(accuracy,feed_dict={X:trainX,Y:trainY}))\n",
    "    \n"
   ]
  },
  {
   "cell_type": "code",
   "execution_count": 73,
   "metadata": {
    "collapsed": false
   },
   "outputs": [
    {
     "name": "stderr",
     "output_type": "stream",
     "text": [
      "/usr/local/lib/python3.4/dist-packages/numpy/core/_methods.py:59: RuntimeWarning: Mean of empty slice.\n",
      "  warnings.warn(\"Mean of empty slice.\", RuntimeWarning)\n"
     ]
    },
    {
     "data": {
      "image/png": "[encoded data removed]",
      "text/plain": [
       "<matplotlib.figure.Figure at 0x7ff6add06400>"
      ]
     },
     "metadata": {},
     "output_type": "display_data"
    }
   ],
   "source": [
    "plt.plot([np.mean(errors[i-50:i]) for i in range(len(errors))])\n",
    "plt.show()"
   ]
  },
  {
   "cell_type": "markdown",
   "metadata": {},
   "source": [
    "# FOUND THAT ACCURACY IS BETTER WITH ~26K ITERATIONS\n"
   ]
  },
  {
   "cell_type": "code",
   "execution_count": 16,
   "metadata": {
    "collapsed": false
   },
   "outputs": [
    {
     "name": "stdout",
     "output_type": "stream",
     "text": [
      "The error has been reduced to 0.0482686161995\n",
      "0.951731\n"
     ]
    },
    {
     "name": "stderr",
     "output_type": "stream",
     "text": [
      "/usr/local/lib/python3.4/dist-packages/numpy/core/_methods.py:59: RuntimeWarning: Mean of empty slice.\n",
      "  warnings.warn(\"Mean of empty slice.\", RuntimeWarning)\n"
     ]
    },
    {
     "data": {
      "image/png": "[encoded data removed]",
      "text/plain": [
       "<matplotlib.figure.Figure at 0x7f3473c26400>"
      ]
     },
     "metadata": {},
     "output_type": "display_data"
    }
   ],
   "source": [
    "errors=[]\n",
    "with tf.Session() as sess:\n",
    "    sess.run(init)\n",
    "    prediction=tf.equal(tf.argmax(Y,1),tf.argmax(Y_predicted,1))\n",
    "    accuracy=tf.reduce_mean(tf.cast(prediction,\"float\"))\n",
    "    for i in range (iter3):\n",
    "        sess.run(optimizer,feed_dict={X:trainX,Y:trainY})\n",
    "        accuracy_value=sess.run(accuracy,feed_dict={X:trainX,Y:trainY})\n",
    "        errors.append(1-accuracy_value)\n",
    "    print(\"The error has been reduced to\",errors[-1])\n",
    "    print(sess.run(accuracy,feed_dict={X:trainX,Y:trainY}))\n",
    "    \n",
    "plt.plot([np.mean(errors[i-50:i]) for i in range(len(errors))])\n",
    "plt.show()"
   ]
  },
  {
   "cell_type": "code",
   "execution_count": null,
   "metadata": {
    "collapsed": true
   },
   "outputs": [],
   "source": [
    "plt.plot([np.mean(errors[i-50:i]) for i in range(len(errors))])\n",
    "plt.show()"
   ]
  },
  {
   "cell_type": "markdown",
   "metadata": {},
   "source": [
    "# PART B: \n",
    "# WE ADD A HIDDEN LAYER WITH 4 NODES .\n"
   ]
  },
  {
   "cell_type": "code",
   "execution_count": 22,
   "metadata": {
    "collapsed": true
   },
   "outputs": [],
   "source": [
    "iter4=26000\n",
    "learningRate = tf.train.exponential_decay(learning_rate=0.0008,\n",
    "                                          global_step= 1,\n",
    "                                          decay_steps=trainX.shape[0],\n",
    "                                          decay_rate= 0.95,\n",
    "                                          staircase=True)"
   ]
  },
  {
   "cell_type": "code",
   "execution_count": 25,
   "metadata": {
    "collapsed": false
   },
   "outputs": [],
   "source": [
    "\n"
   ]
  },
  {
   "cell_type": "code",
   "execution_count": 26,
   "metadata": {
    "collapsed": true
   },
   "outputs": [],
   "source": [
    "init=tf.initialize_all_variables()\n",
    "h1=tf.nn.sigmoid(tf.add(tf.matmul(X,w1),b1))\n",
    "Y_predicted = tf.nn.sigmoid(tf.add(tf.matmul(h1, w2), b2))\n",
    "\n",
    "#Define the loss function and optimizer\n",
    "#We use a mean squared loss function\n",
    "#There is a function in tensorflow tf.nn.l2_loss which finds the mean squared loss without square root\n",
    "loss=tf.nn.l2_loss(Y_predicted-Y)\n",
    "optimizer=tf.train.GradientDescentOptimizer(learningRate).minimize(loss)"
   ]
  },
  {
   "cell_type": "code",
   "execution_count": 29,
   "metadata": {
    "collapsed": false
   },
   "outputs": [
    {
     "name": "stdout",
     "output_type": "stream",
     "text": [
      "The error has been reduced to 0.00839453935623\n",
      "0.991605\n"
     ]
    }
   ],
   "source": [
    "errors=[]\n",
    "with tf.Session() as sess:\n",
    "    sess.run(init)\n",
    "    prediction=tf.equal(tf.argmax(Y,1),tf.argmax(Y_predicted,1))\n",
    "    accuracy=tf.reduce_mean(tf.cast(prediction,\"float\"))\n",
    "    for i in range (iter4):\n",
    "        sess.run(optimizer,feed_dict={X:trainX,Y:trainY})\n",
    "        accuracy_value=accuracy.eval(feed_dict={X:trainX,Y:trainY})\n",
    "        errors.append(1-accuracy_value)\n",
    "    print(\"The error has been reduced to\",errors[-1])\n",
    "    print(sess.run(accuracy,feed_dict={X:trainX,Y:trainY}))\n",
    "    `\n"
   ]
  },
  {
   "cell_type": "markdown",
   "metadata": {},
   "source": [
    "# WHEN WE ADD A HIDDEN LAYER WITH SAME NUMBER OF ITERATIONS,ACCURACY INCREASES TO 99%"
   ]
  },
  {
   "cell_type": "code",
   "execution_count": 30,
   "metadata": {
    "collapsed": false
   },
   "outputs": [
    {
     "name": "stderr",
     "output_type": "stream",
     "text": [
      "/usr/local/lib/python3.4/dist-packages/numpy/core/_methods.py:59: RuntimeWarning: Mean of empty slice.\n",
      "  warnings.warn(\"Mean of empty slice.\", RuntimeWarning)\n"
     ]
    },
    {
     "data": {
      "image/png": "[encoded data removed]",
      "text/plain": [
       "<matplotlib.figure.Figure at 0x7f34c1400f28>"
      ]
     },
     "metadata": {},
     "output_type": "display_data"
    }
   ],
   "source": [
    "plt.plot([np.mean(errors[i-50:i]) for i in range(len(errors))])\n",
    "plt.show()"
   ]
  },
  {
   "cell_type": "code",
   "execution_count": null,
   "metadata": {
    "collapsed": true
   },
   "outputs": [],
   "source": []
  }
 ],
 "metadata": {
  "kernelspec": {
   "display_name": "Python 3",
   "language": "python",
   "name": "python3"
  },
  "language_info": {
   "codemirror_mode": {
    "name": "ipython",
    "version": 3
   },
   "file_extension": ".py",
   "mimetype": "text/x-python",
   "name": "python",
   "nbconvert_exporter": "python",
   "pygments_lexer": "ipython3",
   "version": "3.4.3"
  }
 },
 "nbformat": 4,
 "nbformat_minor": 1
}
