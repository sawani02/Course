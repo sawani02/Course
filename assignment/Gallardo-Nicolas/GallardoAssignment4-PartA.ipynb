{
 "cells": [
  {
   "cell_type": "code",
   "execution_count": 1,
   "metadata": {
    "collapsed": false
   },
   "outputs": [],
   "source": [
    "# Import the required packages\n",
    "################\n",
    "### PREAMBLE ###\n",
    "################\n",
    "\n",
    "from __future__ import division\n",
    "import tensorflow as tf\n",
    "import numpy as np\n",
    "import tarfile\n",
    "import os\n",
    "import matplotlib\n",
    "matplotlib.use('Agg')\n",
    "import matplotlib.pyplot as plt\n",
    "%matplotlib inline\n",
    "import time"
   ]
  },
  {
   "cell_type": "code",
   "execution_count": 2,
   "metadata": {
    "collapsed": false
   },
   "outputs": [
    {
     "name": "stdout",
     "output_type": "stream",
     "text": [
      "loading training data\n",
      "loading test data\n",
      "data loaded\n"
     ]
    }
   ],
   "source": [
    "###################\n",
    "### IMPORT DATA ###\n",
    "###################\n",
    "\n",
    "def csv_to_numpy_array(filePath, delimiter):\n",
    "    return np.genfromtxt(filePath, delimiter=delimiter, dtype=None)\n",
    "\n",
    "def import_data():\n",
    "    if \"data\" not in os.listdir(os.getcwd()):\n",
    "        # Untar directory of data if we haven't already\n",
    "        tarObject = tarfile.open(\"data.tar.gz\")\n",
    "        tarObject.extractall()\n",
    "        tarObject.close()\n",
    "        print(\"Extracted tar to current directory\")\n",
    "    else:\n",
    "        # we've already extracted the files\n",
    "        pass\n",
    "\n",
    "    print(\"loading training data\")\n",
    "    trainX = csv_to_numpy_array(\"data/trainX.csv\", delimiter=\"\\t\")\n",
    "    trainY = csv_to_numpy_array(\"data/trainY.csv\", delimiter=\"\\t\")\n",
    "    print(\"loading test data\")\n",
    "    testX = csv_to_numpy_array(\"data/testX.csv\", delimiter=\"\\t\")\n",
    "    testY = csv_to_numpy_array(\"data/testY.csv\", delimiter=\"\\t\")\n",
    "    return trainX,trainY,testX,testY\n",
    "\n",
    "trainX,trainY,testX,testY = import_data()\n",
    "print(\"data loaded\")"
   ]
  },
  {
   "cell_type": "code",
   "execution_count": 3,
   "metadata": {
    "collapsed": true
   },
   "outputs": [],
   "source": [
    "#########################\n",
    "### GLOBAL PARAMETERS ###\n",
    "#########################\n",
    "\n",
    "## DATA SET PARAMETERS\n",
    "# Get our dimensions for our different variables and placeholders:\n",
    "# numFeatures = the number of words extracted from each email\n",
    "numFeatures = trainX.shape[1]\n",
    "# numLabels = number of classes we are predicting (here just 2: Ham or Spam)\n",
    "numLabels = trainY.shape[1]\n",
    "\n",
    "## TRAINING SESSION PARAMETERS\n",
    "# number of times we iterate through training data\n",
    "# tensorboard shows that accuracy plateaus at ~25k epochs\n",
    "numEpochs = 26000\n",
    "# a smarter learning rate for gradientOptimizer\n",
    "learningRate = tf.train.exponential_decay(learning_rate=0.001,\n",
    "                                          global_step= 1,\n",
    "                                          decay_steps=trainX.shape[0],\n",
    "                                          decay_rate= 0.95,\n",
    "                                          staircase=True)"
   ]
  },
  {
   "cell_type": "code",
   "execution_count": 4,
   "metadata": {
    "collapsed": true
   },
   "outputs": [],
   "source": [
    "####################\n",
    "### PLACEHOLDERS ###\n",
    "####################\n",
    "\n",
    "# X = X-matrix / feature-matrix / data-matrix... It's a tensor to hold our email\n",
    "# data. 'None' here means that we can hold any number of emails\n",
    "X = tf.placeholder(tf.float32, [None, numFeatures])\n",
    "# yGold = Y-matrix / label-matrix / labels... This will be our correct answers\n",
    "# matrix. Every row has either [1,0] for SPAM or [0,1] for HAM. 'None' here \n",
    "# means that we can hold any number of emails\n",
    "yGold = tf.placeholder(tf.float32, [None, numLabels])"
   ]
  },
  {
   "cell_type": "code",
   "execution_count": 6,
   "metadata": {
    "collapsed": false
   },
   "outputs": [],
   "source": [
    "#################\n",
    "### VARIABLES ###\n",
    "#################\n",
    "\n",
    "# Values are randomly sampled from a Gaussian with a standard deviation of:\n",
    "#     sqrt(6 / (numInputNodes + numOutputNodes + 1))\n",
    "\n",
    "weights = tf.Variable(tf.random_normal([numFeatures,numLabels],\n",
    "                                       mean=0,\n",
    "                                       stddev=(np.sqrt(6/numFeatures+\n",
    "                                                         numLabels+1)),\n",
    "                                       name=\"weights\"))\n",
    "\n",
    "bias = tf.Variable(tf.random_normal([1,numLabels],\n",
    "                                    mean=0,\n",
    "                                    stddev=(np.sqrt(6/numFeatures+numLabels+1)),\n",
    "                                    name=\"bias\"))"
   ]
  },
  {
   "cell_type": "code",
   "execution_count": 7,
   "metadata": {
    "collapsed": false
   },
   "outputs": [],
   "source": [
    "######################\n",
    "### PREDICTION OPS ###\n",
    "######################\n",
    "\n",
    "# INITIALIZE our weights and biases\n",
    "init_OP = tf.initialize_all_variables()\n",
    "\n",
    "# PREDICTION ALGORITHM i.e. FEEDFORWARD ALGORITHM\n",
    "apply_weights_OP = tf.matmul(X, weights, name=\"apply_weights\")\n",
    "add_bias_OP = tf.add(apply_weights_OP, bias, name=\"add_bias\") \n",
    "activation_OP = tf.nn.sigmoid(add_bias_OP, name=\"activation\")\n",
    "\n",
    "\n",
    "################################################################\n",
    "# With hidden layer\n",
    "\n",
    "#apply_weights_OP_h = tf.matmul(X, weights_h, name=\"apply_weights_h\")\n",
    "#add_bias_OP_h = tf.add(apply_weights_OP_h, bias_h, name=\"add_bias_h\") \n",
    "#activation_OP_h = tf.nn.sigmoid(add_bias_OP_h, name=\"activation_h\")\n",
    "##activation_OP_h = tf.transpose(activation_OP_h)\n",
    "#weights = tf.transpose(weights)\n",
    "#apply_weights_OP = tf.matmul(activation_OP_h,weights, name=\"apply_weights\")\n",
    "#add_bias_OP = tf.add(apply_weights_OP, bias, name=\"add_bias\") \n",
    "#activation_OP = tf.nn.sigmoid(add_bias_OP, name=\"activation\")\n",
    "#activation_OP = tf.transpose(activation_OP)\n",
    "################################################################"
   ]
  },
  {
   "cell_type": "code",
   "execution_count": 8,
   "metadata": {
    "collapsed": true
   },
   "outputs": [],
   "source": [
    "#####################\n",
    "### EVALUATION OP ###\n",
    "#####################\n",
    "\n",
    "# COST FUNCTION i.e. MEAN SQUARED ERROR\n",
    "cost_OP = tf.nn.l2_loss(activation_OP-yGold, name=\"squared_error_cost\")"
   ]
  },
  {
   "cell_type": "code",
   "execution_count": 9,
   "metadata": {
    "collapsed": true
   },
   "outputs": [],
   "source": [
    "#######################\n",
    "### OPTIMIZATION OP ###\n",
    "#######################\n",
    "\n",
    "# OPTIMIZATION ALGORITHM i.e. GRADIENT DESCENT\n",
    "training_OP = tf.train.GradientDescentOptimizer(learningRate).minimize(cost_OP)\n"
   ]
  },
  {
   "cell_type": "code",
   "execution_count": 10,
   "metadata": {
    "collapsed": false
   },
   "outputs": [
    {
     "name": "stdout",
     "output_type": "stream",
     "text": [
      "step 0, training accuracy 0.474292\n",
      "step 0, cost 283.743\n",
      "step 0, change in cost 283.743\n",
      "step 1000, training accuracy 0.657922\n",
      "step 1000, cost 223.803\n",
      "step 1000, change in cost 59.9399\n",
      "step 2000, training accuracy 0.70829\n",
      "step 2000, cost 215.404\n",
      "step 2000, change in cost 8.39948\n",
      "step 3000, training accuracy 0.766002\n",
      "step 3000, cost 207.595\n",
      "step 3000, change in cost 7.8091\n",
      "step 4000, training accuracy 0.804827\n",
      "step 4000, cost 200.334\n",
      "step 4000, change in cost 7.26073\n",
      "step 5000, training accuracy 0.852046\n",
      "step 5000, cost 193.578\n",
      "step 5000, change in cost 6.75641\n",
      "step 6000, training accuracy 0.869885\n",
      "step 6000, cost 187.283\n",
      "step 6000, change in cost 6.29494\n",
      "step 7000, training accuracy 0.886674\n",
      "step 7000, cost 181.409\n",
      "step 7000, change in cost 5.87367\n",
      "step 8000, training accuracy 0.901364\n",
      "step 8000, cost 175.92\n",
      "step 8000, change in cost 5.48911\n",
      "step 9000, training accuracy 0.913956\n",
      "step 9000, cost 170.782\n",
      "step 9000, change in cost 5.13783\n",
      "step 10000, training accuracy 0.921301\n",
      "step 10000, cost 165.966\n",
      "step 10000, change in cost 4.81645\n",
      "step 11000, training accuracy 0.930745\n",
      "step 11000, cost 161.444\n",
      "step 11000, change in cost 4.52203\n",
      "step 12000, training accuracy 0.930745\n",
      "step 12000, cost 157.191\n",
      "step 12000, change in cost 4.25224\n",
      "step 13000, training accuracy 0.93809\n",
      "step 13000, cost 153.186\n",
      "step 13000, change in cost 4.00493\n",
      "step 14000, training accuracy 0.941238\n",
      "step 14000, cost 149.409\n",
      "step 14000, change in cost 3.77773\n",
      "step 15000, training accuracy 0.942288\n",
      "step 15000, cost 145.84\n",
      "step 15000, change in cost 3.56914\n",
      "step 16000, training accuracy 0.945435\n",
      "step 16000, cost 142.462\n",
      "step 16000, change in cost 3.37744\n",
      "step 17000, training accuracy 0.945435\n",
      "step 17000, cost 139.261\n",
      "step 17000, change in cost 3.20087\n",
      "step 18000, training accuracy 0.945435\n",
      "step 18000, cost 136.223\n",
      "step 18000, change in cost 3.03796\n",
      "step 19000, training accuracy 0.947534\n",
      "step 19000, cost 133.336\n",
      "step 19000, change in cost 2.88747\n",
      "step 20000, training accuracy 0.948583\n",
      "step 20000, cost 130.588\n",
      "step 20000, change in cost 2.74823\n",
      "step 21000, training accuracy 0.950682\n",
      "step 21000, cost 127.969\n",
      "step 21000, change in cost 2.61896\n",
      "step 22000, training accuracy 0.951731\n",
      "step 22000, cost 125.47\n",
      "step 22000, change in cost 2.49895\n",
      "step 23000, training accuracy 0.95383\n",
      "step 23000, cost 123.082\n",
      "step 23000, change in cost 2.38723\n",
      "step 24000, training accuracy 0.955929\n",
      "step 24000, cost 120.799\n",
      "step 24000, change in cost 2.28301\n",
      "step 25000, training accuracy 0.955929\n",
      "step 25000, cost 118.614\n",
      "step 25000, change in cost 2.18559\n",
      "final accuracy on test set: 0.933333\n"
     ]
    },
    {
     "data": {
      "image/png": "[encoded data removed]",
      "text/plain": [
       "<matplotlib.figure.Figure at 0x7f48ef054400>"
      ]
     },
     "metadata": {},
     "output_type": "display_data"
    }
   ],
   "source": [
    "###########################\n",
    "### GRAPH LIVE UPDATING ###\n",
    "###########################\n",
    "\n",
    "epoch_values=[]\n",
    "accuracy_values=[]\n",
    "cost_values=[]\n",
    "# Turn on interactive plotting\n",
    "plt.ion()\n",
    "# Create the main, super plot\n",
    "fig = plt.figure()\n",
    "# Create two subplots on their own axes and give titles\n",
    "ax1 = plt.subplot(\"211\")\n",
    "ax1.set_title(\"TRAINING ACCURACY\", fontsize=18)\n",
    "ax2 = plt.subplot(\"212\")\n",
    "ax2.set_title(\"TRAINING COST\", fontsize=18)\n",
    "plt.tight_layout()\n",
    "\n",
    "#####################\n",
    "### RUN THE GRAPH ###\n",
    "#####################\n",
    "\n",
    "# Create a tensorflow session\n",
    "sess = tf.Session()\n",
    "\n",
    "# Initialize all tensorflow variables\n",
    "sess.run(init_OP)\n",
    "\n",
    "## Ops for vizualization\n",
    "# argmax(activation_OP, 1) gives the label our model thought was most likely\n",
    "# argmax(yGold, 1) is the correct label\n",
    "correct_predictions_OP = tf.equal(tf.argmax(activation_OP,1),tf.argmax(yGold,1))\n",
    "# False is 0 and True is 1, what was our average?\n",
    "accuracy_OP = tf.reduce_mean(tf.cast(correct_predictions_OP, \"float\"))\n",
    "# Summary op for regression output\n",
    "activation_summary_OP = tf.histogram_summary(\"output\", activation_OP)\n",
    "# Summary op for accuracy\n",
    "accuracy_summary_OP = tf.scalar_summary(\"accuracy\", accuracy_OP)\n",
    "# Summary op for cost\n",
    "cost_summary_OP = tf.scalar_summary(\"cost\", cost_OP)\n",
    "# Summary ops to check how variables (W, b) are updating after each iteration\n",
    "weightSummary = tf.histogram_summary(\"weights\", weights.eval(session=sess))\n",
    "biasSummary = tf.histogram_summary(\"biases\", bias.eval(session=sess))\n",
    "# Merge all summaries\n",
    "all_summary_OPS = tf.merge_all_summaries()\n",
    "# Summary writer\n",
    "writer = tf.train.SummaryWriter(\"summary_logs\", sess.graph)\n",
    "\n",
    "# Initialize reporting variables\n",
    "cost = 0\n",
    "diff = 1\n",
    "\n",
    "# Training epochs\n",
    "for i in range(numEpochs):\n",
    "    if i > 1 and diff < .0001:\n",
    "        print(\"change in cost %g; convergence.\"%diff)\n",
    "        break\n",
    "    else:\n",
    "        # Run training step\n",
    "        step = sess.run(training_OP, feed_dict={X: trainX, yGold: trainY})\n",
    "        # Report occasional stats\n",
    "        if i % 1000 == 0:\n",
    "            # Add epoch to epoch_values\n",
    "            epoch_values.append(i)\n",
    "            # Generate accuracy stats on test data\n",
    "            summary_results, train_accuracy, newCost = sess.run(\n",
    "                [all_summary_OPS, accuracy_OP, cost_OP], \n",
    "                feed_dict={X: trainX, yGold: trainY}\n",
    "            )\n",
    "            # Add accuracy to live graphing variable\n",
    "            accuracy_values.append(train_accuracy)\n",
    "            # Add cost to live graphing variable\n",
    "            cost_values.append(newCost)\n",
    "            # Write summary stats to writer\n",
    "            writer.add_summary(summary_results, i)\n",
    "            # Re-assign values for variables\n",
    "            diff = abs(newCost - cost)\n",
    "            cost = newCost\n",
    "\n",
    "            #generate print statements\n",
    "            print(\"step %d, training accuracy %g\"%(i, train_accuracy))\n",
    "            print(\"step %d, cost %g\"%(i, newCost))\n",
    "            print(\"step %d, change in cost %g\"%(i, diff))\n",
    "\n",
    "            # Plot progress to our two subplots\n",
    "            accuracyLine, = ax1.plot(epoch_values, accuracy_values)\n",
    "            costLine, = ax2.plot(epoch_values, cost_values)\n",
    "            fig.canvas.draw()\n",
    "            time.sleep(1)\n",
    "\n",
    "\n",
    "# How well do we perform on held-out test data?\n",
    "print(\"final accuracy on test set: %s\" %str(sess.run(accuracy_OP, \n",
    "                                                     feed_dict={X: testX, \n",
    "                                                                yGold: testY})))"
   ]
  },
  {
   "cell_type": "code",
   "execution_count": 10,
   "metadata": {
    "collapsed": true
   },
   "outputs": [],
   "source": [
    "##############################\n",
    "### SAVE TRAINED VARIABLES ###\n",
    "##############################\n",
    "\n",
    "# Create Saver\n",
    "saver = tf.train.Saver()\n",
    "# Save variables to .ckpt file\n",
    "# saver.save(sess, \"trained_variables.ckpt\")"
   ]
  },
  {
   "cell_type": "code",
   "execution_count": 14,
   "metadata": {
    "collapsed": true
   },
   "outputs": [],
   "source": [
    "############################\n",
    "### MAKE NEW PREDICTIONS ###\n",
    "############################\n",
    "\n",
    "# Close tensorflow session\n",
    "sess.close()"
   ]
  },
  {
   "cell_type": "markdown",
   "metadata": {},
   "source": [
    "# Answers\n",
    "## Part A\n",
    "### The best test accuracy obtained was 93.3% using a learning rate of 0.001 over 26,000 iterations (epoch). Please see above code for accuracy and cost plots.\n",
    "\n",
    "## Part B\n",
    "### Please see Part B code\n"
   ]
  }
 ],
 "metadata": {
  "kernelspec": {
   "display_name": "Python 3",
   "language": "python",
   "name": "python3"
  },
  "language_info": {
   "codemirror_mode": {
    "name": "ipython",
    "version": 3
   },
   "file_extension": ".py",
   "mimetype": "text/x-python",
   "name": "python",
   "nbconvert_exporter": "python",
   "pygments_lexer": "ipython3",
   "version": "3.4.3"
  }
 },
 "nbformat": 4,
 "nbformat_minor": 1
}
