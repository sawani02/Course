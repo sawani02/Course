{
 "cells": [
  {
   "cell_type": "code",
   "execution_count": 9,
   "metadata": {
    "collapsed": false
   },
   "outputs": [],
   "source": [
    "import numpy as np\n",
    "import math\n",
    "import matplotlib.pyplot as plt\n",
    "%matplotlib inline"
   ]
  },
  {
   "cell_type": "code",
   "execution_count": 10,
   "metadata": {
    "collapsed": false
   },
   "outputs": [
    {
     "name": "stdout",
     "output_type": "stream",
     "text": [
      "Layer 1\n",
      "Layer2\n",
      "('X1 =', array([ 1.  ,  2.  ,  0.26]))\n",
      "W12 =\n",
      "[[ 12.7   -0.2   -0.74  -0.19]\n",
      " [ -1.49  -8.85   7.08  -8.29]\n",
      " [-19.85  -2.61  -3.59  -2.7 ]]\n",
      "('Y2 =', array([  4.559 , -18.5786,  12.4866, -17.472 ]))\n",
      "('A2 =', array([  9.89636011e-01,   8.53918721e-09,   9.99996223e-01,\n",
      "         2.58230063e-08]))\n"
     ]
    }
   ],
   "source": [
    "print (\"Layer 1\")\n",
    "X1 = np.array ([1, 2.00, 0.26])\n",
    "\n",
    "# Layer 2 \n",
    "print (\"Layer2\")\n",
    "print (\"X1 =\", X1)\n",
    "W12 = np.array ([[12.70, -.20, -.74, -.19],\n",
    "                [-1.49, -8.85, 7.08, -8.29],\n",
    "                [-19.85, -2.61, -3.59, -2.70]])\n",
    "W12\n",
    "print (\"W12 =\") \n",
    "print (W12)\n",
    "Y2 = X1.dot(W12)\n",
    "print (\"Y2 =\", Y2)\n",
    "A2 =1/(1+np.exp(-Y2))\n",
    "print (\"A2 =\", A2)"
   ]
  },
  {
   "cell_type": "code",
   "execution_count": 11,
   "metadata": {
    "collapsed": false,
    "scrolled": false
   },
   "outputs": [
    {
     "name": "stdout",
     "output_type": "stream",
     "text": [
      "Layer3\n",
      "('A2 =', array([  9.89636011e-01,   8.53918721e-09,   9.99996223e-01,\n",
      "         2.58230063e-08]))\n",
      "W23 =\n",
      "[ 7.44  2.78 -4.31 -2.7 ]\n",
      "('Y3 =', 3.0529081536969604)\n",
      "('h(x) =', 0.95490791388756113)\n",
      "('e = ', 0.045092086112438867)\n"
     ]
    }
   ],
   "source": [
    "# Layer 3 \n",
    "print (\"Layer3\")\n",
    "\n",
    "print (\"A2 =\", A2)\n",
    "W23 = np.array ([7.44,2.78,-4.31,-2.70])\n",
    "print (\"W23 =\") \n",
    "print (W23)\n",
    "Y3 = A2.dot(W23) \n",
    "print (\"Y3 =\", Y3)\n",
    "h =1/(1+np.exp(-Y3))\n",
    "print (\"h(x) =\", h)\n",
    "error = 1-h\n",
    "print (\"e = \", error)"
   ]
  },
  {
   "cell_type": "code",
   "execution_count": null,
   "metadata": {
    "collapsed": true
   },
   "outputs": [],
   "source": []
  }
 ],
 "metadata": {
  "anaconda-cloud": {},
  "kernelspec": {
   "display_name": "Python [Root]",
   "language": "python",
   "name": "Python [Root]"
  },
  "language_info": {
   "codemirror_mode": {
    "name": "ipython",
    "version": 2
   },
   "file_extension": ".py",
   "mimetype": "text/x-python",
   "name": "python",
   "nbconvert_exporter": "python",
   "pygments_lexer": "ipython2",
   "version": "2.7.12"
  }
 },
 "nbformat": 4,
 "nbformat_minor": 0
}
