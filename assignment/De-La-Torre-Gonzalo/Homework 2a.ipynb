{
 "cells": [
  {
   "cell_type": "code",
   "execution_count": 4,
   "metadata": {
    "collapsed": false
   },
   "outputs": [],
   "source": [
    "import numpy as np\n",
    "import math\n",
    "import matplotlib.pyplot as plt\n",
    "%matplotlib inline"
   ]
  },
  {
   "cell_type": "code",
   "execution_count": 5,
   "metadata": {
    "collapsed": false
   },
   "outputs": [
    {
     "name": "stdout",
     "output_type": "stream",
     "text": [
      "Layer 1\n",
      "Layer2\n",
      "('X1 =', array([ 1.  ,  2.  ,  0.26]))\n",
      "W12 =\n",
      "[[-0.18  -0.16  -0.03  -0.15 ]\n",
      " [ 0.166 -0.18   0.01  -0.06 ]\n",
      " [ 0.14  -0.14  -0.065 -0.06 ]]\n",
      "('Y2 =', array([ 0.1884, -0.5564, -0.0269, -0.2856]))\n",
      "('A2 =', array([ 0.54696118,  0.36438084,  0.49327541,  0.4290814 ]))\n"
     ]
    }
   ],
   "source": [
    "print (\"Layer 1\")\n",
    "X1 = np.array ([1, 2.00, 0.26])\n",
    "\n",
    "# Layer 2 \n",
    "print (\"Layer2\")\n",
    "print (\"X1 =\", X1)\n",
    "W12 = np.array ([[-0.18, -0.16, -0.03, -0.15],\n",
    "                [0.166, -0.18, 0.01, -0.06],\n",
    "                [0.14, -0.14, -0.065, -0.06]])\n",
    "W12\n",
    "print (\"W12 =\") \n",
    "print (W12)\n",
    "Y2 = X1.dot(W12)\n",
    "print (\"Y2 =\", Y2)\n",
    "A2 =1/(1+np.exp(-Y2))\n",
    "print (\"A2 =\", A2)"
   ]
  },
  {
   "cell_type": "code",
   "execution_count": 6,
   "metadata": {
    "collapsed": false,
    "scrolled": false
   },
   "outputs": [
    {
     "name": "stdout",
     "output_type": "stream",
     "text": [
      "Layer3\n",
      "('A2 =', array([ 0.54696118,  0.36438084,  0.49327541,  0.4290814 ]))\n",
      "W23 =\n",
      "[-1.01 -1.99 -0.25 -1.64]\n",
      "('Y3 =', -2.1045610040177558)\n",
      "('h(x) =', 0.10865430548974733)\n",
      "('e = ', 0.8913456945102527)\n"
     ]
    }
   ],
   "source": [
    "# Layer 3 \n",
    "print (\"Layer3\")\n",
    "\n",
    "print (\"A2 =\", A2)\n",
    "W23 = np.array ([-1.01, -1.99, -0.25, -1.64])\n",
    "print (\"W23 =\") \n",
    "print (W23)\n",
    "Y3 = A2.dot(W23) \n",
    "print (\"Y3 =\", Y3)\n",
    "h =1/(1+np.exp(-Y3))\n",
    "print (\"h(x) =\", h)\n",
    "error = 1-h\n",
    "print (\"e = \", error)"
   ]
  }
 ],
 "metadata": {
  "anaconda-cloud": {},
  "kernelspec": {
   "display_name": "Python [Root]",
   "language": "python",
   "name": "Python [Root]"
  },
  "language_info": {
   "codemirror_mode": {
    "name": "ipython",
    "version": 2
   },
   "file_extension": ".py",
   "mimetype": "text/x-python",
   "name": "python",
   "nbconvert_exporter": "python",
   "pygments_lexer": "ipython2",
   "version": "2.7.12"
  }
 },
 "nbformat": 4,
 "nbformat_minor": 0
}
