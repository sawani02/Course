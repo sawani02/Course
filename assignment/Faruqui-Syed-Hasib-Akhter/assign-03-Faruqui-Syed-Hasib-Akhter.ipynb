{
 "cells": [
  {
   "cell_type": "markdown",
   "metadata": {},
   "source": [
    "# Simple Neural Network (Without a Bias)\n",
    "We will be creating a simple Neural Network based on Tensor Flow"
   ]
  },
  {
   "cell_type": "code",
   "execution_count": 1,
   "metadata": {
    "collapsed": true
   },
   "outputs": [],
   "source": [
    "# Import Necessary Modules\n",
    "import tensorflow as tf\n",
    "import numpy as np\n",
    "import pandas as pd\n",
    "import matplotlib\n",
    "import matplotlib.pyplot as plt"
   ]
  },
  {
   "cell_type": "code",
   "execution_count": 2,
   "metadata": {
    "collapsed": true
   },
   "outputs": [],
   "source": [
    "# Set up the random seed\n",
    "rnd=tf.set_random_seed(111)\n",
    "# Display plots inline\n",
    "%matplotlib inline\n",
    "# Plots Figure Size\n",
    "matplotlib.rcParams['figure.figsize']=(10.0,10.0)"
   ]
  },
  {
   "cell_type": "code",
   "execution_count": 3,
   "metadata": {
    "collapsed": false
   },
   "outputs": [
    {
     "name": "stdout",
     "output_type": "stream",
     "text": [
      "   Feature1  Feature2  Target\n",
      "0  2.067788  0.258133       1\n",
      "1  0.993994 -0.609145       1\n",
      "2 -0.690315  0.749921       0\n",
      "3  1.023582  0.529003       0\n",
      "4  0.700747 -0.496724       1\n",
      "\n",
      "[5 rows x 3 columns]\n",
      "Training Set: (350, 2) (350, 1) \n",
      "Testing Set:  (150, 2) (150, 1)\n",
      "Total Data Size: (500, 3)\n"
     ]
    }
   ],
   "source": [
    "# read the datasets\n",
    "Data = pd.read_csv(\"intro_to_ann.csv\")\n",
    "# Divide the Data into Train-Test\n",
    "print (Data.head())\n",
    "Xtrain, ytrain,Xtest,ytest = np.array(Data.ix[0:349,0:2]), np.array(Data.ix[0:349,2:3]),np.array(Data.ix[350:,0:2]), np.array(Data.ix[350:,2:3])\n",
    "print('Training Set:',Xtrain.shape, ytrain.shape,'\\nTesting Set: ',Xtest.shape, ytest.shape)\n",
    "print('Total Data Size:',Data.shape)"
   ]
  },
  {
   "cell_type": "code",
   "execution_count": 4,
   "metadata": {
    "collapsed": true
   },
   "outputs": [],
   "source": [
    "# Function Modules\n",
    "# Initial Weights (Random Number)\n",
    "def weights(size):\n",
    "    wt=tf.random_normal(size,stddev=0.1)\n",
    "    var= tf.Variable(wt)\n",
    "    return var\n",
    "\n",
    "# Foraward Propagation\n",
    "def ForwardPropagation(X,wih,who):\n",
    "    h=tf.nn.softmax(tf.matmul(X,wih))\n",
    "    yhat=tf.nn.sigmoid(tf.matmul(h,who))\n",
    "    return yhat"
   ]
  },
  {
   "cell_type": "markdown",
   "metadata": {
    "collapsed": false
   },
   "source": [
    "# Neural Network (without Bias)"
   ]
  },
  {
   "cell_type": "code",
   "execution_count": 5,
   "metadata": {
    "collapsed": false
   },
   "outputs": [
    {
     "name": "stdout",
     "output_type": "stream",
     "text": [
      "Input Nodes: 2 \n",
      "Hidden Nodes: 4 \n",
      "Output Nodes: 1\n"
     ]
    }
   ],
   "source": [
    "# Network Parameters\n",
    "ni=Xtrain.shape[1]     # Nodes in Input Layer\n",
    "nh=4                   # Nodes in Hidden Layer\n",
    "no=1                   # Nodes in output layer\n",
    "print('Input Nodes:',ni,'\\nHidden Nodes:',nh,'\\nOutput Nodes:',no)"
   ]
  },
  {
   "cell_type": "code",
   "execution_count": 6,
   "metadata": {
    "collapsed": false
   },
   "outputs": [],
   "source": [
    "# Variable for loading Data\n",
    "X=tf.placeholder(\"float\",[None,ni])\n",
    "y=tf.placeholder(\"float\",[None,no])"
   ]
  },
  {
   "cell_type": "code",
   "execution_count": 7,
   "metadata": {
    "collapsed": false
   },
   "outputs": [],
   "source": [
    "# Weight Initialization\n",
    "wih = weights((ni,nh))\n",
    "who = weights((nh,no))"
   ]
  },
  {
   "cell_type": "code",
   "execution_count": 8,
   "metadata": {
    "collapsed": false
   },
   "outputs": [],
   "source": [
    "# Forward Propagation using tensor flow\n",
    "yhat = ForwardPropagation(X,wih,who)\n",
    "predict = tf.argmax(yhat, dimension=1)"
   ]
  },
  {
   "cell_type": "code",
   "execution_count": 9,
   "metadata": {
    "collapsed": false
   },
   "outputs": [],
   "source": [
    "# Backward propagation using tensor flow\n",
    "cost=tf.reduce_mean(-tf.reduce_sum(y * tf.log(yhat), reduction_indices=[1]))\n",
    "updates = tf.train.GradientDescentOptimizer(0.05).minimize(cost)"
   ]
  },
  {
   "cell_type": "code",
   "execution_count": 10,
   "metadata": {
    "collapsed": false,
    "scrolled": true
   },
   "outputs": [
    {
     "name": "stdout",
     "output_type": "stream",
     "text": [
      "0.184212\n",
      "0.110845\n",
      "0.0746835\n",
      "0.0539925\n",
      "0.0412888\n",
      "0.0330625\n",
      "0.0274502\n",
      "0.0234343\n",
      "0.0204414\n",
      "0.0181341\n",
      "0.016305\n",
      "0.0148212\n",
      "0.0135938\n",
      "0.0125618\n",
      "0.0116821\n",
      "0.010923\n",
      "0.0102613\n",
      "0.00967906\n",
      "0.00916277\n",
      "0.00870166\n",
      "0.00828721\n",
      "0.00791257\n",
      "0.0075722\n",
      "0.00726153\n",
      "0.00697675\n",
      "0.00671471\n",
      "0.00647273\n",
      "0.00624855\n",
      "0.00604025\n",
      "0.00584616\n",
      "0.00566484\n",
      "0.00549504\n",
      "0.00533569\n",
      "0.00518581\n",
      "0.00504458\n",
      "0.00491125\n",
      "0.00478516\n",
      "0.00466572\n",
      "0.00455242\n",
      "0.00444477\n",
      "0.00434236\n",
      "0.0042448\n",
      "0.00415176\n",
      "0.0040629\n",
      "0.00397795\n",
      "0.00389666\n",
      "0.0038188\n",
      "0.00374413\n",
      "0.00367246\n",
      "0.00360362\n",
      "0.00353744\n",
      "0.00347376\n",
      "0.00341243\n",
      "0.00335332\n",
      "0.00329633\n",
      "0.00324133\n",
      "0.0031882\n",
      "0.00313689\n",
      "0.00308726\n",
      "0.00303924\n",
      "0.00299276\n",
      "0.00294775\n",
      "0.00290411\n",
      "0.00286181\n",
      "0.00282077\n",
      "0.00278094\n",
      "0.00274227\n",
      "0.0027047\n",
      "0.0026682\n",
      "0.00263268\n",
      "0.00259816\n",
      "0.00256455\n",
      "0.00253185\n",
      "0.00249999\n",
      "0.00246896\n",
      "0.00243871\n",
      "0.00240923\n",
      "0.00238048\n",
      "0.00235243\n",
      "0.00232505\n",
      "0.00229834\n",
      "0.00227225\n",
      "0.00224676\n",
      "0.00222187\n",
      "0.00219753\n",
      "0.00217373\n",
      "0.00215047\n",
      "0.00212772\n",
      "0.00210546\n",
      "0.00208368\n",
      "0.00206237\n",
      "0.00204149\n",
      "0.00202105\n",
      "0.00200102\n",
      "0.00198141\n",
      "0.00196218\n",
      "0.00194333\n",
      "0.00192484\n",
      "0.00190675\n",
      "0.00188898\n"
     ]
    },
    {
     "data": {
      "image/png": "[encoded data removed]",
      "text/plain": [
       "<matplotlib.figure.Figure at 0x7f63cb308780>"
      ]
     },
     "metadata": {},
     "output_type": "display_data"
    }
   ],
   "source": [
    "# Run the code\n",
    "S = tf.Session()\n",
    "init = tf.initialize_all_variables()\n",
    "S.run(init)\n",
    "\n",
    "for iteration in range(100):\n",
    "    # Train the model\n",
    "    for i in range(len(Xtrain)):\n",
    "        costfunction=S.run(cost, feed_dict ={X: Xtrain, y: ytrain})\n",
    "        Optimized=S.run(updates, feed_dict ={X: Xtrain, y: ytrain})\n",
    "    print(costfunction)\n",
    "    plt.plot(iteration,costfunction,'x')"
   ]
  }
 ],
 "metadata": {
  "kernelspec": {
   "display_name": "Python 3",
   "language": "python",
   "name": "python3"
  },
  "language_info": {
   "codemirror_mode": {
    "name": "ipython",
    "version": 3
   },
   "file_extension": ".py",
   "mimetype": "text/x-python",
   "name": "python",
   "nbconvert_exporter": "python",
   "pygments_lexer": "ipython3",
   "version": "3.4.3"
  }
 },
 "nbformat": 4,
 "nbformat_minor": 1
}
