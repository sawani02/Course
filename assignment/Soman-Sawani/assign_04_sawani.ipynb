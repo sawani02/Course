{
 "cells": [
  {
   "cell_type": "code",
   "execution_count": 1,
   "metadata": {
    "collapsed": true
   },
   "outputs": [],
   "source": [
    "\n",
    "from __future__ import division\n",
    "import tensorflow as tf\n",
    "import numpy as np\n",
    "import tarfile\n",
    "import os\n",
    "import matplotlib.pyplot as plt\n",
    "import time\n",
    "\n",
    "# Display plots inline \n",
    "%matplotlib inline"
   ]
  },
  {
   "cell_type": "code",
   "execution_count": 2,
   "metadata": {
    "collapsed": false
   },
   "outputs": [
    {
     "name": "stdout",
     "output_type": "stream",
     "text": [
      "loading training data\n",
      "loading test data\n"
     ]
    }
   ],
   "source": [
    "###################\n",
    "### IMPORT DATA ###\n",
    "###################\n",
    "\n",
    "def csv_to_numpy_array(filePath, delimiter):\n",
    "    return np.genfromtxt(filePath, delimiter=delimiter, dtype=None)\n",
    "\n",
    "def import_data():\n",
    "    if \"data\" not in os.listdir(os.getcwd()):\n",
    "        # Untar directory of data if we haven't already\n",
    "        tarObject = tarfile.open(\"tensorflow-tutorial/data.tar.gz\")\n",
    "        tarObject.extractall()\n",
    "        tarObject.close()\n",
    "        print(\"Extracted tar to current directory\")\n",
    "    else:\n",
    "        # we've already extracted the files\n",
    "        pass\n",
    "\n",
    "    print(\"loading training data\")\n",
    "    trainX = csv_to_numpy_array(\"data/trainX.csv\", delimiter=\"\\t\")\n",
    "    trainY = csv_to_numpy_array(\"data/trainY.csv\", delimiter=\"\\t\")\n",
    "    print(\"loading test data\")\n",
    "    testX = csv_to_numpy_array(\"data/testX.csv\", delimiter=\"\\t\")\n",
    "    testY = csv_to_numpy_array(\"data/testY.csv\", delimiter=\"\\t\")\n",
    "    return trainX,trainY,testX,testY\n",
    "\n",
    "trainX,trainY,testX,testY = import_data()"
   ]
  },
  {
   "cell_type": "code",
   "execution_count": 3,
   "metadata": {
    "collapsed": true
   },
   "outputs": [],
   "source": [
    "numFeatures = trainX.shape[1]\n",
    "# numLabels = number of classes we are predicting (here just 2: Ham or Spam)\n",
    "numLabels = trainY.shape[1]\n",
    "\n",
    "# TRAINING SESSION PARAMETERS\n",
    "# number of times we iterate through training data\n",
    "# tensorboard shows that accuracy plateaus at ~25k epochs\n",
    "numEpochs = 27000\n",
    "# a smarter learning rate for gradientOptimizer\n",
    "learningRate = tf.train.exponential_decay(learning_rate=0.0008,\n",
    "                                          global_step= 1,\n",
    "                                          decay_steps=trainX.shape[0],\n",
    "                                          decay_rate= 0.95,\n",
    "                                          staircase=True)"
   ]
  },
  {
   "cell_type": "code",
   "execution_count": 4,
   "metadata": {
    "collapsed": true
   },
   "outputs": [],
   "source": [
    "X = tf.placeholder(tf.float32, [None, numFeatures])\n",
    "# yGold = Y-matrix / label-matrix / labels... This will be our correct answers\n",
    "# matrix. Every row has either [1,0] for SPAM or [0,1] for HAM. 'None' here \n",
    "# means that we can hold any number of emails\n",
    "yGold = tf.placeholder(tf.float32, [None, numLabels])\n",
    "\n",
    "weights = tf.Variable(tf.random_normal([numFeatures,numLabels],\n",
    "                                       mean=0,\n",
    "                                       stddev=(np.sqrt(6/numFeatures+\n",
    "                                                         numLabels+1)),\n",
    "                                       name=\"weights\"))\n",
    "\n",
    "bias = tf.Variable(tf.random_normal([1,numLabels],\n",
    "                                    mean=0,\n",
    "                                    stddev=(np.sqrt(6/numFeatures+numLabels+1)),\n",
    "                                    name=\"bias\"))"
   ]
  },
  {
   "cell_type": "code",
   "execution_count": 5,
   "metadata": {
    "collapsed": true
   },
   "outputs": [],
   "source": [
    "#####################\n",
    "### PREDICTION OPS ###\n",
    "######################\n",
    "\n",
    "# INITIALIZE our weights and biases\n",
    "init_OP = tf.initialize_all_variables()\n",
    "\n",
    "# PREDICTION ALGORITHM i.e. FEEDFORWARD ALGORITHM\n",
    "apply_weights_OP = tf.matmul(X, weights, name=\"apply_weights\")\n",
    "add_bias_OP = tf.add(apply_weights_OP, bias, name=\"add_bias\") \n",
    "activation_OP = tf.nn.sigmoid(add_bias_OP, name=\"activation\")\n",
    "#####################\n",
    "### EVALUATION OP ###\n",
    "#####################\n",
    "\n",
    "# COST FUNCTION i.e. MEAN SQUARED ERROR\n",
    "cost_OP = tf.nn.l2_loss(activation_OP-yGold, name=\"squared_error_cost\")\n",
    "\n",
    "#######################\n",
    "### OPTIMIZATION OP ###\n",
    "#######################\n",
    "\n",
    "# OPTIMIZATION ALGORITHM i.e. GRADIENT DESCENT\n",
    "training_OP = tf.train.GradientDescentOptimizer(learningRate).minimize(cost_OP)"
   ]
  },
  {
   "cell_type": "code",
   "execution_count": 6,
   "metadata": {
    "collapsed": false
   },
   "outputs": [
    {
     "data": {
      "image/png": "[encoded data removed]",
      "text/plain": [
       "<matplotlib.figure.Figure at 0x7f37cdb3cda0>"
      ]
     },
     "metadata": {},
     "output_type": "display_data"
    }
   ],
   "source": [
    "###########################\n",
    "### GRAPH LIVE UPDATING ###\n",
    "###########################\n",
    "\n",
    "epoch_values=[]\n",
    "accuracy_values=[]\n",
    "cost_values=[]\n",
    "# Turn on interactive plotting\n",
    "plt.ion()\n",
    "# Create the main, super plot\n",
    "fig = plt.figure()\n",
    "# Create two subplots on their own axes and give titles\n",
    "ax1 = plt.subplot(\"211\")\n",
    "ax1.set_title(\"TRAINING ACCURACY\", fontsize=18)\n",
    "ax2 = plt.subplot(\"212\")\n",
    "ax2.set_title(\"TRAINING COST\", fontsize=18)\n",
    "plt.tight_layout()"
   ]
  },
  {
   "cell_type": "code",
   "execution_count": 7,
   "metadata": {
    "collapsed": false
   },
   "outputs": [
    {
     "name": "stdout",
     "output_type": "stream",
     "text": [
      "Initialized Session.\n",
      "Optimization Finished!\n",
      "Final error found during training:  0.112277030945\n",
      "final accuracy on test set: 0.847619\n"
     ]
    }
   ],
   "source": [
    "# define feedforward algorithm\n",
    "y = tf.nn.sigmoid(tf.add(tf.matmul(X, weights, name=\"apply_weights\"), bias, name=\"add_bias\"), name=\"activation\")\n",
    "\n",
    "correct_prediction = tf.equal(tf.argmax(y,1), tf.argmax(yGold,1))\n",
    "accuracy = tf.reduce_mean(tf.cast(correct_prediction, tf.float32))\n",
    "numEpochs = 10000\n",
    "learningRate = tf.train.exponential_decay(learning_rate=0.0008,\n",
    "                                          global_step= 1,\n",
    "                                          decay_steps=trainX.shape[0],\n",
    "                                          decay_rate= 0.95,\n",
    "                                          staircase=True)\n",
    "# Launch the graph\n",
    "errors = []\n",
    "with tf.Session() as sess:\n",
    "    sess.run(init_OP )\n",
    "    print('Initialized Session.')\n",
    "    for step in range(numEpochs):\n",
    "        # run optimizer at each step in training\n",
    "        sess.run(training_OP, feed_dict={X: trainX, yGold: trainY})\n",
    "        # fill errors array with updated error values\n",
    "        accuracy_value = accuracy.eval(feed_dict={X: trainX, yGold: trainY})\n",
    "        errors.append(1 - accuracy_value)\n",
    "    print('Optimization Finished!')\n",
    "    \n",
    "    # output final error\n",
    "    print(\"Final error found during training: \", errors[-1])\n",
    "    # output accuracy \n",
    "    print(\"final accuracy on test set: %s\" %str(sess.run(accuracy, \n",
    "                                                     feed_dict={X: testX, \n",
    "                                                                yGold: testY})))"
   ]
  },
  {
   "cell_type": "code",
   "execution_count": 8,
   "metadata": {
    "collapsed": false
   },
   "outputs": [
    {
     "name": "stderr",
     "output_type": "stream",
     "text": [
      "/usr/local/lib/python3.4/dist-packages/numpy/core/_methods.py:59: RuntimeWarning: Mean of empty slice.\n",
      "  warnings.warn(\"Mean of empty slice.\", RuntimeWarning)\n"
     ]
    },
    {
     "data": {
      "image/png": "[encoded data removed]",
      "text/plain": [
       "<matplotlib.figure.Figure at 0x7f37cda4ef28>"
      ]
     },
     "metadata": {},
     "output_type": "display_data"
    }
   ],
   "source": [
    "# plot errors array to see how it decreased\n",
    "plt.plot([np.mean(errors[i-50:i]) for i in range(len(errors))])\n",
    "plt.show()"
   ]
  },
  {
   "cell_type": "code",
   "execution_count": 9,
   "metadata": {
    "collapsed": false
   },
   "outputs": [
    {
     "name": "stdout",
     "output_type": "stream",
     "text": [
      "Initialized Session.\n",
      "Optimization Finished!\n",
      "Final error found during training:  0.0524659156799\n",
      "final accuracy on test set: 0.92381\n"
     ]
    }
   ],
   "source": [
    "# define feedforward algorithm\n",
    "y = tf.nn.sigmoid(tf.add(tf.matmul(X, weights, name=\"apply_weights\"), bias, name=\"add_bias\"), name=\"activation\")\n",
    "\n",
    "correct_prediction = tf.equal(tf.argmax(y,1), tf.argmax(yGold,1))\n",
    "accuracy = tf.reduce_mean(tf.cast(correct_prediction, tf.float32))\n",
    "numEpochs = 20000\n",
    "learningRate = tf.train.exponential_decay(learning_rate=0.0008,\n",
    "                                          global_step= 1,\n",
    "                                          decay_steps=trainX.shape[0],\n",
    "                                          decay_rate= 0.95,\n",
    "                                          staircase=True)\n",
    "# Launch the graph\n",
    "errors = []\n",
    "with tf.Session() as sess:\n",
    "    sess.run(init_OP )\n",
    "    print('Initialized Session.')\n",
    "    for step in range(numEpochs):\n",
    "        # run optimizer at each step in training\n",
    "        sess.run(training_OP, feed_dict={X: trainX, yGold: trainY})\n",
    "        # fill errors array with updated error values\n",
    "        accuracy_value = accuracy.eval(feed_dict={X: trainX, yGold: trainY})\n",
    "        errors.append(1 - accuracy_value)\n",
    "    print('Optimization Finished!')\n",
    "    \n",
    "    # output final error\n",
    "    print(\"Final error found during training: \", errors[-1])\n",
    "    # output accuracy \n",
    "    print(\"final accuracy on test set: %s\" %str(sess.run(accuracy, \n",
    "                                                     feed_dict={X: testX, \n",
    "                                                                yGold: testY})))"
   ]
  },
  {
   "cell_type": "code",
   "execution_count": 10,
   "metadata": {
    "collapsed": false
   },
   "outputs": [
    {
     "name": "stderr",
     "output_type": "stream",
     "text": [
      "/usr/local/lib/python3.4/dist-packages/numpy/core/_methods.py:59: RuntimeWarning: Mean of empty slice.\n",
      "  warnings.warn(\"Mean of empty slice.\", RuntimeWarning)\n"
     ]
    },
    {
     "data": {
      "image/png": "[encoded data removed]",
      "text/plain": [
       "<matplotlib.figure.Figure at 0x7f37d40a3198>"
      ]
     },
     "metadata": {},
     "output_type": "display_data"
    }
   ],
   "source": [
    "# plot errors array to see how it decreased\n",
    "plt.plot([np.mean(errors[i-50:i]) for i in range(len(errors))])\n",
    "plt.show()"
   ]
  },
  {
   "cell_type": "code",
   "execution_count": 16,
   "metadata": {
    "collapsed": false
   },
   "outputs": [
    {
     "name": "stdout",
     "output_type": "stream",
     "text": [
      "Initialized Session.\n",
      "Optimization Finished!\n",
      "Final error found during training:  0.0472193360329\n",
      "final accuracy on test set: 0.933333\n"
     ]
    }
   ],
   "source": [
    "# define feedforward algorithm\n",
    "y = tf.nn.sigmoid(tf.add(tf.matmul(X, weights, name=\"apply_weights\"), bias, name=\"add_bias\"), name=\"activation\")\n",
    "\n",
    "correct_prediction = tf.equal(tf.argmax(y,1), tf.argmax(yGold,1))\n",
    "accuracy = tf.reduce_mean(tf.cast(correct_prediction, tf.float32))\n",
    "numEpochs = 24000\n",
    "learningRate = tf.train.exponential_decay(learning_rate=0.0008,\n",
    "                                          global_step= 1,\n",
    "                                          decay_steps=trainX.shape[0],\n",
    "                                          decay_rate= 0.95,\n",
    "                                          staircase=True)\n",
    "# Launch the graph\n",
    "errors = []\n",
    "with tf.Session() as sess:\n",
    "    sess.run(init_OP )\n",
    "    print('Initialized Session.')\n",
    "    for step in range(numEpochs):\n",
    "        # run optimizer at each step in training\n",
    "        sess.run(training_OP, feed_dict={X: trainX, yGold: trainY})\n",
    "        # fill errors array with updated error values\n",
    "        accuracy_value = accuracy.eval(feed_dict={X: trainX, yGold: trainY})\n",
    "        errors.append(1 - accuracy_value)\n",
    "    print('Optimization Finished!')\n",
    "    \n",
    "    # output final error\n",
    "    print(\"Final error found during training: \", errors[-1])\n",
    "    # output accuracy \n",
    "    print(\"final accuracy on test set: %s\" %str(sess.run(accuracy, \n",
    "                                                     feed_dict={X: testX, \n",
    "                                                                yGold: testY})))"
   ]
  },
  {
   "cell_type": "code",
   "execution_count": 17,
   "metadata": {
    "collapsed": false
   },
   "outputs": [
    {
     "name": "stderr",
     "output_type": "stream",
     "text": [
      "/usr/local/lib/python3.4/dist-packages/numpy/core/_methods.py:59: RuntimeWarning: Mean of empty slice.\n",
      "  warnings.warn(\"Mean of empty slice.\", RuntimeWarning)\n"
     ]
    },
    {
     "data": {
      "image/png": "[encoded data removed]",
      "text/plain": [
       "<matplotlib.figure.Figure at 0x7f37bec8d198>"
      ]
     },
     "metadata": {},
     "output_type": "display_data"
    }
   ],
   "source": [
    "# plot errors array to see how it decreased\n",
    "plt.plot([np.mean(errors[i-50:i]) for i in range(len(errors))])\n",
    "plt.show()"
   ]
  },
  {
   "cell_type": "code",
   "execution_count": 18,
   "metadata": {
    "collapsed": false
   },
   "outputs": [
    {
     "name": "stdout",
     "output_type": "stream",
     "text": [
      "Initialized Session.\n",
      "Optimization Finished!\n",
      "Final error found during training:  0.0461699962616\n",
      "final accuracy on test set: 0.914286\n"
     ]
    }
   ],
   "source": [
    "# define feedforward algorithm\n",
    "y = tf.nn.sigmoid(tf.add(tf.matmul(X, weights, name=\"apply_weights\"), bias, name=\"add_bias\"), name=\"activation\")\n",
    "\n",
    "correct_prediction = tf.equal(tf.argmax(y,1), tf.argmax(yGold,1))\n",
    "accuracy = tf.reduce_mean(tf.cast(correct_prediction, tf.float32))\n",
    "numEpochs = 27000\n",
    "learningRate = tf.train.exponential_decay(learning_rate=0.0008,\n",
    "                                          global_step= 1,\n",
    "                                          decay_steps=trainX.shape[0],\n",
    "                                          decay_rate= 0.95,\n",
    "                                          staircase=True)\n",
    "# Launch the graph\n",
    "errors = []\n",
    "with tf.Session() as sess:\n",
    "    sess.run(init_OP )\n",
    "    print('Initialized Session.')\n",
    "    for step in range(numEpochs):\n",
    "        # run optimizer at each step in training\n",
    "        sess.run(training_OP, feed_dict={X: trainX, yGold: trainY})\n",
    "        # fill errors array with updated error values\n",
    "        accuracy_value = accuracy.eval(feed_dict={X: trainX, yGold: trainY})\n",
    "        errors.append(1 - accuracy_value)\n",
    "    print('Optimization Finished!')\n",
    "    \n",
    "    # output final error\n",
    "    print(\"Final error found during training: \", errors[-1])\n",
    "    # output accuracy \n",
    "    print(\"final accuracy on test set: %s\" %str(sess.run(accuracy, \n",
    "                                                     feed_dict={X: testX, \n",
    "                                                                yGold: testY})))"
   ]
  },
  {
   "cell_type": "code",
   "execution_count": 20,
   "metadata": {
    "collapsed": false
   },
   "outputs": [
    {
     "name": "stderr",
     "output_type": "stream",
     "text": [
      "/usr/local/lib/python3.4/dist-packages/numpy/core/_methods.py:59: RuntimeWarning: Mean of empty slice.\n",
      "  warnings.warn(\"Mean of empty slice.\", RuntimeWarning)\n"
     ]
    },
    {
     "data": {
      "image/png": "[encoded data removed]",
      "text/plain": [
       "<matplotlib.figure.Figure at 0x7f37bec84048>"
      ]
     },
     "metadata": {},
     "output_type": "display_data"
    }
   ],
   "source": [
    "# plot errors array to see how it decreased\n",
    "plt.plot([np.mean(errors[i-50:i]) for i in range(len(errors))])\n",
    "plt.show()"
   ]
  },
  {
   "cell_type": "markdown",
   "metadata": {},
   "source": [
    "# Part B "
   ]
  },
  {
   "cell_type": "code",
   "execution_count": 21,
   "metadata": {
    "collapsed": true
   },
   "outputs": [],
   "source": [
    "X = tf.placeholder(tf.float32, [None, numFeatures])\n",
    "yGold = tf.placeholder(tf.float32, [None, numLabels])\n",
    "\n",
    "hidden1 = 4\n",
    "hidden2 = numLabels\n",
    "\n",
    "w1 = tf.Variable(tf.random_normal([numFeatures,hidden1],\n",
    "                                       mean=0,\n",
    "                                       stddev=(np.sqrt(6/numFeatures+\n",
    "                                                         numLabels+1)),\n",
    "                                       name=\"weights\"))\n",
    "b1 = tf.Variable(tf.random_normal([1,hidden1],\n",
    "                                    mean=0,\n",
    "                                    stddev=(np.sqrt(6/numFeatures+numLabels+1)),\n",
    "                                    name=\"bias\"))\n",
    "w2 = tf.Variable(tf.random_normal([hidden1,hidden2],\n",
    "                                       mean=0,\n",
    "                                       stddev=(np.sqrt(6/numFeatures+\n",
    "                                                         numLabels+1)),\n",
    "                                       name=\"weights\"))\n",
    "b2 = tf.Variable(tf.random_normal([1,hidden2],\n",
    "                                    mean=0,\n",
    "                                    stddev=(np.sqrt(6/numFeatures+numLabels+1)),\n",
    "                                    name=\"bias\"))\n",
    "\n",
    "# initialize variables\n",
    "init_OP = tf.initialize_all_variables()\n",
    "\n",
    "# define feedforward algorithms\n",
    "h1 = tf.nn.sigmoid(tf.add(tf.matmul(X, w1), b1))\n",
    "y = tf.nn.sigmoid(tf.add(tf.matmul(h1, w2), b2))\n",
    "\n",
    "# define cost function and optimization algorithm (gradient descent)\n",
    "cost_OP = tf.nn.l2_loss(y-yGold, name=\"squared_error_cost\")\n",
    "training_OP = tf.train.GradientDescentOptimizer(learningRate).minimize(cost_OP)\n",
    "\n",
    "# accuracy function\n",
    "correct_prediction = tf.equal(tf.argmax(y,1), tf.argmax(yGold,1))\n",
    "accuracy = tf.reduce_mean(tf.cast(correct_prediction, tf.float32))"
   ]
  },
  {
   "cell_type": "code",
   "execution_count": 22,
   "metadata": {
    "collapsed": false
   },
   "outputs": [
    {
     "name": "stdout",
     "output_type": "stream",
     "text": [
      "Initialized Session.\n",
      "Optimization Finished!\n",
      "Final error found during training:  0.00629591941833\n",
      "final accuracy on test set: 0.980952\n"
     ]
    }
   ],
   "source": [
    "# before running new training, make sure to re-initialize and define weights and biases above.\n",
    "learningRate = tf.train.exponential_decay(learning_rate=0.0001,\n",
    "                                          global_step= 1,\n",
    "                                          decay_steps=trainX.shape[0],\n",
    "                                          decay_rate= 0.95,\n",
    "                                          staircase=True)\n",
    "numEpochs = 24000\n",
    "# Launch the graph\n",
    "errors = []\n",
    "with tf.Session() as sess:\n",
    "    sess.run(init_OP )\n",
    "    print('Initialized Session.')\n",
    "    for step in range(numEpochs):\n",
    "        # run optimizer at each step in training\n",
    "        sess.run(training_OP, feed_dict={X: trainX, yGold: trainY})\n",
    "        # fill errors array with updated error values\n",
    "        accuracy_value = accuracy.eval(feed_dict={X: trainX, yGold: trainY})\n",
    "        errors.append(1 - accuracy_value)\n",
    "    print('Optimization Finished!')\n",
    "    \n",
    "    # output final error\n",
    "    print(\"Final error found during training: \", errors[-1])\n",
    "    # output accuracy \n",
    "    print(\"final accuracy on test set: %s\" %str(sess.run(accuracy, \n",
    "                                                     feed_dict={X: testX, \n",
    "                                                                yGold: testY})))"
   ]
  },
  {
   "cell_type": "markdown",
   "metadata": {},
   "source": [
    "Part a): The best accuracy achieved is at number of epoches = 2400 and learning rate 0.0001 is 0.9333. Please check above"
   ]
  },
  {
   "cell_type": "markdown",
   "metadata": {},
   "source": [
    "Part b) : Accuracy was improved to 0.98 by adding hidden layer"
   ]
  },
  {
   "cell_type": "code",
   "execution_count": null,
   "metadata": {
    "collapsed": true
   },
   "outputs": [],
   "source": []
  }
 ],
 "metadata": {
  "kernelspec": {
   "display_name": "Python 3",
   "language": "python",
   "name": "python3"
  },
  "language_info": {
   "codemirror_mode": {
    "name": "ipython",
    "version": 3
   },
   "file_extension": ".py",
   "mimetype": "text/x-python",
   "name": "python",
   "nbconvert_exporter": "python",
   "pygments_lexer": "ipython3",
   "version": "3.4.3"
  }
 },
 "nbformat": 4,
 "nbformat_minor": 1
}
