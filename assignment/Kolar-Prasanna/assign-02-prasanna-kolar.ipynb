{
 "cells": [
  {
   "cell_type": "code",
   "execution_count": 89,
   "metadata": {
    "collapsed": true
   },
   "outputs": [],
   "source": [
    "import numpy as np\n",
    "import matplotlib.pyplot as plt\n",
    "import time\n",
    "\n",
    "%matplotlib inline"
   ]
  },
  {
   "cell_type": "markdown",
   "metadata": {},
   "source": [
    "Define the Neural Network Class "
   ]
  },
  {
   "cell_type": "code",
   "execution_count": 90,
   "metadata": {
    "collapsed": false
   },
   "outputs": [],
   "source": [
    "class n_network(object):\n",
    "    \n",
    "    # Initialize the class / constructor()!!\n",
    "    def __init__(self, w1,w2):\n",
    "        self.input_layer_size = 2\n",
    "        self.output_layer_size = 1\n",
    "        self.hidden_layer_size = 3\n",
    "        \n",
    "        #self.W1 = np.randn(self.input_layer_size,\n",
    "        #                  self.hidden_layer_size)\n",
    "        #self.W2 = np.randn(self.hidden_layer_size,\n",
    "        #                  self.output_layer_size)\n",
    "        self.w1=np.reshape(w1, (3,4))\n",
    "        \n",
    "        self.w2=np.reshape(w2, (4,1))\n",
    "        print(\"************** The Weights **************\")\n",
    "        print(\"w1:\\n\", self.w1)\n",
    "        print(\"w2:\\n\", self.w2)\n",
    "\n",
    "    # Define the forward propagation function\n",
    "    def forward_propagation(self, x):\n",
    "        self.z2 = np.dot(x, self.w1)\n",
    "        #print(\"z2:\\n\", self.z2)\n",
    "        self.a2 = self.Zigmoid(self.z2)\n",
    "        self.z3 = np.dot(self.a2, self.w2)\n",
    "        #print(\"z3:\\n\", self.z3)\n",
    "        yHat = self.Zigmoid(self.z3)\n",
    "        return yHat\n",
    "\n",
    "    # Define the sigmoid function\n",
    "    def Zigmoid(self, z):\n",
    "        return 1/(1+np.exp(-z))"
   ]
  },
  {
   "cell_type": "code",
   "execution_count": 91,
   "metadata": {
    "collapsed": false,
    "scrolled": true
   },
   "outputs": [
    {
     "name": "stdout",
     "output_type": "stream",
     "text": [
      "****************** Machine Learning Fall 2016 ******************\n",
      "************** Assignment 2 Program implementation **************\n",
      "************************ Prasanna  Kolar ************************\n",
      "************** The Weights **************\n",
      "w1:\n",
      " [[-0.18  -0.16  -0.03  -0.15 ]\n",
      " [ 0.166 -0.18   0.01  -0.06 ]\n",
      " [ 0.14  -0.14  -0.065 -0.06 ]]\n",
      "w2:\n",
      " [[-1.01]\n",
      " [-1.99]\n",
      " [-0.25]\n",
      " [-1.64]]\n",
      "************** The Part a output is given below **************\n",
      "h(x): \n",
      " [ 0.10865431]\n",
      "error e :\n",
      " [ 0.89134569]\n",
      "************** The Weights **************\n",
      "w1:\n",
      " [[ 12.7   -0.2   -0.74  -0.19]\n",
      " [ -1.49  -8.85   7.08  -8.29]\n",
      " [-19.85  -2.61  -3.59  -2.7 ]]\n",
      "w2:\n",
      " [[ 7.44]\n",
      " [ 2.78]\n",
      " [-4.31]\n",
      " [ 2.7 ]]\n",
      "************** The Part b output is given below **************\n",
      "h(x): \n",
      " [ 0.95490792]\n",
      "error e :\n",
      " [ 0.04509208]\n"
     ]
    }
   ],
   "source": [
    "print(\"****************** Machine Learning Fall 2016 ******************\")\n",
    "print(\"************** Assignment 2 Program implementation **************\")\n",
    "print(\"************************ Prasanna  Kolar ************************\")\n",
    "\n",
    "w1=np.array(([-0.18,-0.16,-0.03,-0.15],\n",
    "[0.166,-0.18,0.01,-0.06],\n",
    "[0.14,-0.14,-0.065,-0.06]), dtype=float)\n",
    "w2=np.array(([-1.01],\n",
    "[-1.99],\n",
    "[-0.25],\n",
    "[-1.64]), dtype=float)\n",
    "\n",
    "nn = n_network(w1,w2)\n",
    "x = (1, 2.00, 0.26 )\n",
    "yHat = nn.forward_propagation(x)\n",
    "print(\"************** The Part a output is given below **************\")\n",
    "print(\"h(x): \\n\", yHat)\n",
    "print(\"error e :\\n\", 1-yHat)\n",
    "\n",
    "w1=np.array(([12.70,-0.20,-0.74,-0.19],\n",
    "[-1.49,-8.85,7.08,-8.29],\n",
    "[-19.85,-2.61,-3.59,-2.70]), dtype=float)\n",
    "w2=np.array(([7.44],\n",
    "[2.78],\n",
    "[-4.31],\n",
    "[2.70]), dtype=float)\n",
    "\n",
    "nn = Pras_nn(w1,w2)\n",
    "x = (1, 2.00, 0.26 )\n",
    "yHat = nn.forward_propagation(x)\n",
    "\n",
    "print(\"************** The Part b output is given below **************\")\n",
    "print(\"h(x): \\n\", yHat)\n",
    "print(\"error e :\\n\", 1-yHat)\n"
   ]
  }
 ],
 "metadata": {
  "kernelspec": {
   "display_name": "Python 3",
   "language": "python",
   "name": "python3"
  },
  "language_info": {
   "codemirror_mode": {
    "name": "ipython",
    "version": 3
   },
   "file_extension": ".py",
   "mimetype": "text/x-python",
   "name": "python",
   "nbconvert_exporter": "python",
   "pygments_lexer": "ipython3",
   "version": "3.4.3"
  }
 },
 "nbformat": 4,
 "nbformat_minor": 1
}
