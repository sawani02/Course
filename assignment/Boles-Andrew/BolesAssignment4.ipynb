{
 "cells": [
  {
   "cell_type": "code",
   "execution_count": 39,
   "metadata": {
    "collapsed": true
   },
   "outputs": [],
   "source": [
    "# import statements\n",
    "\n",
    "from __future__ import division\n",
    "import tensorflow as tf\n",
    "import numpy as np\n",
    "import tarfile\n",
    "import os\n",
    "import matplotlib.pyplot as plt\n",
    "import time\n",
    "\n",
    "# Display plots inline \n",
    "%matplotlib inline"
   ]
  },
  {
   "cell_type": "code",
   "execution_count": 40,
   "metadata": {
    "collapsed": false
   },
   "outputs": [
    {
     "name": "stdout",
     "output_type": "stream",
     "text": [
      "loading training data\n",
      "loading test data\n"
     ]
    }
   ],
   "source": [
    "# import email data\n",
    "\n",
    "def csv_to_numpy_array(filePath, delimiter):\n",
    "    return np.genfromtxt(filePath, delimiter=delimiter, dtype=None)\n",
    "\n",
    "def import_data():\n",
    "    if \"data\" not in os.listdir(os.getcwd()):\n",
    "        # Untar directory of data if we haven't already\n",
    "        tarObject = tarfile.open(\"data.tar.gz\")\n",
    "        tarObject.extractall()\n",
    "        tarObject.close()\n",
    "        print(\"Extracted tar to current directory\")\n",
    "    else:\n",
    "        # we've already extracted the files\n",
    "        pass\n",
    "\n",
    "    print(\"loading training data\")\n",
    "    trainX = csv_to_numpy_array(\"data/trainX.csv\", delimiter=\"\\t\")\n",
    "    trainY = csv_to_numpy_array(\"data/trainY.csv\", delimiter=\"\\t\")\n",
    "    print(\"loading test data\")\n",
    "    testX = csv_to_numpy_array(\"data/testX.csv\", delimiter=\"\\t\")\n",
    "    testY = csv_to_numpy_array(\"data/testY.csv\", delimiter=\"\\t\")\n",
    "    return trainX,trainY,testX,testY\n",
    "\n",
    "trainX,trainY,testX,testY = import_data()"
   ]
  },
  {
   "cell_type": "code",
   "execution_count": 41,
   "metadata": {
    "collapsed": true
   },
   "outputs": [],
   "source": [
    "# set parameters for training\n",
    "\n",
    "# features, labels\n",
    "numFeatures = trainX.shape[1]\n",
    "numLabels = trainY.shape[1]"
   ]
  },
  {
   "cell_type": "code",
   "execution_count": 42,
   "metadata": {
    "collapsed": true
   },
   "outputs": [],
   "source": [
    "# define placeholders and variables for use in training\n",
    "\n",
    "X = tf.placeholder(tf.float32, [None, numFeatures])\n",
    "yGold = tf.placeholder(tf.float32, [None, numLabels])\n",
    "\n",
    "weights = tf.Variable(tf.random_normal([numFeatures,numLabels],\n",
    "                                       mean=0,\n",
    "                                       stddev=(np.sqrt(6/numFeatures+\n",
    "                                                         numLabels+1)),\n",
    "                                       name=\"weights\"))\n",
    "bias = tf.Variable(tf.random_normal([1,numLabels],\n",
    "                                    mean=0,\n",
    "                                    stddev=(np.sqrt(6/numFeatures+numLabels+1)),\n",
    "                                    name=\"bias\"))"
   ]
  },
  {
   "cell_type": "code",
   "execution_count": 43,
   "metadata": {
    "collapsed": false
   },
   "outputs": [],
   "source": [
    "# initialize variables\n",
    "init_OP = tf.initialize_all_variables()\n",
    "\n",
    "# define feedforward algorithm\n",
    "y = tf.nn.sigmoid(tf.add(tf.matmul(X, weights, name=\"apply_weights\"), bias, name=\"add_bias\"), name=\"activation\")\n",
    "\n",
    "# define cost function and optimization algorithm (gradient descent)\n",
    "learningRate = tf.train.exponential_decay(learning_rate=0.0008,\n",
    "                                          global_step= 1,\n",
    "                                          decay_steps=trainX.shape[0],\n",
    "                                          decay_rate= 0.95,\n",
    "                                          staircase=True)\n",
    "cost_OP = tf.nn.l2_loss(y-yGold, name=\"squared_error_cost\")\n",
    "training_OP = tf.train.GradientDescentOptimizer(learningRate).minimize(cost_OP)\n",
    "\n",
    "# accuracy function\n",
    "correct_prediction = tf.equal(tf.argmax(y,1), tf.argmax(yGold,1))\n",
    "accuracy = tf.reduce_mean(tf.cast(correct_prediction, tf.float32))"
   ]
  },
  {
   "cell_type": "code",
   "execution_count": 26,
   "metadata": {
    "collapsed": false
   },
   "outputs": [
    {
     "name": "stdout",
     "output_type": "stream",
     "text": [
      "Initialized Session.\n",
      "Optimization Finished!\n",
      "Final error found during training:  0.0933892726898\n",
      "final accuracy on test set: 0.838095\n"
     ]
    }
   ],
   "source": [
    "numEpochs = 10000\n",
    "learningRate = tf.train.exponential_decay(learning_rate=0.0008,\n",
    "                                          global_step= 1,\n",
    "                                          decay_steps=trainX.shape[0],\n",
    "                                          decay_rate= 0.95,\n",
    "                                          staircase=True)\n",
    "# Launch the graph\n",
    "errors = []\n",
    "with tf.Session() as sess:\n",
    "    sess.run(init_OP )\n",
    "    print('Initialized Session.')\n",
    "    for step in range(numEpochs):\n",
    "        # run optimizer at each step in training\n",
    "        sess.run(training_OP, feed_dict={X: trainX, yGold: trainY})\n",
    "        # fill errors array with updated error values\n",
    "        accuracy_value = accuracy.eval(feed_dict={X: trainX, yGold: trainY})\n",
    "        errors.append(1 - accuracy_value)\n",
    "    print('Optimization Finished!')\n",
    "    \n",
    "    # output final error\n",
    "    print(\"Final error found during training: \", errors[-1])\n",
    "    # output accuracy \n",
    "    print(\"final accuracy on test set: %s\" %str(sess.run(accuracy, \n",
    "                                                     feed_dict={X: testX, \n",
    "                                                                yGold: testY})))"
   ]
  },
  {
   "cell_type": "code",
   "execution_count": 55,
   "metadata": {
    "collapsed": false
   },
   "outputs": [
    {
     "name": "stderr",
     "output_type": "stream",
     "text": [
      "/usr/local/lib/python3.4/dist-packages/numpy/core/_methods.py:59: RuntimeWarning: Mean of empty slice.\n",
      "  warnings.warn(\"Mean of empty slice.\", RuntimeWarning)\n"
     ]
    },
    {
     "data": {
      "image/png": "[encoded data removed]",
      "text/plain": [
       "<matplotlib.figure.Figure at 0x7fca62285a20>"
      ]
     },
     "metadata": {},
     "output_type": "display_data"
    }
   ],
   "source": [
    "# plot errors array to see how it decreased\n",
    "plt.plot([np.mean(errors[i-50:i]) for i in range(len(errors))])\n",
    "plt.show()"
   ]
  },
  {
   "cell_type": "code",
   "execution_count": 58,
   "metadata": {
    "collapsed": false
   },
   "outputs": [
    {
     "name": "stdout",
     "output_type": "stream",
     "text": [
      "Initialized Session.\n",
      "Optimization Finished!\n",
      "Final error found during training:  0.0619097352028\n",
      "final accuracy on test set: 0.895238\n"
     ]
    }
   ],
   "source": [
    "# before running new training, make sure to re-initialize and define weights and biases above.\n",
    "numEpochs = 15000\n",
    "learningRate = tf.train.exponential_decay(learning_rate=0.0008,\n",
    "                                          global_step= 1,\n",
    "                                          decay_steps=trainX.shape[0],\n",
    "                                          decay_rate= 0.95,\n",
    "                                          staircase=True)\n",
    "# Launch the graph\n",
    "errors = []\n",
    "with tf.Session() as sess:\n",
    "    sess.run(init_OP )\n",
    "    print('Initialized Session.')\n",
    "    for step in range(numEpochs):\n",
    "        # run optimizer at each step in training\n",
    "        sess.run(training_OP, feed_dict={X: trainX, yGold: trainY})\n",
    "        # fill errors array with updated error values\n",
    "        accuracy_value = accuracy.eval(feed_dict={X: trainX, yGold: trainY})\n",
    "        errors.append(1 - accuracy_value)\n",
    "    print('Optimization Finished!')\n",
    "    \n",
    "    # output final error\n",
    "    print(\"Final error found during training: \", errors[-1])\n",
    "    # output accuracy \n",
    "    print(\"final accuracy on test set: %s\" %str(sess.run(accuracy, \n",
    "                                                     feed_dict={X: testX, \n",
    "                                                                yGold: testY})))"
   ]
  },
  {
   "cell_type": "code",
   "execution_count": 59,
   "metadata": {
    "collapsed": false
   },
   "outputs": [
    {
     "name": "stderr",
     "output_type": "stream",
     "text": [
      "/usr/local/lib/python3.4/dist-packages/numpy/core/_methods.py:59: RuntimeWarning: Mean of empty slice.\n",
      "  warnings.warn(\"Mean of empty slice.\", RuntimeWarning)\n"
     ]
    },
    {
     "data": {
      "image/png": "[encoded data removed]",
      "text/plain": [
       "<matplotlib.figure.Figure at 0x7fca58c71b38>"
      ]
     },
     "metadata": {},
     "output_type": "display_data"
    }
   ],
   "source": [
    "# plot errors array to see how it decreased\n",
    "plt.plot([np.mean(errors[i-50:i]) for i in range(len(errors))])\n",
    "plt.show()"
   ]
  },
  {
   "cell_type": "code",
   "execution_count": 62,
   "metadata": {
    "collapsed": false
   },
   "outputs": [
    {
     "name": "stdout",
     "output_type": "stream",
     "text": [
      "Initialized Session.\n",
      "Optimization Finished!\n",
      "Final error found during training:  0.0503672361374\n",
      "final accuracy on test set: 0.933333\n"
     ]
    }
   ],
   "source": [
    "# before running new training, make sure to re-initialize and define weights and biases above.\n",
    "learningRate = tf.train.exponential_decay(learning_rate=0.001,\n",
    "                                          global_step= 1,\n",
    "                                          decay_steps=trainX.shape[0],\n",
    "                                          decay_rate= 0.95,\n",
    "                                          staircase=True)\n",
    "numEpochs = 15000\n",
    "# Launch the graph\n",
    "errors = []\n",
    "with tf.Session() as sess:\n",
    "    sess.run(init_OP )\n",
    "    print('Initialized Session.')\n",
    "    for step in range(numEpochs):\n",
    "        # run optimizer at each step in training\n",
    "        sess.run(training_OP, feed_dict={X: trainX, yGold: trainY})\n",
    "        # fill errors array with updated error values\n",
    "        accuracy_value = accuracy.eval(feed_dict={X: trainX, yGold: trainY})\n",
    "        errors.append(1 - accuracy_value)\n",
    "    print('Optimization Finished!')\n",
    "    \n",
    "    # output final error\n",
    "    print(\"Final error found during training: \", errors[-1])\n",
    "    # output accuracy \n",
    "    print(\"final accuracy on test set: %s\" %str(sess.run(accuracy, \n",
    "                                                     feed_dict={X: testX, \n",
    "                                                                yGold: testY})))"
   ]
  },
  {
   "cell_type": "code",
   "execution_count": 63,
   "metadata": {
    "collapsed": false
   },
   "outputs": [
    {
     "name": "stderr",
     "output_type": "stream",
     "text": [
      "/usr/local/lib/python3.4/dist-packages/numpy/core/_methods.py:59: RuntimeWarning: Mean of empty slice.\n",
      "  warnings.warn(\"Mean of empty slice.\", RuntimeWarning)\n"
     ]
    },
    {
     "data": {
      "image/png": "[encoded data removed]",
      "text/plain": [
       "<matplotlib.figure.Figure at 0x7fca6222a780>"
      ]
     },
     "metadata": {},
     "output_type": "display_data"
    }
   ],
   "source": [
    "# plot errors array to see how it decreased\n",
    "plt.plot([np.mean(errors[i-50:i]) for i in range(len(errors))])\n",
    "plt.show()"
   ]
  },
  {
   "cell_type": "code",
   "execution_count": 7,
   "metadata": {
    "collapsed": false
   },
   "outputs": [
    {
     "name": "stdout",
     "output_type": "stream",
     "text": [
      "Initialized Session.\n",
      "Optimization Finished!\n",
      "Final error found during training:  0.0535151958466\n",
      "final accuracy on test set: 0.895238\n"
     ]
    }
   ],
   "source": [
    "# before running new training, make sure to re-initialize and define weights and biases above.\n",
    "learningRate = tf.train.exponential_decay(learning_rate=0.001,\n",
    "                                          global_step= 1,\n",
    "                                          decay_steps=trainX.shape[0],\n",
    "                                          decay_rate= 0.95,\n",
    "                                          staircase=True)\n",
    "numEpochs = 20000\n",
    "# Launch the graph\n",
    "errors = []\n",
    "with tf.Session() as sess:\n",
    "    sess.run(init_OP )\n",
    "    print('Initialized Session.')\n",
    "    for step in range(numEpochs):\n",
    "        # run optimizer at each step in training\n",
    "        sess.run(training_OP, feed_dict={X: trainX, yGold: trainY})\n",
    "        # fill errors array with updated error values\n",
    "        accuracy_value = accuracy.eval(feed_dict={X: trainX, yGold: trainY})\n",
    "        errors.append(1 - accuracy_value)\n",
    "    print('Optimization Finished!')\n",
    "    \n",
    "    # output final error\n",
    "    print(\"Final error found during training: \", errors[-1])\n",
    "    # output accuracy \n",
    "    print(\"final accuracy on test set: %s\" %str(sess.run(accuracy, \n",
    "                                                     feed_dict={X: testX, \n",
    "                                                                yGold: testY})))"
   ]
  },
  {
   "cell_type": "code",
   "execution_count": 8,
   "metadata": {
    "collapsed": false
   },
   "outputs": [
    {
     "name": "stderr",
     "output_type": "stream",
     "text": [
      "/usr/local/lib/python3.4/dist-packages/numpy/core/_methods.py:59: RuntimeWarning: Mean of empty slice.\n",
      "  warnings.warn(\"Mean of empty slice.\", RuntimeWarning)\n"
     ]
    },
    {
     "data": {
      "image/png": "[encoded data removed]",
      "text/plain": [
       "<matplotlib.figure.Figure at 0x7f9e69dd7630>"
      ]
     },
     "metadata": {},
     "output_type": "display_data"
    }
   ],
   "source": [
    "# plot errors array to see how it decreased\n",
    "plt.plot([np.mean(errors[i-50:i]) for i in range(len(errors))])\n",
    "plt.show()"
   ]
  },
  {
   "cell_type": "code",
   "execution_count": 11,
   "metadata": {
    "collapsed": false
   },
   "outputs": [
    {
     "name": "stdout",
     "output_type": "stream",
     "text": [
      "Initialized Session.\n",
      "Optimization Finished!\n",
      "Final error found during training:  0.0524659156799\n",
      "final accuracy on test set: 0.933333\n"
     ]
    }
   ],
   "source": [
    "# before running new training, make sure to re-initialize and define weights and biases above.\n",
    "learningRate = tf.train.exponential_decay(learning_rate=0.0001,\n",
    "                                          global_step= 1,\n",
    "                                          decay_steps=trainX.shape[0],\n",
    "                                          decay_rate= 0.95,\n",
    "                                          staircase=True)\n",
    "numEpochs = 20000\n",
    "# Launch the graph\n",
    "errors = []\n",
    "with tf.Session() as sess:\n",
    "    sess.run(init_OP )\n",
    "    print('Initialized Session.')\n",
    "    for step in range(numEpochs):\n",
    "        # run optimizer at each step in training\n",
    "        sess.run(training_OP, feed_dict={X: trainX, yGold: trainY})\n",
    "        # fill errors array with updated error values\n",
    "        accuracy_value = accuracy.eval(feed_dict={X: trainX, yGold: trainY})\n",
    "        errors.append(1 - accuracy_value)\n",
    "    print('Optimization Finished!')\n",
    "    \n",
    "    # output final error\n",
    "    print(\"Final error found during training: \", errors[-1])\n",
    "    # output accuracy \n",
    "    print(\"final accuracy on test set: %s\" %str(sess.run(accuracy, \n",
    "                                                     feed_dict={X: testX, \n",
    "                                                                yGold: testY})))"
   ]
  },
  {
   "cell_type": "code",
   "execution_count": 12,
   "metadata": {
    "collapsed": false
   },
   "outputs": [
    {
     "name": "stderr",
     "output_type": "stream",
     "text": [
      "/usr/local/lib/python3.4/dist-packages/numpy/core/_methods.py:59: RuntimeWarning: Mean of empty slice.\n",
      "  warnings.warn(\"Mean of empty slice.\", RuntimeWarning)\n"
     ]
    },
    {
     "data": {
      "image/png": "[encoded data removed]",
      "text/plain": [
       "<matplotlib.figure.Figure at 0x7f9e77c3d160>"
      ]
     },
     "metadata": {},
     "output_type": "display_data"
    }
   ],
   "source": [
    "# plot errors array to see how it decreased\n",
    "plt.plot([np.mean(errors[i-50:i]) for i in range(len(errors))])\n",
    "plt.show()"
   ]
  },
  {
   "cell_type": "code",
   "execution_count": 15,
   "metadata": {
    "collapsed": false
   },
   "outputs": [
    {
     "name": "stdout",
     "output_type": "stream",
     "text": [
      "Initialized Session.\n",
      "Optimization Finished!\n",
      "Final error found during training:  0.0503672361374\n",
      "final accuracy on test set: 0.914286\n"
     ]
    }
   ],
   "source": [
    "# before running new training, make sure to re-initialize and define weights and biases above.\n",
    "learningRate = tf.train.exponential_decay(learning_rate=0.0001,\n",
    "                                          global_step= 1,\n",
    "                                          decay_steps=trainX.shape[0],\n",
    "                                          decay_rate= 0.95,\n",
    "                                          staircase=True)\n",
    "numEpochs = 25000\n",
    "# Launch the graph\n",
    "errors = []\n",
    "with tf.Session() as sess:\n",
    "    sess.run(init_OP )\n",
    "    print('Initialized Session.')\n",
    "    for step in range(numEpochs):\n",
    "        # run optimizer at each step in training\n",
    "        sess.run(training_OP, feed_dict={X: trainX, yGold: trainY})\n",
    "        # fill errors array with updated error values\n",
    "        accuracy_value = accuracy.eval(feed_dict={X: trainX, yGold: trainY})\n",
    "        errors.append(1 - accuracy_value)\n",
    "    print('Optimization Finished!')\n",
    "    \n",
    "    # output final error\n",
    "    print(\"Final error found during training: \", errors[-1])\n",
    "    # output accuracy \n",
    "    print(\"final accuracy on test set: %s\" %str(sess.run(accuracy, \n",
    "                                                     feed_dict={X: testX, \n",
    "                                                                yGold: testY})))"
   ]
  },
  {
   "cell_type": "code",
   "execution_count": 16,
   "metadata": {
    "collapsed": false
   },
   "outputs": [
    {
     "name": "stderr",
     "output_type": "stream",
     "text": [
      "/usr/local/lib/python3.4/dist-packages/numpy/core/_methods.py:59: RuntimeWarning: Mean of empty slice.\n",
      "  warnings.warn(\"Mean of empty slice.\", RuntimeWarning)\n"
     ]
    },
    {
     "data": {
      "image/png": "[encoded data removed]",
      "text/plain": [
       "<matplotlib.figure.Figure at 0x7f9e77c44240>"
      ]
     },
     "metadata": {},
     "output_type": "display_data"
    }
   ],
   "source": [
    "# plot errors array to see how it decreased\n",
    "plt.plot([np.mean(errors[i-50:i]) for i in range(len(errors))])\n",
    "plt.show()"
   ]
  },
  {
   "cell_type": "code",
   "execution_count": 19,
   "metadata": {
    "collapsed": false
   },
   "outputs": [
    {
     "name": "stdout",
     "output_type": "stream",
     "text": [
      "Initialized Session.\n",
      "Optimization Finished!\n",
      "Final error found during training:  0.0440713763237\n",
      "final accuracy on test set: 0.92381\n"
     ]
    }
   ],
   "source": [
    "# before running new training, make sure to re-initialize and define weights and biases above.\n",
    "learningRate = tf.train.exponential_decay(learning_rate=0.0001,\n",
    "                                          global_step= 1,\n",
    "                                          decay_steps=trainX.shape[0],\n",
    "                                          decay_rate= 0.95,\n",
    "                                          staircase=True)\n",
    "numEpochs = 26000\n",
    "# Launch the graph\n",
    "errors = []\n",
    "with tf.Session() as sess:\n",
    "    sess.run(init_OP )\n",
    "    print('Initialized Session.')\n",
    "    for step in range(numEpochs):\n",
    "        # run optimizer at each step in training\n",
    "        sess.run(training_OP, feed_dict={X: trainX, yGold: trainY})\n",
    "        # fill errors array with updated error values\n",
    "        accuracy_value = accuracy.eval(feed_dict={X: trainX, yGold: trainY})\n",
    "        errors.append(1 - accuracy_value)\n",
    "    print('Optimization Finished!')\n",
    "    \n",
    "    # output final error\n",
    "    print(\"Final error found during training: \", errors[-1])\n",
    "    # output accuracy \n",
    "    print(\"final accuracy on test set: %s\" %str(sess.run(accuracy, \n",
    "                                                     feed_dict={X: testX, \n",
    "                                                                yGold: testY})))"
   ]
  },
  {
   "cell_type": "code",
   "execution_count": 20,
   "metadata": {
    "collapsed": false
   },
   "outputs": [
    {
     "name": "stderr",
     "output_type": "stream",
     "text": [
      "/usr/local/lib/python3.4/dist-packages/numpy/core/_methods.py:59: RuntimeWarning: Mean of empty slice.\n",
      "  warnings.warn(\"Mean of empty slice.\", RuntimeWarning)\n"
     ]
    },
    {
     "data": {
      "image/png": "[encoded data removed]",
      "text/plain": [
       "<matplotlib.figure.Figure at 0x7f9e78d0e438>"
      ]
     },
     "metadata": {},
     "output_type": "display_data"
    }
   ],
   "source": [
    "# plot errors array to see how it decreased\n",
    "plt.plot([np.mean(errors[i-50:i]) for i in range(len(errors))])\n",
    "plt.show()"
   ]
  },
  {
   "cell_type": "code",
   "execution_count": 35,
   "metadata": {
    "collapsed": false
   },
   "outputs": [
    {
     "name": "stdout",
     "output_type": "stream",
     "text": [
      "Initialized Session.\n",
      "Optimization Finished!\n",
      "Final error found during training:  0.0482686161995\n",
      "final accuracy on test set: 0.914286\n"
     ]
    }
   ],
   "source": [
    "# before running new training, make sure to re-initialize and define weights and biases above.\n",
    "learningRate = tf.train.exponential_decay(learning_rate=0.0001,\n",
    "                                          global_step= 1,\n",
    "                                          decay_steps=trainX.shape[0],\n",
    "                                          decay_rate= 0.95,\n",
    "                                          staircase=True)\n",
    "numEpochs = 27000\n",
    "# Launch the graph\n",
    "errors = []\n",
    "with tf.Session() as sess:\n",
    "    sess.run(init_OP )\n",
    "    print('Initialized Session.')\n",
    "    for step in range(numEpochs):\n",
    "        # run optimizer at each step in training\n",
    "        sess.run(training_OP, feed_dict={X: trainX, yGold: trainY})\n",
    "        # fill errors array with updated error values\n",
    "        accuracy_value = accuracy.eval(feed_dict={X: trainX, yGold: trainY})\n",
    "        errors.append(1 - accuracy_value)\n",
    "    print('Optimization Finished!')\n",
    "    \n",
    "    # output final error\n",
    "    print(\"Final error found during training: \", errors[-1])\n",
    "    # output accuracy \n",
    "    print(\"final accuracy on test set: %s\" %str(sess.run(accuracy, \n",
    "                                                     feed_dict={X: testX, \n",
    "                                                                yGold: testY})))"
   ]
  },
  {
   "cell_type": "code",
   "execution_count": 24,
   "metadata": {
    "collapsed": false
   },
   "outputs": [
    {
     "name": "stderr",
     "output_type": "stream",
     "text": [
      "/usr/local/lib/python3.4/dist-packages/numpy/core/_methods.py:59: RuntimeWarning: Mean of empty slice.\n",
      "  warnings.warn(\"Mean of empty slice.\", RuntimeWarning)\n"
     ]
    },
    {
     "data": {
      "image/png": "[encoded data removed]",
      "text/plain": [
       "<matplotlib.figure.Figure at 0x7f9e77bf0240>"
      ]
     },
     "metadata": {},
     "output_type": "display_data"
    }
   ],
   "source": [
    "# plot errors array to see how it decreased\n",
    "plt.plot([np.mean(errors[i-50:i]) for i in range(len(errors))])\n",
    "plt.show()"
   ]
  },
  {
   "cell_type": "code",
   "execution_count": 27,
   "metadata": {
    "collapsed": false
   },
   "outputs": [
    {
     "name": "stdout",
     "output_type": "stream",
     "text": [
      "Initialized Session.\n",
      "Optimization Finished!\n",
      "Final error found during training:  0.0482686161995\n",
      "final accuracy on test set: 0.904762\n"
     ]
    }
   ],
   "source": [
    "# before running new training, make sure to re-initialize and define weights and biases above.\n",
    "learningRate = tf.train.exponential_decay(learning_rate=0.00001,\n",
    "                                          global_step= 1,\n",
    "                                          decay_steps=trainX.shape[0],\n",
    "                                          decay_rate= 0.95,\n",
    "                                          staircase=True)\n",
    "numEpochs = 26000\n",
    "# Launch the graph\n",
    "errors = []\n",
    "with tf.Session() as sess:\n",
    "    sess.run(init_OP )\n",
    "    print('Initialized Session.')\n",
    "    for step in range(numEpochs):\n",
    "        # run optimizer at each step in training\n",
    "        sess.run(training_OP, feed_dict={X: trainX, yGold: trainY})\n",
    "        # fill errors array with updated error values\n",
    "        accuracy_value = accuracy.eval(feed_dict={X: trainX, yGold: trainY})\n",
    "        errors.append(1 - accuracy_value)\n",
    "    print('Optimization Finished!')\n",
    "    \n",
    "    # output final error\n",
    "    print(\"Final error found during training: \", errors[-1])\n",
    "    # output accuracy \n",
    "    print(\"final accuracy on test set: %s\" %str(sess.run(accuracy, \n",
    "                                                     feed_dict={X: testX, \n",
    "                                                                yGold: testY})))"
   ]
  },
  {
   "cell_type": "code",
   "execution_count": 28,
   "metadata": {
    "collapsed": false
   },
   "outputs": [
    {
     "name": "stderr",
     "output_type": "stream",
     "text": [
      "/usr/local/lib/python3.4/dist-packages/numpy/core/_methods.py:59: RuntimeWarning: Mean of empty slice.\n",
      "  warnings.warn(\"Mean of empty slice.\", RuntimeWarning)\n"
     ]
    },
    {
     "data": {
      "image/png": "[encoded data removed]",
      "text/plain": [
       "<matplotlib.figure.Figure at 0x7f9e77a923c8>"
      ]
     },
     "metadata": {},
     "output_type": "display_data"
    }
   ],
   "source": [
    "# plot errors array to see how it decreased\n",
    "plt.plot([np.mean(errors[i-50:i]) for i in range(len(errors))])\n",
    "plt.show()"
   ]
  },
  {
   "cell_type": "code",
   "execution_count": 31,
   "metadata": {
    "collapsed": false
   },
   "outputs": [
    {
     "name": "stdout",
     "output_type": "stream",
     "text": [
      "Initialized Session.\n",
      "Optimization Finished!\n",
      "Final error found during training:  0.0472193360329\n",
      "final accuracy on test set: 0.914286\n"
     ]
    }
   ],
   "source": [
    "# before running new training, make sure to re-initialize and define weights and biases above.\n",
    "learningRate = tf.train.exponential_decay(learning_rate=0.0001,\n",
    "                                          global_step= 1,\n",
    "                                          decay_steps=trainX.shape[0],\n",
    "                                          decay_rate= 0.95,\n",
    "                                          staircase=True)\n",
    "numEpochs = 28000\n",
    "# Launch the graph\n",
    "errors = []\n",
    "with tf.Session() as sess:\n",
    "    sess.run(init_OP )\n",
    "    print('Initialized Session.')\n",
    "    for step in range(numEpochs):\n",
    "        # run optimizer at each step in training\n",
    "        sess.run(training_OP, feed_dict={X: trainX, yGold: trainY})\n",
    "        # fill errors array with updated error values\n",
    "        accuracy_value = accuracy.eval(feed_dict={X: trainX, yGold: trainY})\n",
    "        errors.append(1 - accuracy_value)\n",
    "    print('Optimization Finished!')\n",
    "    \n",
    "    # output final error\n",
    "    print(\"Final error found during training: \", errors[-1])\n",
    "    # output accuracy \n",
    "    print(\"final accuracy on test set: %s\" %str(sess.run(accuracy, \n",
    "                                                     feed_dict={X: testX, \n",
    "                                                                yGold: testY})))"
   ]
  },
  {
   "cell_type": "code",
   "execution_count": 32,
   "metadata": {
    "collapsed": false
   },
   "outputs": [
    {
     "name": "stderr",
     "output_type": "stream",
     "text": [
      "/usr/local/lib/python3.4/dist-packages/numpy/core/_methods.py:59: RuntimeWarning: Mean of empty slice.\n",
      "  warnings.warn(\"Mean of empty slice.\", RuntimeWarning)\n"
     ]
    },
    {
     "data": {
      "image/png": "[encoded data removed]",
      "text/plain": [
       "<matplotlib.figure.Figure at 0x7f9e77c83d30>"
      ]
     },
     "metadata": {},
     "output_type": "display_data"
    }
   ],
   "source": [
    "# plot errors array to see how it decreased\n",
    "plt.plot([np.mean(errors[i-50:i]) for i in range(len(errors))])\n",
    "plt.show()"
   ]
  },
  {
   "cell_type": "markdown",
   "metadata": {},
   "source": [
    "Part A:\n",
    "\n",
    "1. The best accuracy I got on the test data was = 0.942857\n",
    "2. Optimum value of numEpochs and learningRate that gave the above accuracy are: 26000 and 0.0001 respectively. \n",
    "3. Please see the graph plotted below."
   ]
  },
  {
   "cell_type": "code",
   "execution_count": 36,
   "metadata": {
    "collapsed": false
   },
   "outputs": [
    {
     "name": "stderr",
     "output_type": "stream",
     "text": [
      "/usr/local/lib/python3.4/dist-packages/numpy/core/_methods.py:59: RuntimeWarning: Mean of empty slice.\n",
      "  warnings.warn(\"Mean of empty slice.\", RuntimeWarning)\n"
     ]
    },
    {
     "data": {
      "image/png": "[encoded data removed]",
      "text/plain": [
       "<matplotlib.figure.Figure at 0x7f9e77bf6198>"
      ]
     },
     "metadata": {},
     "output_type": "display_data"
    }
   ],
   "source": [
    "# plot errors array to see how it decreased\n",
    "plt.plot([np.mean(errors[i-50:i]) for i in range(len(errors))])\n",
    "plt.show()"
   ]
  },
  {
   "cell_type": "markdown",
   "metadata": {},
   "source": [
    "Part B is below:"
   ]
  },
  {
   "cell_type": "code",
   "execution_count": 44,
   "metadata": {
    "collapsed": true
   },
   "outputs": [],
   "source": [
    "# re-define variables and algorithms to include neural network layers\n",
    "# --> starting with three additional layers.\n",
    "\n",
    "# define placeholders and variables for use in training\n",
    "\n",
    "X = tf.placeholder(tf.float32, [None, numFeatures])\n",
    "yGold = tf.placeholder(tf.float32, [None, numLabels])\n",
    "\n",
    "hidden1 = 4\n",
    "hidden2 = numLabels\n",
    "\n",
    "w1 = tf.Variable(tf.random_normal([numFeatures,hidden1],\n",
    "                                       mean=0,\n",
    "                                       stddev=(np.sqrt(6/numFeatures+\n",
    "                                                         numLabels+1)),\n",
    "                                       name=\"weights\"))\n",
    "b1 = tf.Variable(tf.random_normal([1,hidden1],\n",
    "                                    mean=0,\n",
    "                                    stddev=(np.sqrt(6/numFeatures+numLabels+1)),\n",
    "                                    name=\"bias\"))\n",
    "w2 = tf.Variable(tf.random_normal([hidden1,hidden2],\n",
    "                                       mean=0,\n",
    "                                       stddev=(np.sqrt(6/numFeatures+\n",
    "                                                         numLabels+1)),\n",
    "                                       name=\"weights\"))\n",
    "b2 = tf.Variable(tf.random_normal([1,hidden2],\n",
    "                                    mean=0,\n",
    "                                    stddev=(np.sqrt(6/numFeatures+numLabels+1)),\n",
    "                                    name=\"bias\"))\n",
    "\n",
    "# initialize variables\n",
    "init_OP = tf.initialize_all_variables()\n",
    "\n",
    "# define feedforward algorithms\n",
    "h1 = tf.nn.sigmoid(tf.add(tf.matmul(X, w1), b1))\n",
    "y = tf.nn.sigmoid(tf.add(tf.matmul(h1, w2), b2))\n",
    "\n",
    "# define cost function and optimization algorithm (gradient descent)\n",
    "cost_OP = tf.nn.l2_loss(y-yGold, name=\"squared_error_cost\")\n",
    "training_OP = tf.train.GradientDescentOptimizer(learningRate).minimize(cost_OP)\n",
    "\n",
    "# accuracy function\n",
    "correct_prediction = tf.equal(tf.argmax(y,1), tf.argmax(yGold,1))\n",
    "accuracy = tf.reduce_mean(tf.cast(correct_prediction, tf.float32))"
   ]
  },
  {
   "cell_type": "code",
   "execution_count": 45,
   "metadata": {
    "collapsed": false
   },
   "outputs": [
    {
     "name": "stdout",
     "output_type": "stream",
     "text": [
      "Initialized Session.\n",
      "Optimization Finished!\n",
      "Final error found during training:  0.0104931592941\n",
      "final accuracy on test set: 0.990476\n"
     ]
    }
   ],
   "source": [
    "# before running new training, make sure to re-initialize and define weights and biases above.\n",
    "learningRate = tf.train.exponential_decay(learning_rate=0.0001,\n",
    "                                          global_step= 1,\n",
    "                                          decay_steps=trainX.shape[0],\n",
    "                                          decay_rate= 0.95,\n",
    "                                          staircase=True)\n",
    "numEpochs = 26000\n",
    "# Launch the graph\n",
    "errors = []\n",
    "with tf.Session() as sess:\n",
    "    sess.run(init_OP )\n",
    "    print('Initialized Session.')\n",
    "    for step in range(numEpochs):\n",
    "        # run optimizer at each step in training\n",
    "        sess.run(training_OP, feed_dict={X: trainX, yGold: trainY})\n",
    "        # fill errors array with updated error values\n",
    "        accuracy_value = accuracy.eval(feed_dict={X: trainX, yGold: trainY})\n",
    "        errors.append(1 - accuracy_value)\n",
    "    print('Optimization Finished!')\n",
    "    \n",
    "    # output final error\n",
    "    print(\"Final error found during training: \", errors[-1])\n",
    "    # output accuracy \n",
    "    print(\"final accuracy on test set: %s\" %str(sess.run(accuracy, \n",
    "                                                     feed_dict={X: testX, \n",
    "                                                                yGold: testY})))"
   ]
  },
  {
   "cell_type": "code",
   "execution_count": 46,
   "metadata": {
    "collapsed": false
   },
   "outputs": [
    {
     "name": "stderr",
     "output_type": "stream",
     "text": [
      "/usr/local/lib/python3.4/dist-packages/numpy/core/_methods.py:59: RuntimeWarning: Mean of empty slice.\n",
      "  warnings.warn(\"Mean of empty slice.\", RuntimeWarning)\n"
     ]
    },
    {
     "data": {
      "image/png": "[encoded data removed]",
      "text/plain": [
       "<matplotlib.figure.Figure at 0x7f9e77902470>"
      ]
     },
     "metadata": {},
     "output_type": "display_data"
    }
   ],
   "source": [
    "# plot errors array to see how it decreased\n",
    "plt.plot([np.mean(errors[i-50:i]) for i in range(len(errors))])\n",
    "plt.show()"
   ]
  },
  {
   "cell_type": "markdown",
   "metadata": {},
   "source": [
    "Part B: By adding in one hidden layer to the neural network, I was able to improve the accuracy on the test set to 0.99476!"
   ]
  }
 ],
 "metadata": {
  "kernelspec": {
   "display_name": "Python 3",
   "language": "python",
   "name": "python3"
  },
  "language_info": {
   "codemirror_mode": {
    "name": "ipython",
    "version": 3
   },
   "file_extension": ".py",
   "mimetype": "text/x-python",
   "name": "python",
   "nbconvert_exporter": "python",
   "pygments_lexer": "ipython3",
   "version": "3.4.3"
  }
 },
 "nbformat": 4,
 "nbformat_minor": 1
}
