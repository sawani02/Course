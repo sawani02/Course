{
 "cells": [
  {
   "cell_type": "markdown",
   "metadata": {},
   "source": [
    "# Network with No Hidden Layers\n",
    "In this File,we run the default network to test combinations for obtaining best accuracy.\n",
    "\n",
    "We run the Training algorith for 27000 Iterations with a Learning rate of 0.001 to get the best training accuracy of 95.8% and an accuracy of 94% on the Test Set."
   ]
  },
  {
   "cell_type": "code",
   "execution_count": 1,
   "metadata": {
    "collapsed": false
   },
   "outputs": [],
   "source": [
    "import matplotlib\n",
    "matplotlib.use('Agg')\n",
    "from __future__ import division\n",
    "import tensorflow as tf\n",
    "import numpy as np\n",
    "import tarfile\n",
    "import os\n",
    "import matplotlib.pyplot as plt\n",
    "%matplotlib inline\n",
    "import time"
   ]
  },
  {
   "cell_type": "code",
   "execution_count": 2,
   "metadata": {
    "collapsed": false
   },
   "outputs": [
    {
     "name": "stdout",
     "output_type": "stream",
     "text": [
      "loading training data\n",
      "loading test data\n"
     ]
    }
   ],
   "source": [
    "def csv_to_numpy_array(filePath, delimiter):\n",
    "    return np.genfromtxt(filePath, delimiter=delimiter, dtype=None)\n",
    "def import_data():\n",
    "    if \"data\" not in os.listdir(os.getcwd()):\n",
    "        # Untar directory of data if we haven't already\n",
    "        tarObject = tarfile.open(\"data.tar.gz\")\n",
    "        tarObject.extractall()\n",
    "        tarObject.close()\n",
    "        print(\"Extracted tar to current directory\")\n",
    "    else:\n",
    "        # we've already extracted the files\n",
    "        pass\n",
    "    print(\"loading training data\")\n",
    "    trainX = csv_to_numpy_array(\"data/trainX.csv\", delimiter=\"\\t\")\n",
    "    trainY = csv_to_numpy_array(\"data/trainY.csv\", delimiter=\"\\t\")\n",
    "    print(\"loading test data\")\n",
    "    testX = csv_to_numpy_array(\"data/testX.csv\", delimiter=\"\\t\")\n",
    "    testY = csv_to_numpy_array(\"data/testY.csv\", delimiter=\"\\t\")\n",
    "    return trainX,trainY,testX,testY\n",
    "trainX,trainY,testX,testY = import_data()"
   ]
  },
  {
   "cell_type": "code",
   "execution_count": 3,
   "metadata": {
    "collapsed": false
   },
   "outputs": [
    {
     "name": "stdout",
     "output_type": "stream",
     "text": [
      "2955\n"
     ]
    }
   ],
   "source": [
    "numFeatures = trainX.shape[1]\n",
    "numLabels = trainY.shape[1]\n",
    "numEpochs = 27000\n",
    "learningRate = tf.train.exponential_decay(learning_rate=0.001,\n",
    "                                          global_step= 1,\n",
    "                                          decay_steps=trainX.shape[0],\n",
    "                                          decay_rate= 0.95,\n",
    "                                          staircase=True)\n",
    "print(numFeatures)"
   ]
  },
  {
   "cell_type": "code",
   "execution_count": 4,
   "metadata": {
    "collapsed": true
   },
   "outputs": [],
   "source": [
    "X = tf.placeholder(tf.float32, [None, numFeatures])\n",
    "yGold = tf.placeholder(tf.float32, [None, numLabels])"
   ]
  },
  {
   "cell_type": "code",
   "execution_count": 5,
   "metadata": {
    "collapsed": true
   },
   "outputs": [],
   "source": [
    "weights = tf.Variable(tf.random_normal([numFeatures,numLabels],\n",
    "                                       mean=0,\n",
    "                                       stddev=(np.sqrt(6/numFeatures+\n",
    "                                                         numLabels+1)),\n",
    "                                       name=\"weights\"))\n",
    "bias = tf.Variable(tf.random_normal([1,numLabels],\n",
    "                                    mean=0,\n",
    "                                    stddev=(np.sqrt(6/numFeatures+numLabels+1)),\n",
    "                                    name=\"bias\"))"
   ]
  },
  {
   "cell_type": "code",
   "execution_count": 6,
   "metadata": {
    "collapsed": true
   },
   "outputs": [],
   "source": [
    "init_OP = tf.initialize_all_variables()\n",
    "apply_weights_OP = tf.matmul(X, weights, name=\"apply_weights\")\n",
    "add_bias_OP = tf.add(apply_weights_OP, bias, name=\"add_bias\") \n",
    "activation_OP = tf.nn.sigmoid(add_bias_OP, name=\"activation\")"
   ]
  },
  {
   "cell_type": "code",
   "execution_count": 7,
   "metadata": {
    "collapsed": true
   },
   "outputs": [],
   "source": [
    "cost_OP = tf.nn.l2_loss(activation_OP-yGold, name=\"squared_error_cost\")\n",
    "training_OP = tf.train.GradientDescentOptimizer(learningRate).minimize(cost_OP)"
   ]
  },
  {
   "cell_type": "code",
   "execution_count": 8,
   "metadata": {
    "collapsed": false
   },
   "outputs": [
    {
     "data": {
      "text/plain": [
       "<matplotlib.figure.Figure at 0x7f8472708ba8>"
      ]
     },
     "metadata": {},
     "output_type": "display_data"
    }
   ],
   "source": [
    "epoch_values=[]\n",
    "accuracy_values=[]\n",
    "cost_values=[]\n",
    "plt.ion()\n",
    "fig = plt.figure()\n",
    "#ax1 = plt.subplot(\"211\")\n",
    "#ax1.set_title(\"TRAINING ACCURACY\", fontsize=18)\n",
    "#ax2 = plt.subplot(\"212\")\n",
    "#ax2.set_title(\"TRAINING COST\", fontsize=18)\n",
    "#plt.tight_layout()"
   ]
  },
  {
   "cell_type": "code",
   "execution_count": 9,
   "metadata": {
    "collapsed": false,
    "scrolled": true
   },
   "outputs": [
    {
     "name": "stdout",
     "output_type": "stream",
     "text": [
      "0.466946\n",
      "0.551941\n",
      "0.552991\n",
      "0.559286\n",
      "0.565582\n",
      "0.56978\n",
      "0.572928\n",
      "0.577125\n",
      "0.586569\n",
      "0.591815\n",
      "0.596013\n",
      "0.608604\n",
      "0.616999\n",
      "0.625394\n",
      "0.632739\n",
      "0.645331\n",
      "0.657922\n",
      "0.66212\n",
      "0.667366\n",
      "0.684155\n",
      "0.699895\n",
      "0.712487\n",
      "0.720881\n",
      "0.730325\n",
      "0.735572\n",
      "0.742917\n",
      "0.749213\n",
      "0.760755\n",
      "0.768101\n",
      "0.771249\n",
      "0.776495\n",
      "0.78489\n",
      "0.791186\n",
      "0.794334\n",
      "0.795383\n",
      "0.798531\n",
      "0.803778\n",
      "0.807975\n",
      "0.809024\n",
      "0.811123\n",
      "0.812172\n",
      "0.81532\n",
      "0.818468\n",
      "0.822665\n",
      "0.833158\n",
      "0.838405\n",
      "0.842602\n",
      "0.842602\n",
      "0.8468\n",
      "0.8468\n",
      "0.849948\n",
      "0.852046\n",
      "0.856243\n",
      "0.859391\n",
      "0.86149\n",
      "0.863589\n",
      "0.863589\n",
      "0.868835\n",
      "0.869885\n",
      "0.873033\n",
      "0.878279\n",
      "0.881427\n",
      "0.885624\n",
      "0.887723\n",
      "0.89192\n",
      "0.894019\n",
      "0.897167\n",
      "0.897167\n",
      "0.898216\n",
      "0.898216\n",
      "0.900315\n",
      "0.901364\n",
      "0.902413\n",
      "0.904512\n",
      "0.904512\n",
      "0.905561\n",
      "0.906611\n",
      "0.90766\n",
      "0.908709\n",
      "0.910808\n",
      "0.911857\n",
      "0.911857\n",
      "0.911857\n",
      "0.913956\n",
      "0.913956\n",
      "0.913956\n",
      "0.913956\n",
      "0.913956\n",
      "0.915005\n",
      "0.915005\n",
      "0.915005\n",
      "0.917104\n",
      "0.918153\n",
      "0.918153\n",
      "0.918153\n",
      "0.919203\n",
      "0.920252\n",
      "0.920252\n",
      "0.921301\n",
      "0.9234\n",
      "0.9234\n",
      "0.924449\n",
      "0.925498\n",
      "0.926548\n",
      "0.926548\n",
      "0.926548\n",
      "0.927597\n",
      "0.927597\n",
      "0.930745\n",
      "0.930745\n",
      "0.931794\n",
      "0.932844\n",
      "0.934942\n",
      "0.934942\n",
      "0.934942\n",
      "0.934942\n",
      "0.935992\n",
      "0.935992\n",
      "0.935992\n",
      "0.935992\n",
      "0.935992\n",
      "0.935992\n",
      "0.935992\n",
      "0.937041\n",
      "0.93809\n",
      "0.940189\n",
      "0.941238\n",
      "0.941238\n",
      "0.941238\n",
      "0.941238\n",
      "0.941238\n",
      "0.941238\n",
      "0.941238\n",
      "0.941238\n",
      "0.942288\n",
      "0.943337\n",
      "0.943337\n",
      "0.943337\n",
      "0.943337\n",
      "0.944386\n",
      "0.944386\n",
      "0.944386\n",
      "0.944386\n",
      "0.944386\n",
      "0.944386\n",
      "0.944386\n",
      "0.945435\n",
      "0.945435\n",
      "0.945435\n",
      "0.945435\n",
      "0.945435\n",
      "0.945435\n",
      "0.945435\n",
      "0.946485\n",
      "0.946485\n",
      "0.946485\n",
      "0.947534\n",
      "0.947534\n",
      "0.948583\n",
      "0.948583\n",
      "0.948583\n",
      "0.948583\n",
      "0.948583\n",
      "0.948583\n",
      "0.948583\n",
      "0.949633\n",
      "0.949633\n",
      "0.949633\n",
      "0.949633\n",
      "0.949633\n",
      "0.950682\n",
      "0.951731\n",
      "0.951731\n",
      "0.951731\n",
      "0.951731\n",
      "0.951731\n",
      "0.951731\n",
      "0.951731\n",
      "0.951731\n",
      "0.951731\n",
      "0.952781\n",
      "0.952781\n",
      "0.952781\n",
      "0.952781\n",
      "0.952781\n",
      "0.952781\n",
      "0.952781\n",
      "0.952781\n",
      "0.952781\n",
      "0.952781\n",
      "0.952781\n",
      "0.952781\n",
      "0.95383\n",
      "0.95383\n",
      "0.95383\n",
      "0.95383\n",
      "0.952781\n",
      "0.952781\n",
      "0.952781\n",
      "0.952781\n",
      "0.952781\n",
      "0.955929\n",
      "0.955929\n",
      "0.955929\n",
      "0.955929\n",
      "0.955929\n",
      "0.955929\n",
      "0.955929\n",
      "0.955929\n",
      "0.955929\n",
      "0.955929\n",
      "0.955929\n",
      "0.955929\n",
      "0.955929\n",
      "0.955929\n",
      "0.955929\n",
      "0.955929\n",
      "0.955929\n",
      "0.955929\n",
      "0.955929\n",
      "0.955929\n",
      "0.955929\n",
      "0.955929\n",
      "0.955929\n",
      "0.955929\n",
      "0.955929\n",
      "0.955929\n",
      "0.955929\n",
      "0.955929\n",
      "0.955929\n",
      "0.955929\n",
      "0.955929\n",
      "0.955929\n",
      "0.955929\n",
      "0.955929\n",
      "0.955929\n",
      "0.955929\n",
      "0.955929\n",
      "0.956978\n",
      "0.956978\n",
      "0.956978\n",
      "0.956978\n",
      "0.956978\n",
      "0.956978\n",
      "0.956978\n",
      "0.956978\n",
      "0.956978\n",
      "0.956978\n",
      "0.956978\n",
      "0.956978\n",
      "0.956978\n",
      "0.958027\n",
      "0.958027\n",
      "0.958027\n",
      "0.958027\n",
      "0.958027\n",
      "0.958027\n",
      "0.958027\n",
      "0.958027\n",
      "0.958027\n",
      "0.958027\n",
      "0.958027\n",
      "0.958027\n",
      "0.958027\n",
      "0.958027\n",
      "0.958027\n",
      "0.958027\n",
      "0.958027\n",
      "0.958027\n",
      "0.958027\n"
     ]
    },
    {
     "data": {
      "image/png": "[encoded data removed]",
      "text/plain": [
       "<matplotlib.figure.Figure at 0x7f84726e7c18>"
      ]
     },
     "metadata": {},
     "output_type": "display_data"
    }
   ],
   "source": [
    "sess = tf.Session()\n",
    "sess.run(init_OP)\n",
    "correct_predictions_OP = tf.equal(tf.argmax(activation_OP,1),tf.argmax(yGold,1))\n",
    "accuracy_OP = tf.reduce_mean(tf.cast(correct_predictions_OP, \"float\"))\n",
    "activation_summary_OP = tf.histogram_summary(\"output\", activation_OP)\n",
    "accuracy_summary_OP = tf.scalar_summary(\"accuracy\", accuracy_OP)\n",
    "cost_summary_OP = tf.scalar_summary(\"cost\", cost_OP)\n",
    "weightSummary = tf.histogram_summary(\"weights\", weights.eval(session=sess))\n",
    "biasSummary = tf.histogram_summary(\"biases\", bias.eval(session=sess))\n",
    "all_summary_OPS = tf.merge_all_summaries()\n",
    "writer = tf.train.SummaryWriter(\"summary_logs\", sess.graph)\n",
    "# Initialize reporting variables\n",
    "cost = 0\n",
    "diff = 1\n",
    "for i in range(numEpochs):\n",
    "    if i > 1 and diff < .0001:\n",
    "        print(\"change in cost %g; convergence.\"%diff)\n",
    "        break\n",
    "    else:\n",
    "        # Run training step\n",
    "        step = sess.run(training_OP, feed_dict={X: trainX, yGold: trainY})\n",
    "        if i % 100 == 0:\n",
    "            epoch_values.append(i)\n",
    "            #summary_results = sess.run(all_summary_OPS, feed_dict = {X:trainX, yGold: trainY})\n",
    "            train_accuracy = sess.run(accuracy_OP, feed_dict={X: trainX, yGold: trainY})\n",
    "            newCost = sess.run(cost_OP, feed_dict={X: trainX, yGold: trainY})\n",
    "            accuracy_values.append(train_accuracy)\n",
    "            cost_values.append(newCost)\n",
    "            diff = abs(newCost - cost)\n",
    "            cost = newCost    \n",
    "            #print(\"step %d, cost %g\"%(i, newCost))\n",
    "            #print(\"step %d, change in cost %g\"%(i, diff))\n",
    "            accuracyLine, = plt.plot(epoch_values, accuracy_values)\n",
    "            #costLine, = plt.plot(epoch_values, cost_values)\n",
    "            print(train_accuracy)\n",
    "            #fig.canvas.draw()\n",
    "            #time.sleep(1)            "
   ]
  },
  {
   "cell_type": "code",
   "execution_count": 10,
   "metadata": {
    "collapsed": false
   },
   "outputs": [
    {
     "name": "stdout",
     "output_type": "stream",
     "text": [
      "final accuracy on test set: 0.942857\n"
     ]
    }
   ],
   "source": [
    "print(\"final accuracy on test set: %s\" %str(sess.run(accuracy_OP, \n",
    "                                                     feed_dict={X: testX, \n",
    "                                                                yGold: testY})))"
   ]
  }
 ],
 "metadata": {
  "kernelspec": {
   "display_name": "Python 3",
   "language": "python",
   "name": "python3"
  },
  "language_info": {
   "codemirror_mode": {
    "name": "ipython",
    "version": 3
   },
   "file_extension": ".py",
   "mimetype": "text/x-python",
   "name": "python",
   "nbconvert_exporter": "python",
   "pygments_lexer": "ipython3",
   "version": "3.4.3"
  }
 },
 "nbformat": 4,
 "nbformat_minor": 1
}
