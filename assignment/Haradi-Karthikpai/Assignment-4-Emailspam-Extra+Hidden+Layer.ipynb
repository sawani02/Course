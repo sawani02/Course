{
 "cells": [
  {
   "cell_type": "markdown",
   "metadata": {},
   "source": [
    "# Network with one extra Hidden Layer\n",
    "In this File, an Extra Hidden layer is added with 100 Nodes, as can be see in the code below\n",
    "\n",
    "We run the Training algorith for 27000 Iterations with a Learning rate of 0.001 to get the best training accuracy of 99.3% and an accuracy of 93% on the Test Set."
   ]
  },
  {
   "cell_type": "code",
   "execution_count": 10,
   "metadata": {
    "collapsed": false
   },
   "outputs": [
    {
     "name": "stderr",
     "output_type": "stream",
     "text": [
      "/usr/lib/python3/dist-packages/matplotlib/__init__.py:1175: UserWarning:  This call to matplotlib.use() has no effect\n",
      "because the backend has already been chosen;\n",
      "matplotlib.use() must be called *before* pylab, matplotlib.pyplot,\n",
      "or matplotlib.backends is imported for the first time.\n",
      "\n",
      "  warnings.warn(_use_error_msg)\n"
     ]
    }
   ],
   "source": [
    "import matplotlib\n",
    "matplotlib.use('Agg')\n",
    "from __future__ import division\n",
    "import tensorflow as tf\n",
    "import numpy as np\n",
    "import tarfile\n",
    "import os\n",
    "import matplotlib.pyplot as plt\n",
    "%matplotlib inline\n",
    "import time"
   ]
  },
  {
   "cell_type": "code",
   "execution_count": 11,
   "metadata": {
    "collapsed": false
   },
   "outputs": [
    {
     "name": "stdout",
     "output_type": "stream",
     "text": [
      "loading training data\n",
      "loading test data\n"
     ]
    }
   ],
   "source": [
    "def csv_to_numpy_array(filePath, delimiter):\n",
    "    return np.genfromtxt(filePath, delimiter=delimiter, dtype=None)\n",
    "def import_data():\n",
    "    if \"data\" not in os.listdir(os.getcwd()):\n",
    "        # Untar directory of data if we haven't already\n",
    "        tarObject = tarfile.open(\"data.tar.gz\")\n",
    "        tarObject.extractall()\n",
    "        tarObject.close()\n",
    "        print(\"Extracted tar to current directory\")\n",
    "    else:\n",
    "        # we've already extracted the files\n",
    "        pass\n",
    "    print(\"loading training data\")\n",
    "    trainX = csv_to_numpy_array(\"data/trainX.csv\", delimiter=\"\\t\")\n",
    "    trainY = csv_to_numpy_array(\"data/trainY.csv\", delimiter=\"\\t\")\n",
    "    print(\"loading test data\")\n",
    "    testX = csv_to_numpy_array(\"data/testX.csv\", delimiter=\"\\t\")\n",
    "    testY = csv_to_numpy_array(\"data/testY.csv\", delimiter=\"\\t\")\n",
    "    return trainX,trainY,testX,testY\n",
    "trainX,trainY,testX,testY = import_data()"
   ]
  },
  {
   "cell_type": "code",
   "execution_count": 12,
   "metadata": {
    "collapsed": false
   },
   "outputs": [],
   "source": [
    "numEntries = trainX.shape[0]\n",
    "numFeatures = trainX.shape[1]\n",
    "numHidden = 100\n",
    "numLabels = trainY.shape[1]\n",
    "numEpochs = 27000\n",
    "learningRate = tf.train.exponential_decay(learning_rate=0.001,\n",
    "                                          global_step= 1,\n",
    "                                          decay_steps=trainX.shape[0],\n",
    "                                          decay_rate= 0.95,\n",
    "                                          staircase=True)"
   ]
  },
  {
   "cell_type": "code",
   "execution_count": 13,
   "metadata": {
    "collapsed": false
   },
   "outputs": [],
   "source": [
    "X = tf.placeholder(tf.float32, [None, numFeatures])\n",
    "yGold = tf.placeholder(tf.float32, [None, numLabels])"
   ]
  },
  {
   "cell_type": "code",
   "execution_count": 14,
   "metadata": {
    "collapsed": false
   },
   "outputs": [],
   "source": [
    "weights = tf.Variable(tf.random_normal([numHidden,numLabels],\n",
    "                                       mean=0,\n",
    "                                       stddev=(np.sqrt(6/numFeatures+\n",
    "                                                         numLabels+1)),\n",
    "                                       name=\"weights\"))\n",
    "Hiddenweights = tf.Variable(tf.random_normal([numFeatures,numHidden],\n",
    "                                       mean=0,\n",
    "                                       stddev=(np.sqrt(6/numFeatures+\n",
    "                                                         numFeatures+1)),\n",
    "                                       name=\"Hiddenweights\"))\n",
    "\n",
    "bias = tf.Variable(tf.random_normal([1,numLabels],\n",
    "                                    mean=0,\n",
    "                                    stddev=(np.sqrt(6/numFeatures+numLabels+1)),\n",
    "                                    name=\"bias\"))"
   ]
  },
  {
   "cell_type": "code",
   "execution_count": 15,
   "metadata": {
    "collapsed": false
   },
   "outputs": [],
   "source": [
    "init_OP = tf.initialize_all_variables()\n",
    "hid_apply_weights_OP = tf.matmul(X, Hiddenweights, name=\"hid_apply_weights\")\n",
    "hid_activation_OP = tf.nn.sigmoid(hid_apply_weights_OP, name=\"hid_activation\")\n",
    "apply_weights_OP = tf.matmul(hid_activation_OP, weights, name=\"apply_weights\")\n",
    "add_bias_OP = tf.add(apply_weights_OP, bias, name=\"add_bias\") \n",
    "activation_OP = tf.nn.sigmoid(add_bias_OP, name=\"activation\")"
   ]
  },
  {
   "cell_type": "code",
   "execution_count": 16,
   "metadata": {
    "collapsed": true
   },
   "outputs": [],
   "source": [
    "cost_OP = tf.nn.l2_loss(activation_OP-yGold, name=\"squared_error_cost\")\n",
    "training_OP = tf.train.GradientDescentOptimizer(learningRate).minimize(cost_OP)"
   ]
  },
  {
   "cell_type": "code",
   "execution_count": 17,
   "metadata": {
    "collapsed": false
   },
   "outputs": [
    {
     "data": {
      "text/plain": [
       "<matplotlib.figure.Figure at 0x7f92298d9c18>"
      ]
     },
     "metadata": {},
     "output_type": "display_data"
    }
   ],
   "source": [
    "epoch_values=[]\n",
    "accuracy_values=[]\n",
    "cost_values=[]\n",
    "plt.ion()\n",
    "fig = plt.figure()\n",
    "#ax1 = plt.subplot(\"211\")\n",
    "#ax1.set_title(\"TRAINING ACCURACY\", fontsize=18)\n",
    "#ax2 = plt.subplot(\"212\")\n",
    "#ax2.set_title(\"TRAINING COST\", fontsize=18)\n",
    "#plt.tight_layout()"
   ]
  },
  {
   "cell_type": "code",
   "execution_count": 20,
   "metadata": {
    "collapsed": false,
    "scrolled": false
   },
   "outputs": [
    {
     "name": "stdout",
     "output_type": "stream",
     "text": [
      "0.451207\n",
      "0.535152\n",
      "0.60021\n",
      "0.669465\n",
      "0.729276\n",
      "0.768101\n",
      "0.80063\n",
      "0.832109\n",
      "0.859391\n",
      "0.873033\n",
      "0.885624\n",
      "0.883526\n",
      "0.896118\n",
      "0.900315\n",
      "0.904512\n",
      "0.911857\n",
      "0.913956\n",
      "0.916055\n",
      "0.92235\n",
      "0.924449\n",
      "0.926548\n",
      "0.928646\n",
      "0.931794\n",
      "0.933893\n",
      "0.93809\n",
      "0.941238\n",
      "0.943337\n",
      "0.947534\n",
      "0.951731\n",
      "0.954879\n",
      "0.955929\n",
      "0.958027\n",
      "0.958027\n",
      "0.958027\n",
      "0.960126\n",
      "0.960126\n",
      "0.961175\n",
      "0.961175\n",
      "0.961175\n",
      "0.961175\n",
      "0.961175\n",
      "0.962225\n",
      "0.963274\n",
      "0.964323\n",
      "0.964323\n",
      "0.964323\n",
      "0.965373\n",
      "0.965373\n",
      "0.965373\n",
      "0.965373\n",
      "0.965373\n",
      "0.965373\n",
      "0.96852\n",
      "0.96852\n",
      "0.96957\n",
      "0.96957\n",
      "0.970619\n",
      "0.972718\n",
      "0.972718\n",
      "0.972718\n",
      "0.973767\n",
      "0.974816\n",
      "0.975866\n",
      "0.975866\n",
      "0.975866\n",
      "0.975866\n",
      "0.976915\n",
      "0.976915\n",
      "0.976915\n",
      "0.977964\n",
      "0.977964\n",
      "0.981112\n",
      "0.981112\n",
      "0.982162\n",
      "0.982162\n",
      "0.982162\n",
      "0.982162\n",
      "0.982162\n",
      "0.982162\n",
      "0.982162\n",
      "0.982162\n",
      "0.982162\n",
      "0.982162\n",
      "0.982162\n",
      "0.982162\n",
      "0.982162\n",
      "0.983211\n",
      "0.983211\n",
      "0.983211\n",
      "0.983211\n",
      "0.983211\n",
      "0.983211\n",
      "0.983211\n",
      "0.983211\n",
      "0.98426\n",
      "0.98426\n",
      "0.98426\n",
      "0.98426\n",
      "0.98426\n",
      "0.98531\n",
      "0.98531\n",
      "0.98531\n",
      "0.98531\n",
      "0.98531\n",
      "0.98531\n",
      "0.98531\n",
      "0.98531\n",
      "0.98531\n",
      "0.98531\n",
      "0.98531\n",
      "0.98531\n",
      "0.98531\n",
      "0.98531\n",
      "0.98531\n",
      "0.98531\n",
      "0.98531\n",
      "0.98531\n",
      "0.98531\n",
      "0.98531\n",
      "0.98531\n",
      "0.98531\n",
      "0.98531\n",
      "0.986359\n",
      "0.986359\n",
      "0.986359\n",
      "0.986359\n",
      "0.986359\n",
      "0.986359\n",
      "0.987408\n",
      "0.987408\n",
      "0.987408\n",
      "0.988458\n",
      "0.988458\n",
      "0.988458\n",
      "0.988458\n",
      "0.988458\n",
      "0.988458\n",
      "0.988458\n",
      "0.988458\n",
      "0.988458\n",
      "0.988458\n",
      "0.988458\n",
      "0.988458\n",
      "0.989507\n",
      "0.989507\n",
      "0.989507\n",
      "0.989507\n",
      "0.989507\n",
      "0.989507\n",
      "0.989507\n",
      "0.989507\n",
      "0.989507\n",
      "0.989507\n",
      "0.989507\n",
      "0.989507\n",
      "0.989507\n",
      "0.989507\n",
      "0.989507\n",
      "0.989507\n",
      "0.989507\n",
      "0.989507\n",
      "0.989507\n",
      "0.989507\n",
      "0.989507\n",
      "0.989507\n",
      "0.989507\n",
      "0.989507\n",
      "0.989507\n",
      "0.989507\n",
      "0.989507\n",
      "0.989507\n",
      "0.989507\n",
      "0.989507\n",
      "0.989507\n",
      "0.989507\n",
      "0.989507\n",
      "0.989507\n",
      "0.989507\n",
      "0.989507\n",
      "0.989507\n",
      "0.989507\n",
      "0.990556\n",
      "0.990556\n",
      "0.990556\n",
      "0.990556\n",
      "0.990556\n",
      "0.990556\n",
      "0.990556\n",
      "0.990556\n",
      "0.990556\n",
      "0.990556\n",
      "0.990556\n",
      "0.990556\n",
      "0.990556\n",
      "0.990556\n",
      "0.990556\n",
      "0.990556\n",
      "0.990556\n",
      "0.990556\n",
      "0.990556\n",
      "0.990556\n",
      "0.990556\n",
      "0.990556\n",
      "0.990556\n",
      "0.990556\n",
      "0.990556\n",
      "0.990556\n",
      "0.991605\n",
      "0.991605\n",
      "0.991605\n",
      "0.991605\n",
      "0.992655\n",
      "0.992655\n",
      "0.992655\n",
      "0.992655\n",
      "0.992655\n",
      "0.992655\n",
      "0.992655\n",
      "0.992655\n",
      "0.992655\n",
      "0.992655\n",
      "0.992655\n",
      "0.992655\n",
      "0.992655\n",
      "0.992655\n",
      "0.992655\n",
      "0.992655\n",
      "0.992655\n",
      "0.992655\n",
      "0.992655\n",
      "0.992655\n",
      "0.992655\n",
      "0.992655\n",
      "0.992655\n",
      "0.992655\n",
      "0.992655\n",
      "0.992655\n",
      "0.992655\n",
      "0.992655\n",
      "0.992655\n",
      "0.992655\n",
      "0.992655\n",
      "0.992655\n",
      "0.992655\n",
      "0.992655\n",
      "0.992655\n",
      "0.992655\n",
      "0.992655\n",
      "0.992655\n",
      "0.992655\n",
      "0.992655\n",
      "0.992655\n",
      "0.992655\n",
      "0.992655\n",
      "0.992655\n",
      "0.992655\n",
      "0.992655\n",
      "0.992655\n",
      "0.992655\n",
      "0.992655\n",
      "0.992655\n",
      "0.992655\n",
      "0.992655\n",
      "0.992655\n",
      "0.992655\n",
      "0.992655\n",
      "0.992655\n",
      "0.992655\n",
      "0.992655\n",
      "0.992655\n"
     ]
    },
    {
     "data": {
      "image/png": "[encoded data removed]",
      "text/plain": [
       "<matplotlib.figure.Figure at 0x7f9280aee358>"
      ]
     },
     "metadata": {},
     "output_type": "display_data"
    }
   ],
   "source": [
    "sess = tf.Session()\n",
    "sess.run(init_OP)\n",
    "correct_predictions_OP = tf.equal(tf.argmax(activation_OP,1),tf.argmax(yGold,1))\n",
    "accuracy_OP = tf.reduce_mean(tf.cast(correct_predictions_OP, \"float\"))\n",
    "activation_summary_OP = tf.histogram_summary(\"output\", activation_OP)\n",
    "accuracy_summary_OP = tf.scalar_summary(\"accuracy\", accuracy_OP)\n",
    "cost_summary_OP = tf.scalar_summary(\"cost\", cost_OP)\n",
    "weightSummary = tf.histogram_summary(\"weights\", weights.eval(session=sess))\n",
    "biasSummary = tf.histogram_summary(\"biases\", bias.eval(session=sess))\n",
    "all_summary_OPS = tf.merge_all_summaries()\n",
    "writer = tf.train.SummaryWriter(\"summary_logs\", sess.graph)\n",
    "# Initialize reporting variables\n",
    "cost = 0\n",
    "diff = 1\n",
    "for i in range(numEpochs):\n",
    "    if i > 1 and diff < .0001:\n",
    "        print(\"change in cost %g; convergence.\"%diff)\n",
    "        break\n",
    "    else:\n",
    "        # Run training step\n",
    "        step = sess.run(training_OP, feed_dict={X: trainX, yGold: trainY})\n",
    "        if i % 100 == 0:\n",
    "            epoch_values.append(i)\n",
    "            #summary_results = sess.run(all_summary_OPS, feed_dict = {X:trainX, yGold: trainY})\n",
    "            train_accuracy = sess.run(accuracy_OP, feed_dict={X: trainX, yGold: trainY})\n",
    "            newCost = sess.run(cost_OP, feed_dict={X: trainX, yGold: trainY})\n",
    "            accuracy_values.append(train_accuracy)\n",
    "            cost_values.append(newCost)\n",
    "            diff = abs(newCost - cost)\n",
    "            cost = newCost    \n",
    "            #print(\"step %d, cost %g\"%(i, newCost))\n",
    "            #print(\"step %d, change in cost %g\"%(i, diff))\n",
    "            accuracyLine, = plt.plot(epoch_values, accuracy_values)\n",
    "            #costLine, = plt.plot(epoch_values, cost_values)\n",
    "            print(train_accuracy)\n",
    "            #fig.canvas.draw()\n",
    "            #time.sleep(1)            "
   ]
  },
  {
   "cell_type": "code",
   "execution_count": 21,
   "metadata": {
    "collapsed": false
   },
   "outputs": [
    {
     "name": "stdout",
     "output_type": "stream",
     "text": [
      "final accuracy on test set: 0.933333\n"
     ]
    }
   ],
   "source": [
    "print(\"final accuracy on test set: %s\" %str(sess.run(accuracy_OP, \n",
    "                                                     feed_dict={X: testX, \n",
    "                                                                yGold: testY})))"
   ]
  }
 ],
 "metadata": {
  "kernelspec": {
   "display_name": "Python 3",
   "language": "python",
   "name": "python3"
  },
  "language_info": {
   "codemirror_mode": {
    "name": "ipython",
    "version": 3
   },
   "file_extension": ".py",
   "mimetype": "text/x-python",
   "name": "python",
   "nbconvert_exporter": "python",
   "pygments_lexer": "ipython3",
   "version": "3.4.3"
  }
 },
 "nbformat": 4,
 "nbformat_minor": 1
}
