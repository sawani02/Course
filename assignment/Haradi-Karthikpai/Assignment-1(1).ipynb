{
 "cells": [
  {
   "cell_type": "code",
   "execution_count": 7,
   "metadata": {
    "collapsed": false
   },
   "outputs": [],
   "source": [
    "#For computing the cost function\n",
    "def costfunction(x1, y1, theta):\n",
    "    m = float(x1.shape[0])\n",
    "    cost = (1./(2.*m))*(x1*theta-y1).T*(x1*theta-y1)\n",
    "    return cost.flat[0]"
   ]
  },
  {
   "cell_type": "code",
   "execution_count": 8,
   "metadata": {
    "collapsed": true
   },
   "outputs": [],
   "source": [
    "#The Gradient descent function\n",
    "def gradient(x1, y1, theta, iter, alpha):\n",
    "    theta_iter = [] #record theta for each iteration\n",
    "    cost_iter = []  #record cost for each iteration\n",
    "    m = float(x1.shape[0])\n",
    "    for i in range(1,iter):\n",
    "        #update theta\n",
    "        theta = theta-(alpha/m)*x1.T*(x1*theta-y1)\n",
    "        theta_iter.append(theta)\n",
    "        cost_iter.append(costfunction(x1,y1,theta))\n",
    "        return(theta, theta_iter, cost_iter)"
   ]
  },
  {
   "cell_type": "code",
   "execution_count": 9,
   "metadata": {
    "collapsed": false
   },
   "outputs": [],
   "source": [
    "#All Import functions\n",
    "import pandas as pd\n",
    "import numpy as np\n",
    "import matplotlib.pyplot as plt\n",
    "from sklearn import datasets, linear_model\n",
    "%matplotlib inline"
   ]
  },
  {
   "cell_type": "code",
   "execution_count": 10,
   "metadata": {
    "collapsed": false
   },
   "outputs": [
    {
     "name": "stdout",
     "output_type": "stream",
     "text": [
      "   X   Y\n",
      "0  0   1\n",
      "1  1   3\n",
      "2  2   7\n",
      "3  3  13\n",
      "4  4  21\n"
     ]
    }
   ],
   "source": [
    "#Defining Data as Dataframe. Defining as Lists won't work.\n",
    "d={'X' : [0,1,2,3,4], 'Y' : [1,3,7,13,21]}\n",
    "df=pd.DataFrame(d)\n",
    "print(df)"
   ]
  },
  {
   "cell_type": "code",
   "execution_count": 11,
   "metadata": {
    "collapsed": false,
    "scrolled": true
   },
   "outputs": [],
   "source": [
    "#Getting the X and Y datasets from the Dataframe\n",
    "x1 = df.X[:, np.newaxis]\n",
    "y1 = df.Y[:, np.newaxis]"
   ]
  },
  {
   "cell_type": "code",
   "execution_count": 12,
   "metadata": {
    "collapsed": false
   },
   "outputs": [
    {
     "data": {
      "text/plain": [
       "LinearRegression(copy_X=True, fit_intercept=True, n_jobs=1, normalize=False)"
      ]
     },
     "execution_count": 12,
     "metadata": {},
     "output_type": "execute_result"
    }
   ],
   "source": [
    "#Performing Closed form Linear regression\n",
    "from sklearn.linear_model import LinearRegression\n",
    "lm = LinearRegression()\n",
    "lm.fit(x1,y1)"
   ]
  },
  {
   "cell_type": "code",
   "execution_count": 13,
   "metadata": {
    "collapsed": false
   },
   "outputs": [
    {
     "name": "stdout",
     "output_type": "stream",
     "text": [
      "Coefficients: \n",
      " [[ 5.]]\n",
      "Residual sum of squares: 2.80\n",
      "Variance score: 0.95\n"
     ]
    }
   ],
   "source": [
    "#Printing the variables of Regression Analysis\n",
    "print('Coefficients: \\n', lm.coef_)\n",
    "print(\"Residual sum of squares: %.2f\" % np.mean((lm.predict(x1) - y1) ** 2))\n",
    "print('Variance score: %.2f' % lm.score(x1, y1))"
   ]
  },
  {
   "cell_type": "code",
   "execution_count": 14,
   "metadata": {
    "collapsed": false
   },
   "outputs": [
    {
     "data": {
      "text/plain": [
       "[<matplotlib.lines.Line2D at 0x38afefce10>]"
      ]
     },
     "execution_count": 14,
     "metadata": {},
     "output_type": "execute_result"
    },
    {
     "data": {
      "image/png": "[encoded data removed]",
      "text/plain": [
       "<matplotlib.figure.Figure at 0x38afefce80>"
      ]
     },
     "metadata": {},
     "output_type": "display_data"
    }
   ],
   "source": [
    "#Plot Raw data and the Closed form regression Line\n",
    "plt.scatter(x1, y1,  color='black')\n",
    "plt.plot(x1, lm.predict(x1), color='blue',linewidth=2)"
   ]
  },
  {
   "cell_type": "code",
   "execution_count": 15,
   "metadata": {
    "collapsed": false
   },
   "outputs": [
    {
     "data": {
      "text/plain": [
       "<matplotlib.collections.PathCollection at 0x38b03f8518>"
      ]
     },
     "execution_count": 15,
     "metadata": {},
     "output_type": "execute_result"
    },
    {
     "data": {
      "image/png": "[encoded data removed]",
      "text/plain": [
       "<matplotlib.figure.Figure at 0x38b030e390>"
      ]
     },
     "metadata": {},
     "output_type": "display_data"
    }
   ],
   "source": [
    "#Getting the X and Y datasets from the Dataframe\n",
    "x1 = df.X[:, np.newaxis]\n",
    "y1 = df.Y[:, np.newaxis]\n",
    "theta = np.matrix([[0]])\n",
    "alpha = 0.18#Learning Rate\n",
    "iter = 3000#No. of Iterations\n",
    "#Calling the gradient descent function\n",
    "theta, theta_iter, cost_iter = gradient(x1, y1, theta, iter, alpha)\n",
    "result = x1*theta\n",
    "plt.plot(x1, result)\n",
    "plt.scatter(x1, y1, marker='x', c='r')"
   ]
  }
 ],
 "metadata": {
  "anaconda-cloud": {},
  "kernelspec": {
   "display_name": "Python [Root]",
   "language": "python",
   "name": "Python [Root]"
  },
  "language_info": {
   "codemirror_mode": {
    "name": "ipython",
    "version": 3
   },
   "file_extension": ".py",
   "mimetype": "text/x-python",
   "name": "python",
   "nbconvert_exporter": "python",
   "pygments_lexer": "ipython3",
   "version": "3.5.2"
  }
 },
 "nbformat": 4,
 "nbformat_minor": 0
}
