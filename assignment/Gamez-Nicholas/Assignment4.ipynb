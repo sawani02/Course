{
 "cells": [
  {
   "cell_type": "code",
   "execution_count": 77,
   "metadata": {
    "collapsed": false
   },
   "outputs": [],
   "source": [
    "#Nick Gamez jyi358\n",
    "# Packages Required\n",
    "\n",
    "from __future__ import division\n",
    "import tensorflow as tf\n",
    "import numpy as np\n",
    "import tarfile\n",
    "import os\n",
    "import matplotlib\n",
    "import matplotlib.pyplot as plt\n",
    "import time\n",
    "%matplotlib inline "
   ]
  },
  {
   "cell_type": "code",
   "execution_count": 78,
   "metadata": {
    "collapsed": false
   },
   "outputs": [
    {
     "name": "stdout",
     "output_type": "stream",
     "text": [
      "Loading Training Data\n",
      "Loading Test Data\n"
     ]
    }
   ],
   "source": [
    "# Load Data\n",
    "\n",
    "def import_data():\n",
    "    if \"data\" not in os.listdir(os.getcwd()):\n",
    "        print(\"Extracting Data\")\n",
    "        tarData = tarfile.open(\"data.tar.gz\")\n",
    "        tarData.extractall()\n",
    "        tarData.close()\n",
    "    else:\n",
    "        pass\n",
    "    \n",
    "    print(\"Loading Training Data\")\n",
    "    trainX = np.genfromtxt(\"data/trainX.csv\", delimiter=\"\\t\")\n",
    "    trainY = np.genfromtxt(\"data/trainY.csv\", delimiter=\"\\t\")\n",
    "    print(\"Loading Test Data\")\n",
    "    testX = np.genfromtxt(\"data/testX.csv\", delimiter=\"\\t\")\n",
    "    testY = np.genfromtxt(\"data/testY.csv\", delimiter=\"\\t\")\n",
    "    return trainX, trainY, testX, testY\n",
    "\n",
    "trainX, trainY, testX, testY = import_data()"
   ]
  },
  {
   "cell_type": "code",
   "execution_count": 102,
   "metadata": {
    "collapsed": true
   },
   "outputs": [],
   "source": [
    "## Parameters\n",
    "# Number of words\n",
    "numFeatures = trainX.shape[1]\n",
    "# Number of classes to predict\n",
    "numLabels = trainY.shape[1]\n",
    "\n",
    "epochs = 27000\n",
    "learningRate = tf.train.exponential_decay(learning_rate=0.0008,\n",
    "                                          global_step=1,\n",
    "                                          decay_steps=trainX.shape[0],\n",
    "                                          decay_rate=0.95,\n",
    "                                          staircase=True)"
   ]
  },
  {
   "cell_type": "code",
   "execution_count": 103,
   "metadata": {
    "collapsed": true
   },
   "outputs": [],
   "source": [
    "# PlaceHolders\n",
    "X = tf.placeholder(tf.float32, [None, numFeatures])\n",
    "yGold = tf.placeholder(tf.float32, [None, numLabels])\n",
    "\n",
    "\n",
    "## Part B Variables\n",
    "nodesHidden = 4\n",
    "\n",
    "weights1 = tf.Variable(tf.random_normal([numFeatures, nodesHidden],\n",
    "                                        mean=0,\n",
    "                                        stddev=np.sqrt(6/(numFeatures\n",
    "                                                          +numLabels+1)),\n",
    "                                        name=\"weights1\"))\n",
    "bias1 = tf.Variable(tf.random_normal([nodesHidden],\n",
    "                                    mean=0,\n",
    "                                    stddev=np.sqrt(6/(numFeatures\n",
    "                                                      +numLabels+1)),\n",
    "                                    name=\"bias1\"))\n",
    "\n",
    "weightHidden = tf.Variable(tf.random_normal([nodesHidden, numLabels]))\n",
    "biasHidden = tf.Variable(tf.random_normal([numLabels]))"
   ]
  },
  {
   "cell_type": "code",
   "execution_count": 104,
   "metadata": {
    "collapsed": false
   },
   "outputs": [],
   "source": [
    "## Prediction\n",
    "\n",
    "initialize = tf.initialize_all_variables()\n",
    "\n",
    "## Part B\n",
    "firstLayer = tf.nn.sigmoid(tf.add(tf.matmul(X, weights1),bias1))\n",
    "activation = tf.nn.sigmoid(tf.add(tf.matmul(firstLayer,weightHidden),\n",
    "                                  biasHidden))\n",
    "\n",
    "cost = tf.nn.l2_loss(activation-yGold, name=\"squaredErrorCostA\")\n",
    "\n",
    "training = tf.train.GradientDescentOptimizer(learningRate).minimize(\n",
    "        cost)"
   ]
  },
  {
   "cell_type": "code",
   "execution_count": 105,
   "metadata": {
    "collapsed": false
   },
   "outputs": [
    {
     "name": "stderr",
     "output_type": "stream",
     "text": [
      "WARNING:tensorflow:Passing a `GraphDef` to the SummaryWriter is deprecated. Pass a `Graph` object instead, such as `sess.graph`.\n"
     ]
    },
    {
     "name": "stdout",
     "output_type": "stream",
     "text": [
      "Epoch: 0 error: 0.466946\n",
      "Epoch: 1000 error: 0.466946\n",
      "Epoch: 2000 error: 0.466946\n",
      "Epoch: 3000 error: 0.335782\n",
      "Epoch: 4000 error: 0.066107\n",
      "Epoch: 5000 error: 0.049318\n",
      "Epoch: 6000 error: 0.039874\n",
      "Epoch: 7000 error: 0.034627\n",
      "Epoch: 8000 error: 0.030430\n",
      "Epoch: 9000 error: 0.023085\n",
      "Epoch: 10000 error: 0.017838\n",
      "Epoch: 11000 error: 0.016789\n",
      "Epoch: 12000 error: 0.014690\n",
      "Epoch: 13000 error: 0.014690\n",
      "Epoch: 14000 error: 0.014690\n",
      "Epoch: 15000 error: 0.014690\n",
      "Epoch: 16000 error: 0.013641\n",
      "Epoch: 17000 error: 0.013641\n",
      "Epoch: 18000 error: 0.013641\n",
      "Epoch: 19000 error: 0.013641\n",
      "Epoch: 20000 error: 0.009444\n",
      "Epoch: 21000 error: 0.008395\n",
      "Epoch: 22000 error: 0.007345\n",
      "Epoch: 23000 error: 0.005247\n",
      "Epoch: 24000 error: 0.005247\n",
      "Epoch: 25000 error: 0.005247\n",
      "Epoch: 26000 error: 0.005247\n",
      "Final Accuracy on Test Set: 0.990476\n"
     ]
    }
   ],
   "source": [
    "errors =[]\n",
    "with tf.Session() as sess:\n",
    "    sess.run(initialize)\n",
    "    \n",
    "    correctPrediction = tf.equal(tf.argmax(activation,1), \n",
    "                                 tf.argmax(yGold,1))\n",
    "    accuracy = tf.reduce_mean(tf.cast(correctPrediction,\"float\"))\n",
    "    \n",
    "    activationSummary = tf.histogram_summary(\"outputA\", activation)\n",
    "    accuracySummary = tf.scalar_summary(\"accuracyA\", accuracy)\n",
    "    costSummary = tf.scalar_summary(\"costA\", cost)\n",
    "    \n",
    "    weightSummary = tf.histogram_summary(\"weightsA\", \n",
    "                                         weights.eval(session=sess))\n",
    "    biasSummary = tf.histogram_summary(\"biasesA\", bias.eval(session=sess))\n",
    "    \n",
    "    allSummary = tf.merge_all_summaries()\n",
    "    \n",
    "    writer = tf.train.SummaryWriter(\"summary_logs\", sess.graph_def)\n",
    "    \n",
    "    cost = 0\n",
    "    diff = 1\n",
    "    \n",
    "    for i in range(epochs):\n",
    "        if i > 1 and diff < 0.0001:\n",
    "            print(\"change in cost %g; convergence.\"%diff)\n",
    "            break\n",
    "        else:\n",
    "            step = sess.run(training, feed_dict={X: trainX, yGold: trainY})\n",
    "            Caccuracy = accuracy.eval(feed_dict={X: trainX, yGold: trainY})\n",
    "            errors.append(1-Caccuracy)\n",
    "            if i % 1000 == 0:\n",
    "           #     epochValues.append(i)\n",
    "                print(\"Epoch: %i error: %f\"%(i,errors[-1]))\n",
    "           #     summaryResults, trainAccuracy, newCost = sess.run(\n",
    "           #         [allSummary, accuracy, cost],\n",
    "           #         feed_dict={X: trainX, yGold: trainY}\n",
    "           #     )\n",
    "                \n",
    "           #     accuracyValues.append(trainAccuracy)\n",
    "           #     costValues.append(newCost)\n",
    "           #     writer.add_summary(summaryResults, i)\n",
    "                \n",
    "           #     diff = abs(newCost - cost)\n",
    "           #     cost = newCost\n",
    "                \n",
    "           #     print(\"step %d:\\n\\t training accuracy\\n\\t cost %g\\n\\t change in cost %g %g\"%(i,trainAccuracy, newCost, diff))\n",
    "\n",
    "           #     accuracyLine = ax1.plot(epochValues, accuracyValues)\n",
    "           #     costLine = ax2.plot(epochValues, costValues)\n",
    "           #     fig.canvas.draw()\n",
    "           #     time.sleep(1)\n",
    "                \n",
    "    print(\"Final Accuracy on Test Set: %s\"%str(sess.run(accuracy,\n",
    "                                                        feed_dict={X: testX,\n",
    "                                                                   yGold: testY})))\n",
    "    saver = tf.train.Saver()"
   ]
  },
  {
   "cell_type": "code",
   "execution_count": 110,
   "metadata": {
    "collapsed": false
   },
   "outputs": [
    {
     "name": "stderr",
     "output_type": "stream",
     "text": [
      "/usr/local/lib/python3.4/dist-packages/numpy/core/_methods.py:59: RuntimeWarning: Mean of empty slice.\n",
      "  warnings.warn(\"Mean of empty slice.\", RuntimeWarning)\n"
     ]
    },
    {
     "data": {
      "image/png": "[encoded data removed]",
      "text/plain": [
       "<matplotlib.figure.Figure at 0x7f5796c928d0>"
      ]
     },
     "metadata": {},
     "output_type": "display_data"
    },
    {
     "name": "stdout",
     "output_type": "stream",
     "text": [
      "Error settles around 23k-th Epoch using 0.0008 Learning Rate\n"
     ]
    }
   ],
   "source": [
    "plt.plot([np.mean(errors[i-50:i]) for i in range(len(errors))])\n",
    "plt.title(\"Part B Error 1 Hidden Layer\")\n",
    "plt.show()\n",
    "\n",
    "print(\"Error settles around 23k-th Epoch using 0.0008 Learning Rate\")"
   ]
  },
  {
   "cell_type": "code",
   "execution_count": 123,
   "metadata": {
    "collapsed": true
   },
   "outputs": [],
   "source": [
    "## Part A \n",
    "\n",
    "## Parameters\n",
    "# Number of words\n",
    "numFeatures = trainX.shape[1]\n",
    "# Number of classes to predict\n",
    "numLabels = trainY.shape[1]\n",
    "\n",
    "epochs = 27000\n",
    "learningRate = tf.train.exponential_decay(learning_rate=0.0010,\n",
    "                                          global_step=1,\n",
    "                                          decay_steps=trainX.shape[0],\n",
    "                                          decay_rate=0.95,\n",
    "                                          staircase=True)\n",
    "\n",
    "# Variables\n",
    "weights = tf.Variable(tf.random_normal([numFeatures, numLabels],\n",
    "                                        mean=0,\n",
    "                                        stddev=np.sqrt(6/(numFeatures\n",
    "                                                          +numLabels+1)),\n",
    "                                        name=\"weightsA\"))\n",
    "bias = tf.Variable(tf.random_normal([numLabels],\n",
    "                                    mean=0,\n",
    "                                    stddev=np.sqrt(6/(numFeatures\n",
    "                                                      +numLabels+1)),\n",
    "                                    name=\"biasA\"))\n",
    "\n",
    "initialize = tf.initialize_all_variables()\n",
    "\n",
    "activation = tf.nn.sigmoid(tf.add(tf.matmul(X,weights),bias))\n",
    "\n",
    "cost = tf.nn.l2_loss(activation-yGold, name=\"squaredErrorCostA\")\n",
    "\n",
    "training = tf.train.GradientDescentOptimizer(learningRate).minimize(\n",
    "        cost)"
   ]
  },
  {
   "cell_type": "code",
   "execution_count": 109,
   "metadata": {
    "collapsed": false
   },
   "outputs": [
    {
     "name": "stdout",
     "output_type": "stream",
     "text": [
      "Epoch: 0 error: 0.464848\n",
      "Epoch: 1000 error: 0.465897\n",
      "Epoch: 2000 error: 0.413431\n",
      "Epoch: 3000 error: 0.323190\n",
      "Epoch: 4000 error: 0.201469\n",
      "Epoch: 5000 error: 0.146905\n",
      "Epoch: 6000 error: 0.110178\n",
      "Epoch: 7000 error: 0.086044\n",
      "Epoch: 8000 error: 0.069255\n",
      "Epoch: 9000 error: 0.060860\n",
      "Epoch: 10000 error: 0.058762\n",
      "Epoch: 11000 error: 0.053515\n",
      "Epoch: 12000 error: 0.050367\n",
      "Epoch: 13000 error: 0.049318\n",
      "Epoch: 14000 error: 0.050367\n",
      "Epoch: 15000 error: 0.050367\n",
      "Epoch: 16000 error: 0.051417\n",
      "Epoch: 17000 error: 0.052466\n",
      "Epoch: 18000 error: 0.051417\n",
      "Epoch: 19000 error: 0.051417\n",
      "Epoch: 20000 error: 0.050367\n",
      "Epoch: 21000 error: 0.047219\n",
      "Epoch: 22000 error: 0.046170\n",
      "Epoch: 23000 error: 0.046170\n",
      "Epoch: 24000 error: 0.046170\n",
      "Epoch: 25000 error: 0.046170\n",
      "Epoch: 26000 error: 0.044071\n",
      "Final Accuracy on Test Set: 0.933333\n"
     ]
    }
   ],
   "source": [
    "errors =[]\n",
    "with tf.Session() as sess:\n",
    "    sess.run(initialize)\n",
    "    \n",
    "    correctPrediction = tf.equal(tf.argmax(activation,1), \n",
    "                                 tf.argmax(yGold,1))\n",
    "    accuracy = tf.reduce_mean(tf.cast(correctPrediction,\"float\"))\n",
    "       \n",
    "    cost = 0\n",
    "    diff = 1\n",
    "    \n",
    "    for i in range(epochs):\n",
    "        if i > 1 and diff < 0.0001:\n",
    "            print(\"change in cost %g; convergence.\"%diff)\n",
    "            break\n",
    "        else:\n",
    "            step = sess.run(training, feed_dict={X: trainX, yGold: trainY})\n",
    "            Caccuracy = accuracy.eval(feed_dict={X: trainX, yGold: trainY})\n",
    "            errors.append(1-Caccuracy)\n",
    "           \n",
    "            if i % 1000 == 0:\n",
    "                print(\"Epoch: %i error: %f\"%(i,errors[-1]))\n",
    "       \n",
    "    print(\"Final Accuracy on Test Set: %s\"%str(sess.run(accuracy,\n",
    "                                                        feed_dict={X: testX,\n",
    "                                                                   yGold: testY})))\n",
    "    saver = tf.train.Saver()"
   ]
  },
  {
   "cell_type": "code",
   "execution_count": 112,
   "metadata": {
    "collapsed": false
   },
   "outputs": [
    {
     "name": "stderr",
     "output_type": "stream",
     "text": [
      "/usr/local/lib/python3.4/dist-packages/numpy/core/_methods.py:59: RuntimeWarning: Mean of empty slice.\n",
      "  warnings.warn(\"Mean of empty slice.\", RuntimeWarning)\n"
     ]
    },
    {
     "data": {
      "image/png": "[encoded data removed]",
      "text/plain": [
       "<matplotlib.figure.Figure at 0x7f57965c50f0>"
      ]
     },
     "metadata": {},
     "output_type": "display_data"
    },
    {
     "name": "stdout",
     "output_type": "stream",
     "text": [
      "Error stabilizes at 22k epochs\n",
      "Learning Rate 0.0008\n"
     ]
    }
   ],
   "source": [
    "plt.plot([np.mean(errors[i-50:i]) for i in range(len(errors))])\n",
    "plt.title(\"Error for Part A no Hidden Layer\")\n",
    "plt.show()\n",
    "print(\"Error stabilizes at 22k epochs\\nLearning Rate 0.0008\")"
   ]
  },
  {
   "cell_type": "code",
   "execution_count": 114,
   "metadata": {
    "collapsed": false
   },
   "outputs": [
    {
     "name": "stdout",
     "output_type": "stream",
     "text": [
      "Epoch: 0 error: 0.466946\n",
      "Epoch: 1000 error: 0.466946\n",
      "Epoch: 2000 error: 0.451207\n",
      "Epoch: 3000 error: 0.398741\n",
      "Epoch: 4000 error: 0.324239\n",
      "Epoch: 5000 error: 0.229801\n",
      "Epoch: 6000 error: 0.167891\n",
      "Epoch: 7000 error: 0.131165\n",
      "Epoch: 8000 error: 0.110178\n",
      "Epoch: 9000 error: 0.091291\n",
      "Epoch: 10000 error: 0.076600\n",
      "Epoch: 11000 error: 0.068206\n",
      "Epoch: 12000 error: 0.060860\n",
      "Epoch: 13000 error: 0.059811\n",
      "Epoch: 14000 error: 0.054565\n",
      "Epoch: 15000 error: 0.054565\n",
      "Epoch: 16000 error: 0.051417\n",
      "Epoch: 17000 error: 0.049318\n",
      "Epoch: 18000 error: 0.049318\n",
      "Epoch: 19000 error: 0.051417\n",
      "Epoch: 20000 error: 0.052466\n",
      "Epoch: 21000 error: 0.051417\n",
      "Epoch: 22000 error: 0.052466\n",
      "Epoch: 23000 error: 0.051417\n",
      "Epoch: 24000 error: 0.051417\n",
      "Epoch: 25000 error: 0.051417\n",
      "Epoch: 26000 error: 0.050367\n",
      "Final Accuracy on Test Set: 0.92381\n"
     ]
    }
   ],
   "source": [
    "errors =[]\n",
    "with tf.Session() as sess:\n",
    "    sess.run(initialize)\n",
    "    \n",
    "    correctPrediction = tf.equal(tf.argmax(activation,1), \n",
    "                                 tf.argmax(yGold,1))\n",
    "    accuracy = tf.reduce_mean(tf.cast(correctPrediction,\"float\"))\n",
    "       \n",
    "    cost = 0\n",
    "    diff = 1\n",
    "    \n",
    "    for i in range(epochs):\n",
    "        if i > 1 and diff < 0.0001:\n",
    "            print(\"change in cost %g; convergence.\"%diff)\n",
    "            break\n",
    "        else:\n",
    "            step = sess.run(training, feed_dict={X: trainX, yGold: trainY})\n",
    "            Caccuracy = accuracy.eval(feed_dict={X: trainX, yGold: trainY})\n",
    "            errors.append(1-Caccuracy)\n",
    "           \n",
    "            if i % 1000 == 0:\n",
    "                print(\"Epoch: %i error: %f\"%(i,errors[-1]))\n",
    "       \n",
    "    print(\"Final Accuracy on Test Set: %s\"%str(sess.run(accuracy,\n",
    "                                                        feed_dict={X: testX,\n",
    "                                                                   yGold: testY})))\n",
    "    saver = tf.train.Saver()"
   ]
  },
  {
   "cell_type": "code",
   "execution_count": 115,
   "metadata": {
    "collapsed": false
   },
   "outputs": [
    {
     "name": "stderr",
     "output_type": "stream",
     "text": [
      "/usr/local/lib/python3.4/dist-packages/numpy/core/_methods.py:59: RuntimeWarning: Mean of empty slice.\n",
      "  warnings.warn(\"Mean of empty slice.\", RuntimeWarning)\n"
     ]
    },
    {
     "data": {
      "image/png": "[encoded data removed]",
      "text/plain": [
       "<matplotlib.figure.Figure at 0x7f576dac7198>"
      ]
     },
     "metadata": {},
     "output_type": "display_data"
    },
    {
     "name": "stdout",
     "output_type": "stream",
     "text": [
      "Error stabilizes at 27k epochs: %f\n",
      "Learning Rate 0.0006\n"
     ]
    }
   ],
   "source": [
    "plt.plot([np.mean(errors[i-50:i]) for i in range(len(errors))])\n",
    "plt.title(\"Error for Part A no Hidden Layer\")\n",
    "plt.show()\n",
    "print(\"Error stabilizes at 27k epochs: %f\\nLearning Rate 0.0006\")"
   ]
  },
  {
   "cell_type": "code",
   "execution_count": 124,
   "metadata": {
    "collapsed": false
   },
   "outputs": [
    {
     "name": "stdout",
     "output_type": "stream",
     "text": [
      "Epoch: 0 error: 0.421826\n",
      "Epoch: 1000 error: 0.461700\n",
      "Epoch: 2000 error: 0.380902\n",
      "Epoch: 3000 error: 0.235047\n",
      "Epoch: 4000 error: 0.142707\n",
      "Epoch: 5000 error: 0.105981\n",
      "Epoch: 6000 error: 0.075551\n",
      "Epoch: 7000 error: 0.061910\n",
      "Epoch: 8000 error: 0.056663\n",
      "Epoch: 9000 error: 0.052466\n",
      "Epoch: 10000 error: 0.050367\n",
      "Epoch: 11000 error: 0.049318\n",
      "Epoch: 12000 error: 0.050367\n",
      "Epoch: 13000 error: 0.051417\n",
      "Epoch: 14000 error: 0.051417\n",
      "Epoch: 15000 error: 0.051417\n",
      "Epoch: 16000 error: 0.049318\n",
      "Epoch: 17000 error: 0.046170\n",
      "Epoch: 18000 error: 0.046170\n",
      "Epoch: 19000 error: 0.046170\n",
      "Epoch: 20000 error: 0.045121\n",
      "Epoch: 21000 error: 0.045121\n",
      "Epoch: 22000 error: 0.043022\n",
      "Epoch: 23000 error: 0.043022\n",
      "Epoch: 24000 error: 0.040923\n",
      "Epoch: 25000 error: 0.040923\n",
      "Epoch: 26000 error: 0.040923\n",
      "Final Accuracy on Test Set: 0.933333\n"
     ]
    }
   ],
   "source": [
    "errors =[]\n",
    "with tf.Session() as sess:\n",
    "    sess.run(initialize)\n",
    "    \n",
    "    correctPrediction = tf.equal(tf.argmax(activation,1), \n",
    "                                 tf.argmax(yGold,1))\n",
    "    accuracy = tf.reduce_mean(tf.cast(correctPrediction,\"float\"))\n",
    "       \n",
    "    cost = 0\n",
    "    diff = 1\n",
    "    \n",
    "    for i in range(epochs):\n",
    "        if i > 1 and diff < 0.0001:\n",
    "            print(\"change in cost %g; convergence.\"%diff)\n",
    "            break\n",
    "        else:\n",
    "            step = sess.run(training, feed_dict={X: trainX, yGold: trainY})\n",
    "            Caccuracy = accuracy.eval(feed_dict={X: trainX, yGold: trainY})\n",
    "            errors.append(1-Caccuracy)\n",
    "           \n",
    "            if i % 1000 == 0:\n",
    "                print(\"Epoch: %i error: %f\"%(i,errors[-1]))\n",
    "       \n",
    "    print(\"Final Accuracy on Test Set: %s\"%str(sess.run(accuracy,\n",
    "                                                        feed_dict={X: testX,\n",
    "                                                                   yGold: testY})))\n",
    "    saver = tf.train.Saver()"
   ]
  },
  {
   "cell_type": "code",
   "execution_count": 127,
   "metadata": {
    "collapsed": false
   },
   "outputs": [
    {
     "name": "stderr",
     "output_type": "stream",
     "text": [
      "/usr/local/lib/python3.4/dist-packages/numpy/core/_methods.py:59: RuntimeWarning: Mean of empty slice.\n",
      "  warnings.warn(\"Mean of empty slice.\", RuntimeWarning)\n"
     ]
    },
    {
     "data": {
      "image/png": "[encoded data removed]",
      "text/plain": [
       "<matplotlib.figure.Figure at 0x7f579380f940>"
      ]
     },
     "metadata": {},
     "output_type": "display_data"
    },
    {
     "name": "stdout",
     "output_type": "stream",
     "text": [
      "Error stabilizes at 24k epochs: 0.039874\n",
      "Learning Rate 0.0010\n"
     ]
    }
   ],
   "source": [
    "plt.plot([np.mean(errors[i-50:i]) for i in range(len(errors))])\n",
    "plt.title(\"Error for Part A no Hidden Layer\")\n",
    "plt.show()\n",
    "print(\"Error stabilizes at 24k epochs: %f\\nLearning Rate 0.0010\"%errors[-1])"
   ]
  },
  {
   "cell_type": "code",
   "execution_count": null,
   "metadata": {
    "collapsed": true
   },
   "outputs": [],
   "source": []
  }
 ],
 "metadata": {
  "kernelspec": {
   "display_name": "Python 3",
   "language": "python",
   "name": "python3"
  },
  "language_info": {
   "codemirror_mode": {
    "name": "ipython",
    "version": 3
   },
   "file_extension": ".py",
   "mimetype": "text/x-python",
   "name": "python",
   "nbconvert_exporter": "python",
   "pygments_lexer": "ipython3",
   "version": "3.4.3"
  }
 },
 "nbformat": 4,
 "nbformat_minor": 1
}
