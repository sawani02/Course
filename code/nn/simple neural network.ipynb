{
 "cells": [
  {
   "cell_type": "code",
   "execution_count": 1,
   "metadata": {
    "collapsed": true
   },
   "outputs": [],
   "source": [
    "import numpy as np\n",
    "import math\n",
    "import matplotlib.pyplot as plt\n",
    "%matplotlib inline"
   ]
  },
  {
   "cell_type": "markdown",
   "metadata": {
    "collapsed": true
   },
   "source": [
    "# Neural Networks with 3 layers and (3,2,2) number of nodes\n",
    "<img src=\"image/nn322.png\">"
   ]
  },
  {
   "cell_type": "code",
   "execution_count": 2,
   "metadata": {
    "collapsed": false
   },
   "outputs": [
    {
     "name": "stdout",
     "output_type": "stream",
     "text": [
      "Layer 1\n",
      "X1 = [[ 1.  0.  1.]\n",
      " [ 1.  0.  1.]\n",
      " [ 1.  1.  1.]\n",
      " [ 1.  0.  0.]]\n"
     ]
    }
   ],
   "source": [
    "#Layer 1 - input\n",
    "print (\"Layer 1\")\n",
    "X1 = np.array ([[1,0,1],\n",
    "               [1+0.,0,1],\n",
    "               [1,1,1],\n",
    "               [1,0,0]])\n",
    "print (\"X1 =\", X1)"
   ]
  },
  {
   "cell_type": "code",
   "execution_count": 3,
   "metadata": {
    "collapsed": false
   },
   "outputs": [
    {
     "name": "stdout",
     "output_type": "stream",
     "text": [
      "Layer2\n",
      "B2 = [0 0]\n",
      "X1 = [[ 1.  0.  1.]\n",
      " [ 1.  0.  1.]\n",
      " [ 1.  1.  1.]\n",
      " [ 1.  0.  0.]]\n",
      "W12 =\n",
      "[[0 1]\n",
      " [0 0]\n",
      " [1 0]]\n",
      "Y2 = [[ 1.  1.]\n",
      " [ 1.  1.]\n",
      " [ 1.  1.]\n",
      " [ 0.  1.]]\n",
      "A2 = [[ 0.73105858  0.73105858]\n",
      " [ 0.73105858  0.73105858]\n",
      " [ 0.73105858  0.73105858]\n",
      " [ 0.5         0.73105858]]\n"
     ]
    }
   ],
   "source": [
    "# Layer 2 \n",
    "print (\"Layer2\")\n",
    "B2 = np.array ([0,0])\n",
    "print (\"B2 =\" , B2)\n",
    "print (\"X1 =\", X1)\n",
    "W12 = np.array ([[0,1],\n",
    "                [0,0],\n",
    "                [1,0]])\n",
    "#W1 = np.random.randn(4, 3)\n",
    "\n",
    "W12\n",
    "print (\"W12 =\") \n",
    "print (W12)\n",
    "Y2 = X1.dot(W12) + B2\n",
    "print (\"Y2 =\", Y2)\n",
    "A2 =1/(1+np.exp(-Y2))\n",
    "print (\"A2 =\", A2)"
   ]
  },
  {
   "cell_type": "code",
   "execution_count": 4,
   "metadata": {
    "collapsed": false,
    "scrolled": true
   },
   "outputs": [
    {
     "name": "stdout",
     "output_type": "stream",
     "text": [
      "Layer3\n",
      "B2 = [0 0]\n",
      "A2 = [[ 0.73105858  0.73105858]\n",
      " [ 0.73105858  0.73105858]\n",
      " [ 0.73105858  0.73105858]\n",
      " [ 0.5         0.73105858]]\n",
      "W23 =\n",
      "[[1 0]\n",
      " [0 1]]\n",
      "Y3 = [[ 0.73105858  0.73105858]\n",
      " [ 0.73105858  0.73105858]\n",
      " [ 0.73105858  0.73105858]\n",
      " [ 0.5         0.73105858]]\n",
      "A3 = [[ 0.67503753  0.67503753]\n",
      " [ 0.67503753  0.67503753]\n",
      " [ 0.67503753  0.67503753]\n",
      " [ 0.62245933  0.67503753]]\n"
     ]
    }
   ],
   "source": [
    "# Layer 3 \n",
    "print (\"Layer3\")\n",
    "B3 = np.array ([0,0])\n",
    "print (\"B2 =\" , B2)\n",
    "print (\"A2 =\", A2)\n",
    "W23 = np.array ([[1,0],\n",
    "                [0,1]])\n",
    "#W3 = np.random.randn(2, 3)\n",
    "print (\"W23 =\") \n",
    "print (W23)\n",
    "Y3 = A2.dot(W23) + B3\n",
    "print (\"Y3 =\", Y3)\n",
    "A3 =1/(1+np.exp(-Y3))\n",
    "print (\"A3 =\", A3)"
   ]
  },
  {
   "cell_type": "code",
   "execution_count": null,
   "metadata": {
    "collapsed": true
   },
   "outputs": [],
   "source": []
  },
  {
   "cell_type": "code",
   "execution_count": null,
   "metadata": {
    "collapsed": true
   },
   "outputs": [],
   "source": []
  }
 ],
 "metadata": {
  "anaconda-cloud": {},
  "kernelspec": {
   "display_name": "Python [Root]",
   "language": "python",
   "name": "Python [Root]"
  },
  "language_info": {
   "codemirror_mode": {
    "name": "ipython",
    "version": 3
   },
   "file_extension": ".py",
   "mimetype": "text/x-python",
   "name": "python",
   "nbconvert_exporter": "python",
   "pygments_lexer": "ipython3",
   "version": "3.5.2"
  }
 },
 "nbformat": 4,
 "nbformat_minor": 0
}
