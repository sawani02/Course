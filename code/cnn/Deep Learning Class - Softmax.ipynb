{
 "cells": [
  {
   "cell_type": "code",
   "execution_count": 1,
   "metadata": {
    "collapsed": true
   },
   "outputs": [],
   "source": [
    "import numpy as np \n",
    "import matplotlib.pyplot as plt\n",
    "%matplotlib inline"
   ]
  },
  {
   "cell_type": "code",
   "execution_count": 4,
   "metadata": {
    "collapsed": false
   },
   "outputs": [
    {
     "name": "stdout",
     "output_type": "stream",
     "text": [
      "[-1.15756493 -0.79532433  1.07915346 -0.03827853 -1.45425275 -1.90797347\n",
      " -0.11167376  1.36715692  1.3359575  -1.00951159]\n",
      "[ 0.02238439  0.03215618  0.20957514  0.06855596  0.01663778  0.01056932\n",
      "  0.06370449  0.27952334  0.27093702  0.02595638]\n"
     ]
    }
   ],
   "source": [
    "a = np.random.randn(10)\n",
    "print (a)\n",
    "softmax_a = np.exp(a)/(np.exp(a)).sum()\n",
    "print (softmax_a)"
   ]
  },
  {
   "cell_type": "code",
   "execution_count": 12,
   "metadata": {
    "collapsed": false,
    "scrolled": true
   },
   "outputs": [
    {
     "data": {
      "image/png": "[encoded data removed]",
      "text/plain": [
       "<matplotlib.figure.Figure at 0x11464e5c0>"
      ]
     },
     "metadata": {},
     "output_type": "display_data"
    }
   ],
   "source": [
    "plt.subplot(1, 2, 1)\n",
    "plt.scatter(np.arange(0,len(a),1),a,color='red')\n",
    "plt.subplot(1, 2, 2)\n",
    "plt.scatter(np.arange(0,len(a),1),softmax_a,color='blue')\n",
    "plt.show()"
   ]
  },
  {
   "cell_type": "code",
   "execution_count": 9,
   "metadata": {
    "collapsed": false
   },
   "outputs": [],
   "source": [
    "b = np.random.randn(100,2)\n",
    "expb = np.exp(b)\n",
    "softmax_b = expb/expb.sum(axis=1,keepdims=True)"
   ]
  },
  {
   "cell_type": "code",
   "execution_count": 10,
   "metadata": {
    "collapsed": false
   },
   "outputs": [
    {
     "data": {
      "text/plain": [
       "array([[ 0.35750486,  0.64249514],\n",
       "       [ 0.19555827,  0.80444173],\n",
       "       [ 0.53055452,  0.46944548],\n",
       "       [ 0.7761232 ,  0.2238768 ],\n",
       "       [ 0.21138047,  0.78861953],\n",
       "       [ 0.63550496,  0.36449504],\n",
       "       [ 0.68436883,  0.31563117],\n",
       "       [ 0.15569814,  0.84430186],\n",
       "       [ 0.80364596,  0.19635404],\n",
       "       [ 0.3476126 ,  0.6523874 ],\n",
       "       [ 0.65752491,  0.34247509],\n",
       "       [ 0.61311472,  0.38688528],\n",
       "       [ 0.16574904,  0.83425096],\n",
       "       [ 0.3930068 ,  0.6069932 ],\n",
       "       [ 0.59859201,  0.40140799],\n",
       "       [ 0.50577143,  0.49422857],\n",
       "       [ 0.89693007,  0.10306993],\n",
       "       [ 0.52342696,  0.47657304],\n",
       "       [ 0.42442864,  0.57557136],\n",
       "       [ 0.36940257,  0.63059743],\n",
       "       [ 0.28305826,  0.71694174],\n",
       "       [ 0.72315451,  0.27684549],\n",
       "       [ 0.89954178,  0.10045822],\n",
       "       [ 0.75519784,  0.24480216],\n",
       "       [ 0.26612509,  0.73387491],\n",
       "       [ 0.80852512,  0.19147488],\n",
       "       [ 0.68416325,  0.31583675],\n",
       "       [ 0.03307317,  0.96692683],\n",
       "       [ 0.21722068,  0.78277932],\n",
       "       [ 0.91672443,  0.08327557],\n",
       "       [ 0.70196835,  0.29803165],\n",
       "       [ 0.68216145,  0.31783855],\n",
       "       [ 0.20112925,  0.79887075],\n",
       "       [ 0.28954934,  0.71045066],\n",
       "       [ 0.31177354,  0.68822646],\n",
       "       [ 0.82962645,  0.17037355],\n",
       "       [ 0.47444812,  0.52555188],\n",
       "       [ 0.26555047,  0.73444953],\n",
       "       [ 0.70177587,  0.29822413],\n",
       "       [ 0.81570155,  0.18429845],\n",
       "       [ 0.63703838,  0.36296162],\n",
       "       [ 0.37021558,  0.62978442],\n",
       "       [ 0.8988664 ,  0.1011336 ],\n",
       "       [ 0.1836353 ,  0.8163647 ],\n",
       "       [ 0.8501772 ,  0.1498228 ],\n",
       "       [ 0.3266048 ,  0.6733952 ],\n",
       "       [ 0.82310144,  0.17689856],\n",
       "       [ 0.8503917 ,  0.1496083 ],\n",
       "       [ 0.39810817,  0.60189183],\n",
       "       [ 0.90085117,  0.09914883],\n",
       "       [ 0.07806474,  0.92193526],\n",
       "       [ 0.29331349,  0.70668651],\n",
       "       [ 0.11028056,  0.88971944],\n",
       "       [ 0.31239047,  0.68760953],\n",
       "       [ 0.66248275,  0.33751725],\n",
       "       [ 0.53678111,  0.46321889],\n",
       "       [ 0.97721598,  0.02278402],\n",
       "       [ 0.51967683,  0.48032317],\n",
       "       [ 0.73667322,  0.26332678],\n",
       "       [ 0.22534681,  0.77465319],\n",
       "       [ 0.6268907 ,  0.3731093 ],\n",
       "       [ 0.43629279,  0.56370721],\n",
       "       [ 0.66701673,  0.33298327],\n",
       "       [ 0.83970087,  0.16029913],\n",
       "       [ 0.84390822,  0.15609178],\n",
       "       [ 0.68848223,  0.31151777],\n",
       "       [ 0.71783503,  0.28216497],\n",
       "       [ 0.44774958,  0.55225042],\n",
       "       [ 0.52428795,  0.47571205],\n",
       "       [ 0.42239925,  0.57760075],\n",
       "       [ 0.40707987,  0.59292013],\n",
       "       [ 0.26241217,  0.73758783],\n",
       "       [ 0.75435635,  0.24564365],\n",
       "       [ 0.76041059,  0.23958941],\n",
       "       [ 0.1751494 ,  0.8248506 ],\n",
       "       [ 0.2115111 ,  0.7884889 ],\n",
       "       [ 0.33498929,  0.66501071],\n",
       "       [ 0.5563039 ,  0.4436961 ],\n",
       "       [ 0.5702084 ,  0.4297916 ],\n",
       "       [ 0.81746059,  0.18253941],\n",
       "       [ 0.73049817,  0.26950183],\n",
       "       [ 0.82725613,  0.17274387],\n",
       "       [ 0.2892864 ,  0.7107136 ],\n",
       "       [ 0.08020346,  0.91979654],\n",
       "       [ 0.53995019,  0.46004981],\n",
       "       [ 0.76699566,  0.23300434],\n",
       "       [ 0.21584237,  0.78415763],\n",
       "       [ 0.7839562 ,  0.2160438 ],\n",
       "       [ 0.26331428,  0.73668572],\n",
       "       [ 0.06349098,  0.93650902],\n",
       "       [ 0.37812357,  0.62187643],\n",
       "       [ 0.467999  ,  0.532001  ],\n",
       "       [ 0.75328223,  0.24671777],\n",
       "       [ 0.60988451,  0.39011549],\n",
       "       [ 0.17355685,  0.82644315],\n",
       "       [ 0.32794276,  0.67205724],\n",
       "       [ 0.62194676,  0.37805324],\n",
       "       [ 0.56737758,  0.43262242],\n",
       "       [ 0.13106675,  0.86893325],\n",
       "       [ 0.13607513,  0.86392487]])"
      ]
     },
     "execution_count": 10,
     "metadata": {},
     "output_type": "execute_result"
    }
   ],
   "source": [
    "softmax_b"
   ]
  },
  {
   "cell_type": "code",
   "execution_count": 35,
   "metadata": {
    "collapsed": false
   },
   "outputs": [
    {
     "data": {
      "text/plain": [
       "array([ 1.,  1.,  1.,  1.,  1.,  1.,  1.,  1.,  1.,  1.,  1.,  1.,  1.,\n",
       "        1.,  1.,  1.,  1.,  1.,  1.,  1.,  1.,  1.,  1.,  1.,  1.,  1.,\n",
       "        1.,  1.,  1.,  1.,  1.,  1.,  1.,  1.,  1.,  1.,  1.,  1.,  1.,\n",
       "        1.,  1.,  1.,  1.,  1.,  1.,  1.,  1.,  1.,  1.,  1.,  1.,  1.,\n",
       "        1.,  1.,  1.,  1.,  1.,  1.,  1.,  1.,  1.,  1.,  1.,  1.,  1.,\n",
       "        1.,  1.,  1.,  1.,  1.,  1.,  1.,  1.,  1.,  1.,  1.,  1.,  1.,\n",
       "        1.,  1.,  1.,  1.,  1.,  1.,  1.,  1.,  1.,  1.,  1.,  1.,  1.,\n",
       "        1.,  1.,  1.,  1.,  1.,  1.,  1.,  1.,  1.])"
      ]
     },
     "execution_count": 35,
     "metadata": {},
     "output_type": "execute_result"
    }
   ],
   "source": [
    "softmax_b.sum(axis=1)"
   ]
  },
  {
   "cell_type": "code",
   "execution_count": null,
   "metadata": {
    "collapsed": true
   },
   "outputs": [],
   "source": []
  }
 ],
 "metadata": {
  "anaconda-cloud": {},
  "kernelspec": {
   "display_name": "Python [Root]",
   "language": "python",
   "name": "Python [Root]"
  },
  "language_info": {
   "codemirror_mode": {
    "name": "ipython",
    "version": 3
   },
   "file_extension": ".py",
   "mimetype": "text/x-python",
   "name": "python",
   "nbconvert_exporter": "python",
   "pygments_lexer": "ipython3",
   "version": "3.5.2"
  }
 },
 "nbformat": 4,
 "nbformat_minor": 0
}
