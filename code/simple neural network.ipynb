{
 "cells": [
  {
   "cell_type": "markdown",
   "metadata": {
    "collapsed": true
   },
   "source": [
    "# Neural Networks with 3 layers and (3,2,2) number of nodes\n",
    "<img src=\"image/nn-3-layer-network.png\">"
   ]
  },
  {
   "cell_type": "code",
   "execution_count": 24,
   "metadata": {
    "collapsed": false
   },
   "outputs": [],
   "source": [
    "import numpy as np\n",
    "import math\n",
    "import matplotlib.pyplot as plt\n",
    "%matplotlib inline"
   ]
  },
  {
   "cell_type": "code",
   "execution_count": 28,
   "metadata": {
    "collapsed": false
   },
   "outputs": [
    {
     "name": "stdout",
     "output_type": "stream",
     "text": [
      "Layer 1\n",
      "X1 = [ 1.    2.    2.26]\n"
     ]
    }
   ],
   "source": [
    "#Layer 1 - input\n",
    "print (\"Layer 1\")\n",
    "X1 = np.array ([1,2.00,2.26]\n",
    "               )\n",
    "print (\"X1 =\", X1)"
   ]
  },
  {
   "cell_type": "code",
   "execution_count": 29,
   "metadata": {
    "collapsed": false
   },
   "outputs": [
    {
     "name": "stdout",
     "output_type": "stream",
     "text": [
      "Layer2\n",
      "X1 = [ 1.    2.    2.26]\n",
      "W12 =\n",
      "[[ 12.7   -0.2   -0.74  -0.19]\n",
      " [ -1.49  -8.85   7.08  -8.29]\n",
      " [-19.85  -2.61  -3.59  -2.7 ]]\n",
      "Y2 = [-35.141  -23.7986   5.3066 -22.872 ]\n",
      "A2 = [  5.47592652e-16   4.61741961e-11   9.95065710e-01   1.16631701e-10]\n"
     ]
    }
   ],
   "source": [
    "# Layer 2 \n",
    "print (\"Layer2\")\n",
    "print (\"X1 =\", X1)\n",
    "W12 = np.array ([[12.70, -.20, -.74, -.19],\n",
    "                [-1.49, -8.85, 7.08, -8.29],\n",
    "                [-19.85, -2.61, -3.59, -2.70]])\n",
    "#W1 = np.random.randn(4, 3)\n",
    "\n",
    "W12\n",
    "print (\"W12 =\") \n",
    "print (W12)\n",
    "Y2 = X1.dot(W12)\n",
    "print (\"Y2 =\", Y2)\n",
    "A2 =1/(1+np.exp(-Y2))\n",
    "print (\"A2 =\", A2)"
   ]
  },
  {
   "cell_type": "code",
   "execution_count": 30,
   "metadata": {
    "collapsed": false,
    "scrolled": false
   },
   "outputs": [
    {
     "name": "stdout",
     "output_type": "stream",
     "text": [
      "Layer3\n",
      "A2 = [  5.47592652e-16   4.61741961e-11   9.95065710e-01   1.16631701e-10]\n",
      "W23 =\n",
      "[ 7.44  2.78 -4.31 -2.7 ]\n",
      "Y3 = -4.28873321065\n",
      "A3 = 0.0135365450529\n"
     ]
    }
   ],
   "source": [
    "# Layer 3 \n",
    "print (\"Layer3\")\n",
    "\n",
    "print (\"A2 =\", A2)\n",
    "W23 = np.array ([7.44,2.78,-4.31,-2.70])\n",
    "#W3 = np.random.randn(2, 3)\n",
    "print (\"W23 =\") \n",
    "print (W23)\n",
    "Y3 = A2.dot(W23) \n",
    "print (\"Y3 =\", Y3)\n",
    "A3 =1/(1+np.exp(-Y3))\n",
    "print (\"A3 =\", A3)"
   ]
  },
  {
   "cell_type": "code",
   "execution_count": null,
   "metadata": {
    "collapsed": true
   },
   "outputs": [],
   "source": []
  },
  {
   "cell_type": "code",
   "execution_count": null,
   "metadata": {
    "collapsed": true
   },
   "outputs": [],
   "source": []
  }
 ],
 "metadata": {
  "anaconda-cloud": {},
  "kernelspec": {
   "display_name": "Python [Root]",
   "language": "python",
   "name": "Python [Root]"
  },
  "language_info": {
   "codemirror_mode": {
    "name": "ipython",
    "version": 3
   },
   "file_extension": ".py",
   "mimetype": "text/x-python",
   "name": "python",
   "nbconvert_exporter": "python",
   "pygments_lexer": "ipython3",
   "version": "3.5.2"
  }
 },
 "nbformat": 4,
 "nbformat_minor": 0
}
