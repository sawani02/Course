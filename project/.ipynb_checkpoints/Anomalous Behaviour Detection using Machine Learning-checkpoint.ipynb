{
 "cells": [
  {
   "cell_type": "markdown",
   "metadata": {},
   "source": [
    "  "
   ]
  },
  {
   "cell_type": "markdown",
   "metadata": {},
   "source": [
    "<hr style=\"height:3px;border:none;color:#333;background-color:#333;\" />\n",
    "<img style=\" float:right; display:inline\" src=\"http://opencloud.utsa.edu/wp-content/themes/utsa-oci/images/logo.png\"/>\n",
    "\n",
    "### **University of Texas at San Antonio** \n",
    "<br/>\n",
    "<br/>\n",
    "<span style=\"color:#000; font-family: 'Bebas Neue'; font-size: 2.5em;\"> **Open Cloud Institute** </span>\n",
    "\n",
    "<hr style=\"height:3px;border:none;color:#333;background-color:#333;\" />"
   ]
  },
  {
   "cell_type": "markdown",
   "metadata": {
    "collapsed": true
   },
   "source": [
    "### Machine Learning/BigData EE-6973-001-Fall-2016\n",
    "\n",
    "<br/>\n",
    "<span style=\"color:#000; font-family: 'Bebas Neue'; font-size: 1.5em;\"> **Paul Rad, Ph.D.** </span>  \n",
    "\n",
    "\n",
    "<span style=\"color:#000; font-family: 'Bebas Neue'; font-size: 1.5em;\"> **Ali Miraftab, Research Fellow** </span>\n",
    "  \n",
    "\n",
    "<hr style=\"height:1.5px;border:none;color:#333;background-color:#333;\" />\n",
    "<hr style=\"height:1.5px;border:none;color:#333;background-color:#333;\" />"
   ]
  },
  {
   "cell_type": "markdown",
   "metadata": {},
   "source": [
    "<span style=\"color:#000; font-family: 'Bebas Neue'; font-size: 2em;\"> **Anomalous Behaviour Detection using Machine Learning** </span>  \n",
    "<br/>\n",
    "<br/>\n",
    "<span style=\"color:#000; font-family: 'Bebas Neue'; font-size: 1.6em;\"> Gonzalo De La Torre, Vivek Sarkale </span>  \n",
    "<span style=\"color:#000; font-family: 'Bebas Neue'; font-size: 1.4em;\"> *Open Cloud Institute, University of Texas at San Antonio, San Antonio, Texas, USA* </span>  \n",
    "<span style=\"color:#000; font-family: 'Bebas Neue'; font-size: 1.4em;\"> gonzalo.delatorreparra@utsa.edu, prn180@utsa.edu </span>\n",
    "<br/>\n",
    "<br/>"
   ]
  },
  {
   "cell_type": "markdown",
   "metadata": {},
   "source": [
    "<span style=\"color:#000; font-family: 'Bebas Neue'; font-size: 1.5em;\"> **Project Definition:** </span> <span style=\"color:#000; font-family: 'Bebas Neue'; font-size: 1.3em;\"> The purpose of this project is to create a Deep Learning  model  capable to distinguish anomalous network traffic from normal network traffic and gives the early warning of unusual behaviour by learning characteristics from normal data sets and flagging unseen pattern.Project development has two major steps </span>\n",
    "\n",
    "<span style=\"color:#000; font-family: 'Bebas Neue'; font-size: 1.3em;\"> 1. Data sets with anomalous and normal behaviour \n",
    "2. Develop a deep learning model to make decision </span>\n",
    "\n",
    "\n",
    "<span style=\"color:#000; font-family: 'Bebas Neue'; font-size: 1.3em;\"> We have gathered data sets which includes data packets with anomalous as well as normal behavior ,53.5 % data is abnormal and 46.5 % data is normal data. Out of abnormal data sets 42.8 % data we are going to use for training purpose and 10.7 % for the testing purpose . We have studied the parameters which makes drastic effect in decision making process . As per our datasets we consider as major parameters the ones listed below. The percentage listed next to each one of these is a percentage of effectiveness provided by the previous study performed at Aberystwyth in the UK. \n",
    "\n",
    "    Parameters                     Weight ( Effect in % ) \n",
    "    i) Index                       29 %\n",
    "    ii) URL                        12.6 %\n",
    "    iii) Payload                   13.8 %\n",
    "    iv) Cookies                    9.96 %\n",
    "    v) Content length              10.2 % \n",
    "\n",
    "Based on this dataset, we will proceed to develop our algorithm.\n",
    "\n",
    " </span>\n"
   ]
  },
  {
   "cell_type": "markdown",
   "metadata": {},
   "source": [
    "<span style=\"color:#000; font-family: 'Bebas Neue'; font-size: 1.5em;\"> **Outcome:** </span> <span style=\"color:#000; font-family: 'Bebas Neue'; font-size: 1.3em;\"> \n",
    "\n",
    "The expected outcomes include:\n",
    "\n",
    "1. Automated detection of abnormal traffic\n",
    "\n",
    "2. Capability to implement the algorithm in a cloud testbed\n",
    " </span>"
   ]
  },
  {
   "cell_type": "markdown",
   "metadata": {},
   "source": [
    "<span style=\"color:#000; font-family: 'Bebas Neue'; font-size: 1.5em;\"> **Dataset:** </span> <span style=\"color:#000; font-family: 'Bebas Neue'; font-size: 1.3em;\"> The dataset is based on the CSIC 2010 HTTP dataset http://isi.csic.es/dataset/. CSIC created the original dataset of HTTP/1.1 packets, including web application penetration testing packets and privided it with 2 labels (normal and anomalous). The dataset to be used is the same one used by the Aberystwyth University in the UK and can be found here:\n",
    "\n",
    "http://users.aber.ac.uk/pds7/csic_dataset/csic2010http.html </span> "
   ]
  }
 ],
 "metadata": {
  "kernelspec": {
   "display_name": "Python 3",
   "language": "python",
   "name": "python3"
  },
  "language_info": {
   "codemirror_mode": {
    "name": "ipython",
    "version": 3
   },
   "file_extension": ".py",
   "mimetype": "text/x-python",
   "name": "python",
   "nbconvert_exporter": "python",
   "pygments_lexer": "ipython3",
   "version": "3.4.3"
  }
 },
 "nbformat": 4,
 "nbformat_minor": 1
}
